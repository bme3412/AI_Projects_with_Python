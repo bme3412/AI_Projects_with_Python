{
 "cells": [
  {
   "cell_type": "code",
   "execution_count": 4,
   "id": "1a97d5d7-ffec-47a9-b22c-bdadbb9c2d18",
   "metadata": {},
   "outputs": [],
   "source": [
    "import pandas as pd\n",
    "from llama_index.evaluation import DatasetGenerator, RelevancyEvaluator\n",
    "from llama_index import (\n",
    "    SimpleDirectoryReader,\n",
    "    VectorStoreIndex,\n",
    "    ServiceContext,\n",
    "    Response,\n",
    ")\n",
    "from llama_index.llms import OpenAI\n",
    "import nest_asyncio\n",
    "nest_asyncio.apply()"
   ]
  },
  {
   "cell_type": "code",
   "execution_count": 9,
   "id": "068094b6-b0d2-4472-97ff-c221fd06709a",
   "metadata": {},
   "outputs": [
    {
     "name": "stderr",
     "output_type": "stream",
     "text": [
      "/Users/brendan/Desktop - Brendan’s MacBook Air/llm/lib/python3.10/site-packages/llama_index/evaluation/dataset_generation.py:184: DeprecationWarning: Call to deprecated class DatasetGenerator. (Deprecated in favor of `RagDatasetGenerator` which should be used instead.)\n",
      "  return cls(\n"
     ]
    }
   ],
   "source": [
    "reader = SimpleDirectoryReader(\"./data/\")\n",
    "documents = reader.load_data()\n",
    "index = VectorStoreIndex.from_documents(documents)\n",
    "\n",
    "data_generator = DatasetGenerator.from_documents(documents)"
   ]
  },
  {
   "cell_type": "code",
   "execution_count": 10,
   "id": "8c3c9d91-0224-42fb-9826-d2a7fc3ce388",
   "metadata": {},
   "outputs": [
    {
     "name": "stderr",
     "output_type": "stream",
     "text": [
      "/Users/brendan/Desktop - Brendan’s MacBook Air/llm/lib/python3.10/site-packages/llama_index/evaluation/dataset_generation.py:279: DeprecationWarning: Call to deprecated class QueryResponseDataset. (Deprecated in favor of `LabelledRagDataset` which should be used instead.)\n",
      "  return QueryResponseDataset(queries=queries, responses=responses_dict)\n"
     ]
    }
   ],
   "source": [
    "eval_questions = data_generator.generate_questions_from_nodes()"
   ]
  },
  {
   "cell_type": "code",
   "execution_count": 14,
   "id": "b9ed9df3-e04b-4bf6-8f72-36e773285d39",
   "metadata": {},
   "outputs": [],
   "source": [
    "query_engine = index.as_query_engine()\n",
    "data = []\n",
    "\n",
    "# Loop through each query, get response, and store data in the list\n",
    "for query in eval_questions:\n",
    "    response = query_engine.query(query)\n",
    "    #print(query, response)  # You can remove this print statement if you no longer need to print each query and response\n",
    "    data.append({'query': query, 'response': response})\n",
    "\n",
    "# Convert the list of dictionaries into a pandas DataFrame\n",
    "df = pd.DataFrame(data)"
   ]
  },
  {
   "cell_type": "code",
   "execution_count": 15,
   "id": "dc199e29-aa0a-4160-8616-7929a511e931",
   "metadata": {},
   "outputs": [
    {
     "data": {
      "text/html": [
       "<div>\n",
       "<style scoped>\n",
       "    .dataframe tbody tr th:only-of-type {\n",
       "        vertical-align: middle;\n",
       "    }\n",
       "\n",
       "    .dataframe tbody tr th {\n",
       "        vertical-align: top;\n",
       "    }\n",
       "\n",
       "    .dataframe thead th {\n",
       "        text-align: right;\n",
       "    }\n",
       "</style>\n",
       "<table border=\"1\" class=\"dataframe\">\n",
       "  <thead>\n",
       "    <tr style=\"text-align: right;\">\n",
       "      <th></th>\n",
       "      <th>query</th>\n",
       "      <th>response</th>\n",
       "    </tr>\n",
       "  </thead>\n",
       "  <tbody>\n",
       "    <tr>\n",
       "      <th>0</th>\n",
       "      <td>What was the revenue for NVIDIA in the third q...</td>\n",
       "      <td>The revenue for NVIDIA in the third quarter of...</td>\n",
       "    </tr>\n",
       "    <tr>\n",
       "      <th>1</th>\n",
       "      <td>How did the data center revenue perform in the...</td>\n",
       "      <td>The data center revenue in the third quarter p...</td>\n",
       "    </tr>\n",
       "    <tr>\n",
       "      <th>2</th>\n",
       "      <td>What were the reasons for the decline in gamin...</td>\n",
       "      <td>The decline in gaming and pro visualization pl...</td>\n",
       "    </tr>\n",
       "    <tr>\n",
       "      <th>3</th>\n",
       "      <td>What factors contributed to the year-on-year g...</td>\n",
       "      <td>The factors that contributed to the year-on-ye...</td>\n",
       "    </tr>\n",
       "    <tr>\n",
       "      <th>4</th>\n",
       "      <td>How did macroeconomic challenges, export contr...</td>\n",
       "      <td>NVIDIA's performance in the third quarter was ...</td>\n",
       "    </tr>\n",
       "  </tbody>\n",
       "</table>\n",
       "</div>"
      ],
      "text/plain": [
       "                                               query  \\\n",
       "0  What was the revenue for NVIDIA in the third q...   \n",
       "1  How did the data center revenue perform in the...   \n",
       "2  What were the reasons for the decline in gamin...   \n",
       "3  What factors contributed to the year-on-year g...   \n",
       "4  How did macroeconomic challenges, export contr...   \n",
       "\n",
       "                                            response  \n",
       "0  The revenue for NVIDIA in the third quarter of...  \n",
       "1  The data center revenue in the third quarter p...  \n",
       "2  The decline in gaming and pro visualization pl...  \n",
       "3  The factors that contributed to the year-on-ye...  \n",
       "4  NVIDIA's performance in the third quarter was ...  "
      ]
     },
     "execution_count": 15,
     "metadata": {},
     "output_type": "execute_result"
    }
   ],
   "source": [
    "df.head()"
   ]
  },
  {
   "cell_type": "code",
   "execution_count": 16,
   "id": "c08b37e6-81f0-4864-ba85-c5604c41bc75",
   "metadata": {},
   "outputs": [],
   "source": [
    "df.to_csv('NVDA_Q3.csv')"
   ]
  },
  {
   "cell_type": "code",
   "execution_count": null,
   "id": "0d7c54a0-faeb-4956-96d0-febe0c840578",
   "metadata": {},
   "outputs": [],
   "source": []
  }
 ],
 "metadata": {
  "kernelspec": {
   "display_name": "Python 3 (ipykernel)",
   "language": "python",
   "name": "python3"
  },
  "language_info": {
   "codemirror_mode": {
    "name": "ipython",
    "version": 3
   },
   "file_extension": ".py",
   "mimetype": "text/x-python",
   "name": "python",
   "nbconvert_exporter": "python",
   "pygments_lexer": "ipython3",
   "version": "3.10.8"
  }
 },
 "nbformat": 4,
 "nbformat_minor": 5
}
