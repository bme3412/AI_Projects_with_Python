{
 "cells": [
  {
   "cell_type": "code",
   "execution_count": 1,
   "id": "0808252b",
   "metadata": {},
   "outputs": [],
   "source": [
    "## analyze Wikipedia articles of differnet cities"
   ]
  },
  {
   "cell_type": "code",
   "execution_count": 2,
   "id": "cc193cfd",
   "metadata": {},
   "outputs": [],
   "source": [
    "from pathlib import Path\n",
    "import requests\n",
    "from llama_index import SimpleDirectoryReader"
   ]
  },
  {
   "cell_type": "code",
   "execution_count": 3,
   "id": "e642025f",
   "metadata": {},
   "outputs": [],
   "source": [
    "wiki_titles = ['Toronto','Seattle','Chicago','Boston','Houston',]\n",
    "\n",
    "for title in wiki_titles:\n",
    "    response = requests.get(\n",
    "        \"https://en.wikipedia.org/w/api.php\",\n",
    "        params={\n",
    "            \"action\": \"query\",\n",
    "            \"format\": \"json\",\n",
    "            \"titles\": title,\n",
    "            \"prop\": \"extracts\",\n",
    "            # 'exintro': True,\n",
    "            \"explaintext\": True,\n",
    "        },\n",
    "    ).json()\n",
    "    page = next(iter(response['query']['pages'].values()))\n",
    "    wiki_text = page['extract']\n",
    "    \n",
    "    data_path = Path('data')\n",
    "    if not data_path.exists():\n",
    "        Path.mkdir(data_path)\n",
    "        \n",
    "    with open(data_path / f\"{title}.txt\",'w') as fp:\n",
    "        fp.write(wiki_text)"
   ]
  },
  {
   "cell_type": "code",
   "execution_count": 4,
   "id": "5d7fbf4a",
   "metadata": {},
   "outputs": [],
   "source": [
    "# load all wiki documents\n",
    "city_docs = {}\n",
    "for wiki_title in wiki_titles:\n",
    "    city_docs[wiki_title] = SimpleDirectoryReader(\n",
    "        input_files=[f\"data/{wiki_title}.txt\"]).load_data()"
   ]
  },
  {
   "cell_type": "markdown",
   "id": "9c427846",
   "metadata": {},
   "source": [
    "## Defining set of indexes"
   ]
  },
  {
   "cell_type": "code",
   "execution_count": 5,
   "id": "a7aace5e",
   "metadata": {},
   "outputs": [],
   "source": [
    "# define a vector index over the documetns of each city\n",
    "\n",
    "from llama_index import VectorStoreIndex, ServiceContext, StorageContext, SimpleKeywordTableIndex\n",
    "from llama_index.llms import OpenAI\n",
    "\n",
    "# set service context\n",
    "llm_gpt4 = OpenAI(temperature=0, model='gpt-4')\n",
    "service_context = ServiceContext.from_defaults(llm=llm_gpt4, chunk_size=1024)\n",
    "\n",
    "# Build city document index\n",
    "vector_indices = {}\n",
    "for wiki_title in wiki_titles:\n",
    "    storage_context = StorageContext.from_defaults()\n",
    "    # build vector index\n",
    "    vector_indices[wiki_title] = VectorStoreIndex.from_documents(\n",
    "        city_docs[wiki_title],\n",
    "        service_context=service_context,\n",
    "        storage_context=storage_context)\n",
    "    # set id for vector index\n",
    "    vector_indices[wiki_title].index_struct.index_id = wiki_title\n",
    "    # persist to disk\n",
    "    storage_context.persist(persist_dir=f\"./storage/{wiki_title}\")"
   ]
  },
  {
   "cell_type": "code",
   "execution_count": 6,
   "id": "bd36197f",
   "metadata": {},
   "outputs": [
    {
     "name": "stdout",
     "output_type": "stream",
     "text": [
      "Boston is home to several professional sports teams. These include the New England Patriots and the Boston Red Sox in football and baseball respectively. The city also has the Boston Bruins in the National Hockey League and the Boston Celtics in the National Basketball Association. In addition to these, Boston has esports teams such as the Boston Uprising in the Overwatch League and the Boston Breach in the Call of Duty League. The New England Revolution of Major League Soccer also share Gillette Stadium with the Patriots.\n"
     ]
    }
   ],
   "source": [
    "## Querying a vector index lets perform sematnic search\n",
    "response = (\n",
    "    vector_indices['Boston']\n",
    "    .as_query_engine()\n",
    "    .query(\"What are the sports teams in Boston?\"))\n",
    "\n",
    "print(str(response))"
   ]
  },
  {
   "cell_type": "markdown",
   "id": "80f28028",
   "metadata": {},
   "source": [
    "## Defining a Graph for Compare/Contrast"
   ]
  },
  {
   "cell_type": "code",
   "execution_count": 7,
   "id": "ee656395",
   "metadata": {},
   "outputs": [],
   "source": [
    "# define a composed graph\n",
    "# contains a keyword table composed on top of existing indexes\n",
    "\n",
    "# set the summary text for each vector index\n",
    "index_summaries = {}\n",
    "for wiki_title in wiki_titles:\n",
    "    # set summary text for city\n",
    "    index_summaries[wiki_title] = (\n",
    "        f\"This content contains Wikipedia articles about {wiki_title}. \"\n",
    "        f\"Use this index if you need to look up specific facts about {wiki_title}.\\n\"\n",
    "    )"
   ]
  },
  {
   "cell_type": "code",
   "execution_count": 8,
   "id": "6668f8c9",
   "metadata": {},
   "outputs": [],
   "source": [
    "# next compose a keyord table on top of vecotr indexes\n",
    "from llama_index.indices.composability import ComposableGraph\n",
    "\n",
    "graph = ComposableGraph.from_indices(\n",
    "    SimpleKeywordTableIndex,\n",
    "    [index for _, index in vector_indices.items()],\n",
    "    [summary for _, summary in index_summaries.items()],\n",
    "    max_keywords_per_chunk=50,)\n",
    "\n",
    "# gt root index\n",
    "root_index = graph.get_index(graph.index_struct.index_id)\n",
    "\n",
    "# set id of root index\n",
    "root_index.set_index_id('compare_contrast')\n",
    "root_summary = (\n",
    "    'This index contains Wikipedia articles about mutliple cities. '\n",
    "    'Use this index if you want to compare multiple cities. '\n",
    ")"
   ]
  },
  {
   "cell_type": "code",
   "execution_count": 9,
   "id": "833be937",
   "metadata": {},
   "outputs": [
    {
     "name": "stdout",
     "output_type": "stream",
     "text": [
      "\u001b[1;3;33m> Current query: Compare and contrast the arts and culture of Houston and Boston. \n",
      "\u001b[0m\u001b[1;3;38;5;200m> New query: What is the arts and culture scene like in Houston?\n",
      "\u001b[0m\u001b[1;3;33m> Current query: Compare and contrast the arts and culture of Houston and Boston. \n",
      "\u001b[0m\u001b[1;3;38;5;200m> New query: What is the arts and culture scene like in Houston?\n",
      "\u001b[0m\u001b[1;3;33m> Current query: Compare and contrast the arts and culture of Houston and Boston. \n",
      "\u001b[0m\u001b[1;3;38;5;200m> New query: What is the arts and culture scene like in Houston?\n",
      "\u001b[0m\u001b[1;3;33m> Current query: Compare and contrast the arts and culture of Houston and Boston. \n",
      "\u001b[0m\u001b[1;3;38;5;200m> New query: What is the arts and culture scene like in Houston?\n",
      "\u001b[0m"
     ]
    }
   ],
   "source": [
    "# define decompose_transform\n",
    "from llama_index.indices.query.query_transform.base import (\n",
    "    DecomposeQueryTransform,\n",
    ")\n",
    "\n",
    "decompose_transform = DecomposeQueryTransform(llm=llm_gpt4, verbose=True)\n",
    "\n",
    "# define custom query engines\n",
    "from llama_index.query_engine.transform_query_engine import (\n",
    "    TransformQueryEngine,\n",
    ")\n",
    "\n",
    "custom_query_engines = {}\n",
    "for index in vector_indices.values():\n",
    "    query_engine = index.as_query_engine(service_context=service_context)\n",
    "    query_engine = TransformQueryEngine(\n",
    "        query_engine,\n",
    "        query_transform=decompose_transform,\n",
    "        #transform_extra_info={\"index_summary\": index.index_struct.summary},\n",
    "    )\n",
    "    custom_query_engines[index.index_id] = query_engine\n",
    "custom_query_engines[graph.root_id] = graph.root_index.as_query_engine(\n",
    "    retriever_mode=\"simple\",\n",
    "    response_mode=\"tree_summarize\",\n",
    "    service_context=service_context,\n",
    ")\n",
    "\n",
    "# define query engine\n",
    "query_engine = graph.as_query_engine(custom_query_engines=custom_query_engines)\n",
    "\n",
    "# query the graph\n",
    "query_str = \"Compare and contrast the arts and culture of Houston and Boston. \"\n",
    "response_chatgpt = query_engine.query(query_str)"
   ]
  },
  {
   "cell_type": "markdown",
   "id": "63832642",
   "metadata": {},
   "source": [
    "## Defining unified query interface"
   ]
  },
  {
   "cell_type": "code",
   "execution_count": 10,
   "id": "3f234e89",
   "metadata": {},
   "outputs": [],
   "source": [
    "from llama_index.tools.query_engine import QueryEngineTool\n",
    "\n",
    "query_engine_tools = []\n",
    "\n",
    "# add vector index tools\n",
    "for wiki_title in wiki_titles:\n",
    "    index = vector_indices[wiki_title]\n",
    "    summary = index_summaries[wiki_title]\n",
    "\n",
    "    query_engine = index.as_query_engine(service_context=service_context)\n",
    "    vector_tool = QueryEngineTool.from_defaults(\n",
    "        query_engine, description=summary\n",
    "    )\n",
    "    query_engine_tools.append(vector_tool)\n",
    "\n",
    "\n",
    "# add graph tool\n",
    "graph_description = (\n",
    "    \"This tool contains Wikipedia articles about multiple cities. \"\n",
    "    \"Use this tool if you want to compare multiple cities. \"\n",
    ")\n",
    "graph_tool = QueryEngineTool.from_defaults(\n",
    "    query_engine, description=graph_description\n",
    ")\n",
    "query_engine_tools.append(graph_tool)"
   ]
  },
  {
   "cell_type": "code",
   "execution_count": 11,
   "id": "3898e767",
   "metadata": {},
   "outputs": [],
   "source": [
    "## define routing\n",
    "from llama_index.query_engine.router_query_engine import RouterQueryEngine\n",
    "from llama_index.selectors.llm_selectors import LLMSingleSelector\n",
    "\n",
    "\n",
    "router_query_engine = RouterQueryEngine(\n",
    "    selector=LLMSingleSelector.from_defaults(service_context=service_context),\n",
    "    query_engine_tools=query_engine_tools,\n",
    ")"
   ]
  },
  {
   "cell_type": "markdown",
   "id": "8bc0b980",
   "metadata": {},
   "source": [
    "## Querifying unified interface"
   ]
  },
  {
   "cell_type": "code",
   "execution_count": 12,
   "id": "b1a61dcb",
   "metadata": {},
   "outputs": [
    {
     "name": "stdout",
     "output_type": "stream",
     "text": [
      "The sports of Houston and Boston cannot be compared or contrasted based on the given context information.\n"
     ]
    }
   ],
   "source": [
    "# ask a compare/contrast question\n",
    "response = router_query_engine.query(\n",
    "    \"Compare and contrast the sports of Houston and Boston.\",\n",
    ")\n",
    "print(str(response))"
   ]
  },
  {
   "cell_type": "code",
   "execution_count": 13,
   "id": "1e1e4352",
   "metadata": {},
   "outputs": [
    {
     "name": "stdout",
     "output_type": "stream",
     "text": [
      "Boston is home to several professional sports teams including the New England Patriots in the National Football League, the Boston Red Sox in Major League Baseball, the Boston Bruins in the National Hockey League, and the Boston Celtics in the National Basketball Association. In addition to these, Boston also has esports teams such as the Boston Uprising in the Overwatch League and the Boston Breach in the Call of Duty League. The city also hosts the New England Revolution of Major League Soccer.\n"
     ]
    }
   ],
   "source": [
    "response = router_query_engine.query(\"What are the sports teams in Boston?\")\n",
    "print(str(response))"
   ]
  },
  {
   "cell_type": "code",
   "execution_count": null,
   "id": "99e201b1",
   "metadata": {},
   "outputs": [],
   "source": []
  }
 ],
 "metadata": {
  "kernelspec": {
   "display_name": "Python (llm)",
   "language": "python",
   "name": "llm"
  },
  "language_info": {
   "codemirror_mode": {
    "name": "ipython",
    "version": 3
   },
   "file_extension": ".py",
   "mimetype": "text/x-python",
   "name": "python",
   "nbconvert_exporter": "python",
   "pygments_lexer": "ipython3",
   "version": "3.10.8"
  }
 },
 "nbformat": 4,
 "nbformat_minor": 5
}
