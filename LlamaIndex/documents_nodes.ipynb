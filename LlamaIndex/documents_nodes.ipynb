{
 "cells": [
  {
   "cell_type": "markdown",
   "id": "f2a1bfb7",
   "metadata": {},
   "source": [
    "## Documents/Nodes"
   ]
  },
  {
   "cell_type": "markdown",
   "id": "684080a3",
   "metadata": {},
   "source": [
    "+ a **Document** is a container around any data source; ex: PDF file, an API output or a retrieved data from a database\n",
    "+ by default -- a Document stores text and attributes such as metadata and relationships"
   ]
  },
  {
   "cell_type": "markdown",
   "id": "8d990db5",
   "metadata": {},
   "source": [
    "+ A **node** is a \"chunk\" of a source document - also contains metadata and relationship info"
   ]
  },
  {
   "cell_type": "markdown",
   "id": "25ce0c72",
   "metadata": {},
   "source": [
    "## Usag Pattern"
   ]
  },
  {
   "cell_type": "markdown",
   "id": "aac7eccd",
   "metadata": {},
   "source": [
    "**Documents**"
   ]
  },
  {
   "cell_type": "code",
   "execution_count": 2,
   "id": "f9b68526",
   "metadata": {},
   "outputs": [],
   "source": [
    "from llama_index import Document, VectorStoreIndex, SimpleDirectoryReader\n",
    "\n",
    "#text_list = [text1, text2, ...]\n",
    "#documents = [Document(text=t) for t in text_list]\n",
    "documents = SimpleDirectoryReader(\"data\").load_data()\n",
    "\n",
    "#build index\n",
    "index = VectorStoreIndex.from_documents(documents)"
   ]
  },
  {
   "cell_type": "markdown",
   "id": "1551a0cf",
   "metadata": {},
   "source": [
    "### Nodes"
   ]
  },
  {
   "cell_type": "code",
   "execution_count": 3,
   "id": "dd08c330",
   "metadata": {},
   "outputs": [],
   "source": [
    "from llama_index.node_parser import SentenceSplitter\n",
    "\n",
    "# parse nodes\n",
    "parser = SentenceSplitter()\n",
    "nodes = parser.get_nodes_from_documents(documents)\n",
    "\n",
    "# build index\n",
    "index = VectorStoreIndex(nodes)"
   ]
  },
  {
   "cell_type": "code",
   "execution_count": 4,
   "id": "01263714",
   "metadata": {},
   "outputs": [
    {
     "name": "stdout",
     "output_type": "stream",
     "text": [
      "<llama_index.indices.vector_store.base.VectorStoreIndex object at 0x15381f910>\n"
     ]
    }
   ],
   "source": [
    "print(index)"
   ]
  },
  {
   "cell_type": "code",
   "execution_count": null,
   "id": "28936504",
   "metadata": {},
   "outputs": [],
   "source": []
  }
 ],
 "metadata": {
  "kernelspec": {
   "display_name": "Python (llm)",
   "language": "python",
   "name": "llm"
  },
  "language_info": {
   "codemirror_mode": {
    "name": "ipython",
    "version": 3
   },
   "file_extension": ".py",
   "mimetype": "text/x-python",
   "name": "python",
   "nbconvert_exporter": "python",
   "pygments_lexer": "ipython3",
   "version": "3.10.8"
  }
 },
 "nbformat": 4,
 "nbformat_minor": 5
}
