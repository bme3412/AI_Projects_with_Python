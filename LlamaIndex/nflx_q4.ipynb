{
 "cells": [
  {
   "cell_type": "code",
   "execution_count": 33,
   "id": "823bcb7a-d352-483d-92e9-ff25bddd3ecd",
   "metadata": {},
   "outputs": [],
   "source": [
    "from llama_index import VectorStoreIndex, SimpleDirectoryReader\n",
    "import nest_asyncio\n",
    "import asyncio\n",
    "import pandas as pd\n",
    "\n",
    "nest_asyncio.apply()"
   ]
  },
  {
   "cell_type": "code",
   "execution_count": 34,
   "id": "845a6df2-bcfe-4f3d-8ee1-d63c1c011f2a",
   "metadata": {},
   "outputs": [
    {
     "name": "stderr",
     "output_type": "stream",
     "text": [
      "/Users/brendan/Desktop - Brendan’s MacBook Air/llm/lib/python3.10/site-packages/pypdf/_utils.py:234: RuntimeWarning: coroutine 'DatasetGenerator.agenerate_questions_from_nodes' was never awaited\n",
      "  m = regex.search(name + tok)\n",
      "RuntimeWarning: Enable tracemalloc to get the object allocation traceback\n"
     ]
    }
   ],
   "source": [
    "documents = SimpleDirectoryReader('data').load_data()\n",
    "index = VectorStoreIndex.from_documents(documents)"
   ]
  },
  {
   "cell_type": "code",
   "execution_count": 35,
   "id": "9c037c36-f5bb-4f77-aa65-e1bc5f77f6e1",
   "metadata": {},
   "outputs": [
    {
     "name": "stdout",
     "output_type": "stream",
     "text": [
      "They provided a forecast for Q1 2024 of 13% revenue growth on an F/X neutral basis.\n"
     ]
    }
   ],
   "source": [
    "# Query the data\n",
    "query_engine = index.as_query_engine()\n",
    "response = query_engine.query('What forecast did they provide for Q1 2024? for revenue and revenue growth rate on an F/X neutral basis?')\n",
    "print(response)"
   ]
  },
  {
   "cell_type": "markdown",
   "id": "0f8850b2-54bc-4cbf-8a7b-a04e6223b3b4",
   "metadata": {},
   "source": [
    "## \"I want to parse my data into smaller chunks\""
   ]
  },
  {
   "cell_type": "code",
   "execution_count": 36,
   "id": "0f8c0d10-b627-4b80-8d8b-5e7a68456e20",
   "metadata": {},
   "outputs": [
    {
     "name": "stdout",
     "output_type": "stream",
     "text": [
      "The strength of non-English programming was mentioned, including titles like Lupin S3 from France, Elite S7, and the movie Nowhere from Spain.\n"
     ]
    }
   ],
   "source": [
    "from llama_index import ServiceContext\n",
    "service_context = ServiceContext.from_defaults(chunk_size=200)\n",
    "documents = SimpleDirectoryReader('data').load_data()\n",
    "index = VectorStoreIndex.from_documents(documents, service_context=service_context)\n",
    "\n",
    "query_engine = index.as_query_engine()\n",
    "response = query_engine.query('What did they say about the strength of non-English programming?')\n",
    "print(response)"
   ]
  },
  {
   "cell_type": "markdown",
   "id": "e49f6426-15d2-49a8-beec-7703885f89bc",
   "metadata": {},
   "source": [
    "## I want to retrieve more context when I query\""
   ]
  },
  {
   "cell_type": "code",
   "execution_count": 37,
   "id": "eaa03e22-d277-4d08-8ece-a9d0d7bf607c",
   "metadata": {},
   "outputs": [
    {
     "name": "stdout",
     "output_type": "stream",
     "text": [
      "The strength of non-English programming was mentioned, including titles like Lupin S3 from France, Elite S7, and the movie Nowhere from Spain.\n"
     ]
    }
   ],
   "source": [
    "query_engine = index.as_query_engine(similarity_top_k=5)\n",
    "response = query_engine.query('What did they say about the strength of non-English programming?')\n",
    "print(response)"
   ]
  },
  {
   "cell_type": "markdown",
   "id": "04d7674f-89a6-4d8d-a877-d2df20ff1249",
   "metadata": {},
   "source": [
    "## Low level API"
   ]
  },
  {
   "cell_type": "code",
   "execution_count": 38,
   "id": "5f3de596-5451-42dc-addc-83209a1ea19d",
   "metadata": {},
   "outputs": [],
   "source": [
    "from llama_index import Response\n",
    "from llama_index.retrievers import VectorIndexRetriever\n",
    "from llama_index.query_engine import RetrieverQueryEngine\n",
    "from llama_index.indices.postprocessor import SimilarityPostprocessor\n",
    "from llama_index.response_synthesizers import (ResponseMode, get_response_synthesizer)"
   ]
  },
  {
   "cell_type": "code",
   "execution_count": 39,
   "id": "6cd4c917-f9e8-436d-928e-6ad51ba1c8df",
   "metadata": {},
   "outputs": [
    {
     "name": "stdout",
     "output_type": "stream",
     "text": [
      "NFLX provided an outlook for 2024 in their shareholder letter. They mentioned that they expect a high single-digit percentage year-over-year increase in content amortization. However, the specific revenue outlook for 2024 is not mentioned in the given context. Regarding the operating margin, NFLX increased their full-year 2024 operating margin forecast from 22%-23% to 24% based on FX rates as of January 1, 2024. They mentioned that this reflects the weakening of the US dollar against most other currencies since October and their stronger-than-forecasted Q4'23 performance.\n"
     ]
    }
   ],
   "source": [
    "# build index\n",
    "index =VectorStoreIndex.from_documents(documents)\n",
    "\n",
    "# configure retriever\n",
    "retriever = VectorIndexRetriever(\n",
    "    index=index,\n",
    "    similarity_top_k=2,\n",
    ")\n",
    "\n",
    "# configure response synthesizer\n",
    "response_synthesizer = get_response_synthesizer(response_mode=ResponseMode.COMPACT)\n",
    "\n",
    "# assemble query engine\n",
    "query_engine= RetrieverQueryEngine(\n",
    "    retriever=retriever,\n",
    "    response_synthesizer=response_synthesizer,\n",
    ")\n",
    "\n",
    "# query\n",
    "response = query_engine.query('What outlook did NFLX provide for outlook for 2024?, start with revenue, then operating margin')\n",
    "print(response)"
   ]
  },
  {
   "cell_type": "code",
   "execution_count": 40,
   "id": "3ccf5cfe-0994-4c2f-b78f-2563582c6146",
   "metadata": {},
   "outputs": [
    {
     "name": "stdout",
     "output_type": "stream",
     "text": [
      "NFLX provided an outlook for 2024 in their shareholder letter. They mentioned that they expect a high single-digit percentage year-over-year increase in content amortization. However, the specific revenue outlook for 2024 is not mentioned in the given context. Regarding the operating margin, NFLX increased their full-year 2024 operating margin forecast from 22%-23% to 24% based on FX rates as of January 1, 2024.\n",
      "NFLX provided an outlook for 2024 in their shareholder letter. They mentioned that they expect a high single-digit percentage year-over-year increase in content amortization. However, the specific revenue outlook for 2024 is not mentioned in the given context. Regarding the operating margin, NFLX increased their full-year 2024 operating margin forecast from 22%-23% to 24% based on FX rates as of January 1, 2024. They attributed this increase to the weakening of the US dollar against most other currencies since October and their stronger-than-forecasted Q4'23 performance.\n",
      "NFLX provided an outlook for 2024 in terms of revenue and operating margin. They mentioned that they expect a high single-digit percentage year-over-year increase in content amortization for FY24. However, the specific revenue outlook for 2024 is not mentioned in the given context. In terms of operating margin, NFLX increased their full-year 2024 operating margin forecast from 22%-23% to 24%. This increase is based on the weakening of the US dollar against most other currencies since October, as well as their stronger-than-forecasted Q4'23 performance.\n"
     ]
    }
   ],
   "source": [
    "# default\n",
    "query_engine=RetrieverQueryEngine.from_args(retriever, response_mode='simple_summarize')\n",
    "response = query_engine.query('What outlook did NFLX provide for outlook for 2024?, start with revenue, then operating margin')\n",
    "print(response)\n",
    "# compact\n",
    "query_engine=RetrieverQueryEngine.from_args(retriever, response_mode='compact')\n",
    "response = query_engine.query('What outlook did NFLX provide for outlook for 2024?, start with revenue, then operating margin')\n",
    "print(response)\n",
    "\n",
    "# tree summaraize\n",
    "query_engine=RetrieverQueryEngine.from_args(retriever, response_mode='tree_summarize')\n",
    "response = query_engine.query('What outlook did NFLX provide for outlook for 2024?, start with revenue, then operating margin')\n",
    "print(response)"
   ]
  },
  {
   "cell_type": "code",
   "execution_count": 41,
   "id": "811b15e9-9e69-464d-9d4d-6e040edc7db5",
   "metadata": {},
   "outputs": [],
   "source": [
    "from llama_index.evaluation import DatasetGenerator, RelevancyEvaluator\n",
    "from llama_index import (\n",
    "    SimpleDirectoryReader,\n",
    "    VectorStoreIndex,\n",
    "    ServiceContext,\n",
    "    Response,\n",
    ")\n",
    "from llama_index.llms import OpenAI"
   ]
  },
  {
   "cell_type": "code",
   "execution_count": 42,
   "id": "823106b7-9c2b-44d1-8ec0-18c82f193879",
   "metadata": {},
   "outputs": [
    {
     "name": "stderr",
     "output_type": "stream",
     "text": [
      "/Users/brendan/Desktop - Brendan’s MacBook Air/llm/lib/python3.10/site-packages/llama_index/evaluation/dataset_generation.py:184: DeprecationWarning: Call to deprecated class DatasetGenerator. (Deprecated in favor of `RagDatasetGenerator` which should be used instead.)\n",
      "  return cls(\n",
      "/Users/brendan/Desktop - Brendan’s MacBook Air/llm/lib/python3.10/site-packages/llama_index/evaluation/dataset_generation.py:279: DeprecationWarning: Call to deprecated class QueryResponseDataset. (Deprecated in favor of `LabelledRagDataset` which should be used instead.)\n",
      "  return QueryResponseDataset(queries=queries, responses=responses_dict)\n"
     ]
    }
   ],
   "source": [
    "reader = SimpleDirectoryReader(\"data\")\n",
    "documents = reader.load_data()\n",
    "data_generator = DatasetGenerator.from_documents(documents)\n",
    "eval_questions = data_generator.generate_questions_from_nodes()"
   ]
  },
  {
   "cell_type": "code",
   "execution_count": 43,
   "id": "7fb3ab74-0267-41c3-83b8-8c745becb872",
   "metadata": {},
   "outputs": [
    {
     "name": "stderr",
     "output_type": "stream",
     "text": [
      "/Users/brendan/Desktop - Brendan’s MacBook Air/llm/lib/python3.10/site-packages/llama_index/evaluation/dataset_generation.py:279: DeprecationWarning: Call to deprecated class QueryResponseDataset. (Deprecated in favor of `LabelledRagDataset` which should be used instead.)\n",
      "  return QueryResponseDataset(queries=queries, responses=responses_dict)\n"
     ]
    }
   ],
   "source": [
    "eval_questions = data_generator.generate_questions_from_nodes()"
   ]
  },
  {
   "cell_type": "code",
   "execution_count": 44,
   "id": "a45cb0c7-fa16-465b-b546-a7c6d58ddc7b",
   "metadata": {},
   "outputs": [
    {
     "data": {
      "text/plain": [
       "['What were the key financial objectives set by Netflix at the start of 2023?',\n",
       " \"How did Netflix's revenue growth in 2023 compare to the previous year?\",\n",
       " \"What was Netflix's operating margin for FY23 and how did it compare to the target?\",\n",
       " 'How much free cash flow did Netflix generate in 2023?',\n",
       " 'What are the big opportunities Netflix sees for 2024?',\n",
       " 'How does Netflix plan to increase its value to members in 2024?',\n",
       " 'What new revenue and profit pool does Netflix plan to tap into in 2024?',\n",
       " 'How does Netflix plan to deepen its connection with fans in 2024?',\n",
       " \"What is Netflix's north star and how does it contribute to the company's growth?\",\n",
       " 'What are the forecasted revenue and operating income for Q1 2024?',\n",
       " 'What was the year-over-year growth in revenue in Q4?',\n",
       " \"How did the company's operating income and operating margin in Q4 compare to the previous year?\",\n",
       " 'What factors contributed to the higher-than-anticipated membership growth in Q4?',\n",
       " \"What was the company's EPS in the fourth quarter and how did it compare to the forecast?\",\n",
       " 'What were the primary financial metrics the company focuses on for profitability?',\n",
       " \"What are the company's goals for sustained revenue growth?\",\n",
       " 'How does the company plan to make its ads business a more substantial revenue stream?',\n",
       " 'What is the forecasted revenue growth for Q1 of the next year?',\n",
       " 'What is the expected impact of foreign exchange rates on revenue growth in Q1?',\n",
       " 'How does the company expect paid net additions to change in Q1 compared to the previous year?',\n",
       " 'What is the forecasted operating margin for the full year 2024?',\n",
       " 'What factors contributed to the increase in the operating margin forecast?',\n",
       " 'How has the US dollar performed against other currencies since October?',\n",
       " 'Is the company fully hedged against foreign exchange risk?',\n",
       " 'How does the company plan to manage and guide towards a FX neutral operating margin target?',\n",
       " \"How has the company's operating margin expanded over the years?\",\n",
       " \"What is the company's perspective on the streaming industry?\",\n",
       " \"How has Netflix's business performance been since its global launch in 2016?\",\n",
       " \"What is the company's stance on further consolidation in the entertainment industry?\",\n",
       " 'What are the factors that contribute to the highly competitive nature of the entertainment industry?',\n",
       " 'What is the file type of the document mentioned in the context information?',\n",
       " 'How many original TV series did Netflix have the number one spot for in the US in 2023?',\n",
       " 'What is the purpose of the bi-annual WhatWeWatched: A Netflix Engagement Report?',\n",
       " 'Which titles were successful in Q4 according to the engagement report?',\n",
       " 'How many view hours did the titles covered in the engagement report drive between January and June 2023?',\n",
       " 'What percentage of all viewing on Netflix did the titles covered in the engagement report account for?',\n",
       " 'How many weeks did Netflix have the top slot for original films in 2022?',\n",
       " \"Which countries' viewing data was used by Nielsen and Kantar to measure viewing?\",\n",
       " 'How many times more viewing does Netflix drive compared to its competitors, excluding YouTube?',\n",
       " 'What screens does BARB measure viewing across in the UK?',\n",
       " 'What were some of the popular TV series and films mentioned in the document?',\n",
       " 'How many views did the animated film \"Leo\" receive in Q4?',\n",
       " 'Name one non-English program mentioned in the document.',\n",
       " 'Which upcoming shows were mentioned in the document?',\n",
       " 'What live programming events did Netflix experiment with?',\n",
       " \"When will WWE's Raw be exclusively available on Netflix in certain regions?\",\n",
       " 'What is the long-term partnership between Netflix and WWE expected to bring to Netflix members?',\n",
       " 'What was the reaction to Netflix\\'s first stage production, \"StrangerThings: The First Shadow\"?',\n",
       " 'Name one upcoming film mentioned in the document.',\n",
       " 'How many views did the film \"Leave the World Behind\" starring Julia Roberts receive?',\n",
       " 'What is the purpose of the Squid Game live experience in Los Angeles?',\n",
       " 'How has engagement with Netflix games changed over the past year?',\n",
       " 'What is the goal of Netflix in terms of viewer satisfaction and retention?',\n",
       " 'How has Netflix improved its pricing and plans strategy?',\n",
       " 'What is the potential revenue opportunity for Netflix in scaling its ads business?',\n",
       " \"How has the ads membership for Netflix increased in Q4 '23?\",\n",
       " 'What features has Netflix implemented to address account sharing?',\n",
       " 'Which countries are Netflix planning to retire the Basic plan in for ads markets?',\n",
       " 'How has Netflix improved targeting and measurement for advertisers?',\n",
       " 'What is the near-term addressable market for Netflix in terms of connected TVs?',\n",
       " 'What was the net cash provided by operating activities in Q4 compared to the previous year?',\n",
       " 'How much free cash flow (FCF) was generated in Q4 compared to the previous year?',\n",
       " 'What was the net cash provided by operating activities for the full year 2023 compared to 2022?',\n",
       " 'How much FCF was generated for the full year 2023 compared to 2022?',\n",
       " 'How much delayed spending was there due to the WGA and SAG-AFTRA strikes?',\n",
       " 'How much net cash was generated from operating activities in the past four years?',\n",
       " 'How much positive FCF was generated in the past four years?',\n",
       " 'How much cash was used in operating activities and FCF deficit was generated from 2016-2019?',\n",
       " 'What is the expected FCF for the full year 2024?',\n",
       " 'How much cash is remaining under the current buyback authorization?',\n",
       " 'What is the file type of the document mentioned in the context information?',\n",
       " 'When was the document last accessed?',\n",
       " 'What is the annualized performance of NFLX stock over the past 10 years?',\n",
       " 'How does the cumulative return of NFLX stock compare to the S&P 500 and NASDAQ over the past 5 years?',\n",
       " 'What is the purpose of providing updates on long-term stock performance in the investor letter?',\n",
       " 'How does Netflix manage its business for the long term?',\n",
       " 'What is the total shareholder return tied to in the form of RSUs and PSUs?',\n",
       " 'How does the performance of NFLX stock compare to the S&P 500 and NASDAQ in the past year?',\n",
       " 'What is the file size of the mentioned PDF document?',\n",
       " 'Where can past investor letters be found for quick reference?',\n",
       " \"What is the revenue for UCANStreaming in Q4'23?\",\n",
       " \"How many paid memberships were there in EMEA in Q3'23?\",\n",
       " \"What was the average revenue per membership in LATAM in Q2'23?\",\n",
       " \"What was the year-over-year growth in revenue for APAC in Q4'23?\",\n",
       " \"How many paid net additions were there in UCANStreaming in Q1'23?\",\n",
       " \"What was the year-over-year growth in revenue for EMEA in Q2'23?\",\n",
       " \"How many paid memberships were there in UCANStreaming in Q4'22?\",\n",
       " \"What was the average revenue per membership in APAC in Q3'23?\",\n",
       " \"What was the year-over-year growth in revenue for LATAM in Q3'23?\",\n",
       " \"How many paid net additions were there in EMEA in Q1'23?\",\n",
       " 'What is the purpose of disclosing the year-to-date operating margin based on F/X rates at the beginning of each year?',\n",
       " 'How does the operating margin for 2023 compare to the target set in January 2023?',\n",
       " 'What was the operating profit for the year 2020?',\n",
       " 'How did the operating expenses change from 2021 to 2022?',\n",
       " 'What was the impact of F/X rates on operating expenses in 2022?',\n",
       " 'What was the adjusted operating profit for 2022?',\n",
       " 'Did the company incur any restructuring charges?',\n",
       " 'What was the operating margin excluding restructuring charges in 2022?',\n",
       " 'How did the operating margin change from 2020 to 2021?',\n",
       " 'Where and when will the live video interview with company executives take place?',\n",
       " 'What is the purpose of using non-GAAP financial measures in the shareholder letter?',\n",
       " 'How does management define and calculate free cash flow?',\n",
       " 'Why should non-GAAP financial measures be considered in addition to GAAP measures?',\n",
       " 'What are the potential limitations of reconciling forward-looking non-GAAP financial measures?',\n",
       " 'What are some of the forward-looking statements mentioned in the shareholder letter?',\n",
       " 'What factors could impact the ability to attract and retain members?',\n",
       " 'How does the company plan to compete effectively in the market?',\n",
       " 'What are the potential risks and uncertainties mentioned in the letter?',\n",
       " 'How does the company plan to monetize through pricing and tiering structures?',\n",
       " \"What is the significance of the company's foreign currency exchange hedging program?\",\n",
       " 'What is the file type of the document mentioned in the context information?',\n",
       " 'When was the document last modified?',\n",
       " 'What is the file size of the document?',\n",
       " 'Where can the document be found in the file system?',\n",
       " 'What is the creation date of the document?',\n",
       " \"What regulatory body is mentioned in relation to the company's filings?\",\n",
       " \"When was the company's Annual Report on Form 10-K filed with the SEC?\",\n",
       " \"What information is included in the company's filings with the SEC?\",\n",
       " 'How does the company provide internal forecast numbers?',\n",
       " 'Is the company obligated to update forward-looking statements in their shareholder letter?',\n",
       " 'What was the total revenue for Netflix, Inc. for the three months ended December 31, 2023?',\n",
       " 'How much did Netflix, Inc. spend on marketing for the twelve months ended December 31, 2022?',\n",
       " 'What was the operating income for Netflix, Inc. for the twelve months ended December 31, 2023?',\n",
       " 'What was the interest expense for Netflix, Inc. for the twelve months ended December 31, 2023?',\n",
       " 'What was the net income for Netflix, Inc. for the three months ended September 30, 2023?',\n",
       " 'What was the diluted earnings per share for Netflix, Inc. for the twelve months ended December 31, 2022?',\n",
       " 'How many weighted-average shares of common stock were outstanding for Netflix, Inc. for the three months ended December 31, 2023?',\n",
       " 'What was the cost of revenues for Netflix, Inc. for the twelve months ended December 31, 2022?',\n",
       " 'What was the technology and development expense for Netflix, Inc. for the three months ended December 31, 2022?',\n",
       " 'What was the last accessed date of the file \"NEW-FINAL-Q4-23-Shareholder-Letter.pdf\"?',\n",
       " 'What is the total amount of cash and cash equivalents as of December 31, 2023?',\n",
       " \"How much did the company's content assets decrease from December 31, 2022, to December 31, 2023?\",\n",
       " 'What is the net value of property and equipment as of December 31, 2023?',\n",
       " \"How much did the company's non-current assets increase from December 31, 2022, to December 31, 2023?\",\n",
       " 'What is the total amount of current content liabilities as of December 31, 2023?',\n",
       " \"How much did the company's accounts payable increase from December 31, 2022, to December 31, 2023?\",\n",
       " 'What is the total amount of long-term debt as of December 31, 2023?',\n",
       " \"How much did the company's retained earnings increase from December 31, 2022, to December 31, 2023?\",\n",
       " \"What is the total stockholders' equity as of December 31, 2023?\",\n",
       " 'What is the total amount of streaming content obligations as of December 31, 2023?',\n",
       " 'What was the net income for Netflix, Inc. for the three months ended December 31, 2023?',\n",
       " 'How much were the additions to content assets for the twelve months ended December 31, 2023?',\n",
       " 'What was the stock-based compensation expense for the three months ended September 30, 2023?',\n",
       " 'How much was the foreign currency remeasurement gain on debt for the twelve months ended December 31, 2022?',\n",
       " 'What was the net cash provided by operating activities for the twelve months ended December 31, 2022?',\n",
       " 'How much was spent on purchases of property and equipment for the three months ended December 31, 2023?',\n",
       " 'What was the net cash provided by (used in) investing activities for the twelve months ended December 31, 2022?',\n",
       " 'How much common stock was repurchased by Netflix, Inc. for the three months ended December 31, 2023?',\n",
       " 'What was the effect of exchange rate changes on cash, cash equivalents, and restricted cash for the twelve months ended December 31, 2022?',\n",
       " 'What was the net increase (decrease) in cash, cash equivalents, and restricted cash for the twelve months ended December 31, 2023?',\n",
       " 'What is the non-GAAP free cash flow for the three months ended December 31, 2023?',\n",
       " 'How much net cash was provided by operating activities for the twelve months ended December 31, 2022?',\n",
       " 'What was the change in other assets for the forty-eight months ended December 31, 2019?',\n",
       " 'Calculate the non-GAAP free cash flow for the twelve months ended December 31, 2021.',\n",
       " 'What was the adjusted revenue at 2022 rates for the quarter ended December 31, 2023?',\n",
       " 'How much was spent on purchases of property and equipment for the twelve months ended December 31, 2020?',\n",
       " 'Calculate the non-GAAP free cash flow for the forty-eight months ended December 31, 2016.',\n",
       " 'What was the constant currency change in revenue for the quarter ended December 31, 2023?',\n",
       " 'How does the non-GAAP free cash flow for the twelve months ended December 31, 2023 compare to the previous year?',\n",
       " 'Calculate the non-GAAP free cash flow for the twelve months ended December 31, 2022.']"
      ]
     },
     "execution_count": 44,
     "metadata": {},
     "output_type": "execute_result"
    }
   ],
   "source": [
    "eval_questions"
   ]
  },
  {
   "cell_type": "code",
   "execution_count": 45,
   "id": "774cffa3-6c77-4aef-b86a-3b99a31526ac",
   "metadata": {},
   "outputs": [],
   "source": [
    "gpt4 = OpenAI(temperature=0, model=\"gpt-4\")\n",
    "service_context_gpt4 = ServiceContext.from_defaults(llm=gpt4)"
   ]
  },
  {
   "cell_type": "code",
   "execution_count": 46,
   "id": "aac2fac2-65b3-4632-8ee0-303f23b4d946",
   "metadata": {},
   "outputs": [],
   "source": [
    "evaluator_gpt4 = RelevancyEvaluator(service_context=service_context_gpt4)\n"
   ]
  },
  {
   "cell_type": "code",
   "execution_count": 47,
   "id": "d38ff29d-1d76-4c56-adb3-1d06c7a93801",
   "metadata": {},
   "outputs": [],
   "source": [
    "# create vector index\n",
    "vector_index = VectorStoreIndex.from_documents(\n",
    "    documents, service_context=service_context_gpt4\n",
    ")"
   ]
  },
  {
   "cell_type": "code",
   "execution_count": 51,
   "id": "76056c0f-a4b0-4358-bb11-f8007337c9e8",
   "metadata": {},
   "outputs": [],
   "source": [
    "def display_eval_df(query: str, response: Response, eval_result: str) -> None:\n",
    "    eval_df = pd.DataFrame({\n",
    "        \"Query\": [query],\n",
    "        \"Response\": [str(response)],\n",
    "        \"Source\": [response.source_nodes[0].node.get_content()[:1000] + \"...\"],\n",
    "        \"Evaluation Result\": [eval_result],\n",
    "    })\n",
    "    eval_df = eval_df.style.set_properties(**{\n",
    "        \"inline-size\": \"600px\",\n",
    "        \"overflow-wrap\": \"break-word\",\n",
    "    }, subset=[\"Response\", \"Source\"])\n",
    "    display(eval_df)\n"
   ]
  },
  {
   "cell_type": "code",
   "execution_count": 55,
   "id": "d2e44871-32e7-4337-8f57-b8089d9c658e",
   "metadata": {},
   "outputs": [],
   "source": [
    "query_engine = vector_index.as_query_engine()\n",
    "response_vector = query_engine.query(eval_questions[2])\n",
    "eval_result = evaluator_gpt4.evaluate_response(\n",
    "    query=eval_questions[2], response=response_vector\n",
    ")"
   ]
  },
  {
   "cell_type": "code",
   "execution_count": 56,
   "id": "653b99f7-6a9c-419f-a2ca-8eab345c3912",
   "metadata": {},
   "outputs": [
    {
     "data": {
      "text/html": [
       "<style type=\"text/css\">\n",
       "#T_c65b9_row0_col1, #T_c65b9_row0_col2 {\n",
       "  inline-size: 600px;\n",
       "  overflow-wrap: break-word;\n",
       "}\n",
       "</style>\n",
       "<table id=\"T_c65b9\">\n",
       "  <thead>\n",
       "    <tr>\n",
       "      <th class=\"blank level0\" >&nbsp;</th>\n",
       "      <th id=\"T_c65b9_level0_col0\" class=\"col_heading level0 col0\" >Query</th>\n",
       "      <th id=\"T_c65b9_level0_col1\" class=\"col_heading level0 col1\" >Response</th>\n",
       "      <th id=\"T_c65b9_level0_col2\" class=\"col_heading level0 col2\" >Source</th>\n",
       "      <th id=\"T_c65b9_level0_col3\" class=\"col_heading level0 col3\" >Evaluation Result</th>\n",
       "    </tr>\n",
       "  </thead>\n",
       "  <tbody>\n",
       "    <tr>\n",
       "      <th id=\"T_c65b9_level0_row0\" class=\"row_heading level0 row0\" >0</th>\n",
       "      <td id=\"T_c65b9_row0_col0\" class=\"data row0 col0\" >What was Netflix's operating margin for FY23 and how did it compare to the target?</td>\n",
       "      <td id=\"T_c65b9_row0_col1\" class=\"data row0 col1\" >Netflix's operating margin for FY23 was 21%, which exceeded their target of 20%.</td>\n",
       "      <td id=\"T_c65b9_row0_col2\" class=\"data row0 col2\" >January23,2024\n",
       "Fellowshareholders,\n",
       "Summary:\n",
       "●We’vejustendedourfirstyearwithTedandGregasco-CEOsand,undertheirleadership,Netflixachievedthekeyfinancialobjectiveswesetatthestartof2023.We’ve:\n",
       "○Acceleratedourgrowth,exitingtheyearwith12%revenuegrowth,upfrom6%in2022;\n",
       "○GrownourFY23operatingmarginto21%from18%in2022,aheadofour20%target;\n",
       "○Increasedourfreecashflowto$6.9Bfor2023.\n",
       "●TheyearhasshowntheneedforNetflixtobalanceconsistencyandcontinuousimprovementwithadaptability.In2024,weseebigopportunitiesto:\n",
       "○Increaseourvaluetomembersbyfurtherimprovingthecore(seriesandfilm),whilebroadeningouroffering(games,liveandsports-adjacentprogramming);\n",
       "○Tapintoasignificantnewlongtermrevenueandprofitpoolbyscalingouradsbusiness;\n",
       "○Deepenourconnectionwithfansthroughourmarketing,consumerproductsandinnovativenewliveexperiences.\n",
       "●Webelievethereisplentyofroomforgrowthaheadasstreamingexpands,andournorthstarremainsthesame:tothrillmemberswithourentertainment.IfwecancontinuetoimproveNetflixfasterthanthecompetition,we’llhavean...</td>\n",
       "      <td id=\"T_c65b9_row0_col3\" class=\"data row0 col3\" >query=\"What was Netflix's operating margin for FY23 and how did it compare to the target?\" contexts=None response=\"Netflix's operating margin for FY23 was 21%, which exceeded their target of 20%.\" passing=True feedback='YES' score=1.0 pairwise_source=None invalid_result=False invalid_reason=None</td>\n",
       "    </tr>\n",
       "  </tbody>\n",
       "</table>\n"
      ],
      "text/plain": [
       "<pandas.io.formats.style.Styler at 0x16a37a020>"
      ]
     },
     "metadata": {},
     "output_type": "display_data"
    }
   ],
   "source": [
    "display_eval_df(eval_questions[2], response_vector, eval_result)\n"
   ]
  },
  {
   "cell_type": "code",
   "execution_count": null,
   "id": "cecb689d-c79a-4760-b54c-b18429c95241",
   "metadata": {},
   "outputs": [],
   "source": []
  }
 ],
 "metadata": {
  "kernelspec": {
   "display_name": "Python 3 (ipykernel)",
   "language": "python",
   "name": "python3"
  },
  "language_info": {
   "codemirror_mode": {
    "name": "ipython",
    "version": 3
   },
   "file_extension": ".py",
   "mimetype": "text/x-python",
   "name": "python",
   "nbconvert_exporter": "python",
   "pygments_lexer": "ipython3",
   "version": "3.10.8"
  }
 },
 "nbformat": 4,
 "nbformat_minor": 5
}
