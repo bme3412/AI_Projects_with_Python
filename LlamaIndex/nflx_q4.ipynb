{
 "cells": [
  {
   "cell_type": "code",
   "execution_count": 1,
   "id": "823bcb7a-d352-483d-92e9-ff25bddd3ecd",
   "metadata": {},
   "outputs": [],
   "source": [
    "from llama_index import VectorStoreIndex, SimpleDirectoryReader\n",
    "import nest_asyncio\n",
    "import asyncio\n",
    "import pandas as pd\n",
    "\n",
    "nest_asyncio.apply()"
   ]
  },
  {
   "cell_type": "code",
   "execution_count": 2,
   "id": "845a6df2-bcfe-4f3d-8ee1-d63c1c011f2a",
   "metadata": {},
   "outputs": [],
   "source": [
    "documents = SimpleDirectoryReader('data').load_data()\n",
    "index = VectorStoreIndex.from_documents(documents)"
   ]
  },
  {
   "cell_type": "code",
   "execution_count": 35,
   "id": "9c037c36-f5bb-4f77-aa65-e1bc5f77f6e1",
   "metadata": {},
   "outputs": [
    {
     "name": "stdout",
     "output_type": "stream",
     "text": [
      "They provided a forecast for Q1 2024 of 13% revenue growth on an F/X neutral basis.\n"
     ]
    }
   ],
   "source": [
    "# Query the data\n",
    "query_engine = index.as_query_engine()\n",
    "response = query_engine.query('What forecast did they provide for Q1 2024? for revenue and revenue growth rate on an F/X neutral basis?')\n",
    "print(response)"
   ]
  },
  {
   "cell_type": "markdown",
   "id": "0f8850b2-54bc-4cbf-8a7b-a04e6223b3b4",
   "metadata": {},
   "source": [
    "## \"I want to parse my data into smaller chunks\""
   ]
  },
  {
   "cell_type": "code",
   "execution_count": 36,
   "id": "0f8c0d10-b627-4b80-8d8b-5e7a68456e20",
   "metadata": {},
   "outputs": [
    {
     "name": "stdout",
     "output_type": "stream",
     "text": [
      "The strength of non-English programming was mentioned, including titles like Lupin S3 from France, Elite S7, and the movie Nowhere from Spain.\n"
     ]
    }
   ],
   "source": [
    "from llama_index import ServiceContext\n",
    "service_context = ServiceContext.from_defaults(chunk_size=200)\n",
    "documents = SimpleDirectoryReader('data').load_data()\n",
    "index = VectorStoreIndex.from_documents(documents, service_context=service_context)\n",
    "\n",
    "query_engine = index.as_query_engine()\n",
    "response = query_engine.query('What did they say about the strength of non-English programming?')\n",
    "print(response)"
   ]
  },
  {
   "cell_type": "markdown",
   "id": "e49f6426-15d2-49a8-beec-7703885f89bc",
   "metadata": {},
   "source": [
    "## I want to retrieve more context when I query\""
   ]
  },
  {
   "cell_type": "code",
   "execution_count": 37,
   "id": "eaa03e22-d277-4d08-8ece-a9d0d7bf607c",
   "metadata": {},
   "outputs": [
    {
     "name": "stdout",
     "output_type": "stream",
     "text": [
      "The strength of non-English programming was mentioned, including titles like Lupin S3 from France, Elite S7, and the movie Nowhere from Spain.\n"
     ]
    }
   ],
   "source": [
    "query_engine = index.as_query_engine(similarity_top_k=5)\n",
    "response = query_engine.query('What did they say about the strength of non-English programming?')\n",
    "print(response)"
   ]
  },
  {
   "cell_type": "markdown",
   "id": "04d7674f-89a6-4d8d-a877-d2df20ff1249",
   "metadata": {},
   "source": [
    "## Low level API"
   ]
  },
  {
   "cell_type": "code",
   "execution_count": 38,
   "id": "5f3de596-5451-42dc-addc-83209a1ea19d",
   "metadata": {},
   "outputs": [],
   "source": [
    "from llama_index import Response\n",
    "from llama_index.retrievers import VectorIndexRetriever\n",
    "from llama_index.query_engine import RetrieverQueryEngine\n",
    "from llama_index.indices.postprocessor import SimilarityPostprocessor\n",
    "from llama_index.response_synthesizers import (ResponseMode, get_response_synthesizer)"
   ]
  },
  {
   "cell_type": "code",
   "execution_count": 39,
   "id": "6cd4c917-f9e8-436d-928e-6ad51ba1c8df",
   "metadata": {},
   "outputs": [
    {
     "name": "stdout",
     "output_type": "stream",
     "text": [
      "NFLX provided an outlook for 2024 in their shareholder letter. They mentioned that they expect a high single-digit percentage year-over-year increase in content amortization. However, the specific revenue outlook for 2024 is not mentioned in the given context. Regarding the operating margin, NFLX increased their full-year 2024 operating margin forecast from 22%-23% to 24% based on FX rates as of January 1, 2024. They mentioned that this reflects the weakening of the US dollar against most other currencies since October and their stronger-than-forecasted Q4'23 performance.\n"
     ]
    }
   ],
   "source": [
    "# build index\n",
    "index =VectorStoreIndex.from_documents(documents)\n",
    "\n",
    "# configure retriever\n",
    "retriever = VectorIndexRetriever(\n",
    "    index=index,\n",
    "    similarity_top_k=2,\n",
    ")\n",
    "\n",
    "# configure response synthesizer\n",
    "response_synthesizer = get_response_synthesizer(response_mode=ResponseMode.COMPACT)\n",
    "\n",
    "# assemble query engine\n",
    "query_engine= RetrieverQueryEngine(\n",
    "    retriever=retriever,\n",
    "    response_synthesizer=response_synthesizer,\n",
    ")\n",
    "\n",
    "# query\n",
    "response = query_engine.query('What outlook did NFLX provide for outlook for 2024?, start with revenue, then operating margin')\n",
    "print(response)"
   ]
  },
  {
   "cell_type": "code",
   "execution_count": 40,
   "id": "3ccf5cfe-0994-4c2f-b78f-2563582c6146",
   "metadata": {},
   "outputs": [
    {
     "name": "stdout",
     "output_type": "stream",
     "text": [
      "NFLX provided an outlook for 2024 in their shareholder letter. They mentioned that they expect a high single-digit percentage year-over-year increase in content amortization. However, the specific revenue outlook for 2024 is not mentioned in the given context. Regarding the operating margin, NFLX increased their full-year 2024 operating margin forecast from 22%-23% to 24% based on FX rates as of January 1, 2024.\n",
      "NFLX provided an outlook for 2024 in their shareholder letter. They mentioned that they expect a high single-digit percentage year-over-year increase in content amortization. However, the specific revenue outlook for 2024 is not mentioned in the given context. Regarding the operating margin, NFLX increased their full-year 2024 operating margin forecast from 22%-23% to 24% based on FX rates as of January 1, 2024. They attributed this increase to the weakening of the US dollar against most other currencies since October and their stronger-than-forecasted Q4'23 performance.\n",
      "NFLX provided an outlook for 2024 in terms of revenue and operating margin. They mentioned that they expect a high single-digit percentage year-over-year increase in content amortization for FY24. However, the specific revenue outlook for 2024 is not mentioned in the given context. In terms of operating margin, NFLX increased their full-year 2024 operating margin forecast from 22%-23% to 24%. This increase is based on the weakening of the US dollar against most other currencies since October, as well as their stronger-than-forecasted Q4'23 performance.\n"
     ]
    }
   ],
   "source": [
    "# default\n",
    "query_engine=RetrieverQueryEngine.from_args(retriever, response_mode='simple_summarize')\n",
    "response = query_engine.query('What outlook did NFLX provide for outlook for 2024?, start with revenue, then operating margin')\n",
    "print(response)\n",
    "# compact\n",
    "query_engine=RetrieverQueryEngine.from_args(retriever, response_mode='compact')\n",
    "response = query_engine.query('What outlook did NFLX provide for outlook for 2024?, start with revenue, then operating margin')\n",
    "print(response)\n",
    "\n",
    "# tree summaraize\n",
    "query_engine=RetrieverQueryEngine.from_args(retriever, response_mode='tree_summarize')\n",
    "response = query_engine.query('What outlook did NFLX provide for outlook for 2024?, start with revenue, then operating margin')\n",
    "print(response)"
   ]
  },
  {
   "cell_type": "code",
   "execution_count": 3,
   "id": "811b15e9-9e69-464d-9d4d-6e040edc7db5",
   "metadata": {},
   "outputs": [],
   "source": [
    "from llama_index.evaluation import DatasetGenerator, RelevancyEvaluator\n",
    "from llama_index import (\n",
    "    SimpleDirectoryReader,\n",
    "    VectorStoreIndex,\n",
    "    ServiceContext,\n",
    "    Response,\n",
    ")\n",
    "from llama_index.llms import OpenAI"
   ]
  },
  {
   "cell_type": "code",
   "execution_count": 4,
   "id": "823106b7-9c2b-44d1-8ec0-18c82f193879",
   "metadata": {},
   "outputs": [
    {
     "name": "stderr",
     "output_type": "stream",
     "text": [
      "/Users/brendan/Desktop - Brendan’s MacBook Air/llm/lib/python3.10/site-packages/llama_index/evaluation/dataset_generation.py:184: DeprecationWarning: Call to deprecated class DatasetGenerator. (Deprecated in favor of `RagDatasetGenerator` which should be used instead.)\n",
      "  return cls(\n",
      "/Users/brendan/Desktop - Brendan’s MacBook Air/llm/lib/python3.10/site-packages/llama_index/evaluation/dataset_generation.py:279: DeprecationWarning: Call to deprecated class QueryResponseDataset. (Deprecated in favor of `LabelledRagDataset` which should be used instead.)\n",
      "  return QueryResponseDataset(queries=queries, responses=responses_dict)\n"
     ]
    }
   ],
   "source": [
    "reader = SimpleDirectoryReader(\"data\")\n",
    "documents = reader.load_data()\n",
    "data_generator = DatasetGenerator.from_documents(documents)\n",
    "eval_questions = data_generator.generate_questions_from_nodes()"
   ]
  },
  {
   "cell_type": "code",
   "execution_count": 5,
   "id": "7fb3ab74-0267-41c3-83b8-8c745becb872",
   "metadata": {},
   "outputs": [
    {
     "name": "stderr",
     "output_type": "stream",
     "text": [
      "/Users/brendan/Desktop - Brendan’s MacBook Air/llm/lib/python3.10/site-packages/llama_index/evaluation/dataset_generation.py:279: DeprecationWarning: Call to deprecated class QueryResponseDataset. (Deprecated in favor of `LabelledRagDataset` which should be used instead.)\n",
      "  return QueryResponseDataset(queries=queries, responses=responses_dict)\n"
     ]
    }
   ],
   "source": [
    "eval_questions = data_generator.generate_questions_from_nodes()"
   ]
  },
  {
   "cell_type": "code",
   "execution_count": 6,
   "id": "a45cb0c7-fa16-465b-b546-a7c6d58ddc7b",
   "metadata": {},
   "outputs": [
    {
     "data": {
      "text/plain": [
       "['What were the key financial objectives set by Netflix at the start of 2023?',\n",
       " \"How did Netflix's revenue growth in 2023 compare to the previous year?\",\n",
       " \"What was Netflix's operating margin in 2023 and how did it compare to the target?\",\n",
       " 'How much free cash flow did Netflix generate in 2023?',\n",
       " 'What are the big opportunities Netflix sees for 2024?',\n",
       " 'How does Netflix plan to increase its value to members in 2024?',\n",
       " 'What new revenue and profit pool does Netflix plan to tap into in 2024?',\n",
       " 'How does Netflix plan to deepen its connection with fans in 2024?',\n",
       " \"What is Netflix's north star and how does it contribute to the company's growth?\",\n",
       " 'What are the forecasted revenue and operating income for Q1 of 2024?',\n",
       " 'What was the year-over-year growth in revenue for Q4?',\n",
       " \"How did the company's operating income and operating margin in Q4 compare to the previous year?\",\n",
       " 'What factors contributed to the higher-than-anticipated membership growth in Q4?',\n",
       " 'What was the EPS for the fourth quarter and how did it compare to the forecast?',\n",
       " \"What is the company's primary financial metric for profitability?\",\n",
       " \"What are the company's goals for revenue growth and operating margin?\",\n",
       " 'What is the forecasted revenue growth for the full year 2024?',\n",
       " 'How does the company plan to expand its ads business in 2024?',\n",
       " 'What is the expected revenue growth for Q1 2024 and what factors may impact it?',\n",
       " 'How is ARM (Average Revenue per Membership) calculated and what does it represent?',\n",
       " 'What is the forecasted operating margin for the full year 2024?',\n",
       " 'How has the US dollar performed against other currencies since October?',\n",
       " 'What is the goal of the F/X risk management program?',\n",
       " 'How has the operating margin of the company increased over the years?',\n",
       " \"What is the company's perspective on streaming as a business model?\",\n",
       " \"How has the company's content amortization increased from 2016 to 2023?\",\n",
       " \"What is the company's stance on further consolidation in the entertainment industry?\",\n",
       " 'What are some factors that contribute to the high competitiveness of the industry?',\n",
       " 'What is the projected increase in content amortization for FY24?',\n",
       " 'What is the current market share of Netflix in the addressable market for payTV, film, games, and branded advertising?',\n",
       " 'What is the file type of the document mentioned in the context information?',\n",
       " 'How many original TV series did Netflix have the number one spot for in the US in 2023, according to Nielsen?',\n",
       " 'What is the purpose of the bi-annual WhatWeWatched:ANetflixEngagementReport?',\n",
       " 'Which titles were successful in Q4, according to the engagement report?',\n",
       " 'How many view hours did the titles covered in the engagement report drive between January and June 2023?',\n",
       " 'How many weeks did Netflix have the top slot for original films in 2022?',\n",
       " \"Which countries' viewing is measured across four screens (TV, smartphone, tablet, and laptop)?\",\n",
       " 'What is the file size of the mentioned PDF document?',\n",
       " 'What is the creation date of the PDF document?',\n",
       " 'How many times more viewing does Netflix drive compared to its competitors, excluding YouTube?',\n",
       " 'Which original TV series had the highest number of views in Q4?',\n",
       " 'Name two animated hit films that were popular in Q4.',\n",
       " 'What non-English programming from France gained a significant number of views?',\n",
       " 'Which licensed titles were mentioned as generating value for members and rightsholders?',\n",
       " 'What returning dramas can audiences look forward to in 2024?',\n",
       " 'Name one brand new show that will be premiering in 2024.',\n",
       " 'What live programming events did Netflix experiment with in the past?',\n",
       " 'What upcoming live event will be exclusively available on Netflix in the US, Canada, UK, and Latin America?',\n",
       " 'Which production was based on the hit series Stranger Things?',\n",
       " 'What was the reaction to the first stage production of Stranger Things?',\n",
       " 'What is the purpose of the Squid Game live experience in Los Angeles?',\n",
       " 'How did engagement in the games offering triple last year?',\n",
       " 'What is the goal of Netflix in terms of viewer satisfaction and retention?',\n",
       " 'How has Netflix increased sophistication in its pricing and plans strategy?',\n",
       " 'What is the potential revenue and profit pool for Netflix in scaling its ads business?',\n",
       " 'How has Netflix addressed account sharing and monetized sharing features?',\n",
       " 'What percentage of Netflix sign-ups in ads markets come from the ads plan?',\n",
       " 'Which countries are Netflix planning to retire the Basic plan in for ads markets?',\n",
       " 'How has Netflix improved targeting and measurement for advertisers?',\n",
       " 'What is the near-term addressable market for Netflix in terms of connected TVs?',\n",
       " 'What was the net cash provided by operating activities in Q4 compared to the previous year?',\n",
       " 'How much free cash flow (FCF) was generated in Q4 compared to the previous year?',\n",
       " 'What was the net cash provided by operating activities for the full year 2023 compared to 2022?',\n",
       " 'How much FCF was generated for the full year 2023 compared to 2022?',\n",
       " 'How much delayed spending was there due to the WGA and SAG-AFTRA strikes?',\n",
       " 'How much net cash was generated from operating activities in the past four years?',\n",
       " 'How much positive FCF was generated in the past four years?',\n",
       " 'How much cash was used in operating activities and FCF deficit was generated from 2016-2019?',\n",
       " 'What is the expected FCF for the full year 2024?',\n",
       " 'How much cash is remaining under the current buyback authorization?',\n",
       " 'What is the file type of the document mentioned in the context information?',\n",
       " 'When was the document last accessed?',\n",
       " 'What is the annualized performance of NFLX stock over the past 10 years?',\n",
       " 'How does the cumulative return of NFLX stock compare to the S&P500 and NASDAQ?',\n",
       " 'What is the purpose of providing updates on long-term stock performance in the investor letter?',\n",
       " 'What is the total file size of the document?',\n",
       " 'How does the performance of NFLX stock compare to the S&P500 and NASDAQ over the past 5 years?',\n",
       " 'What is the creation date of the document?',\n",
       " 'What type of equity compensation is granted to employees instead of stock options?',\n",
       " 'How does the performance of NFLX stock compare to the S&P500 and NASDAQ over the past year?',\n",
       " \"What is the revenue for the UCANStreaming region in Q4'23?\",\n",
       " \"How many paid memberships were there in the EMEA region in Q3'23?\",\n",
       " \"What was the average revenue per membership in the LATAM region in Q2'23?\",\n",
       " \"What was the year-over-year growth in revenue for the APAC region in Q4'23?\",\n",
       " \"How many paid net additions were there in the UCANStreaming region in Q1'23?\",\n",
       " \"What was the year-over-year growth in paid memberships for the EMEA region in Q2'23?\",\n",
       " \"What was the average revenue per membership in the UCANStreaming region in Q3'23?\",\n",
       " \"How many paid memberships were there in the LATAM region in Q4'23?\",\n",
       " \"What was the year-over-year growth in revenue for the UCANStreaming region in Q4'23?\",\n",
       " \"What was the average revenue per membership in the APAC region in Q1'23?\",\n",
       " 'What is the purpose of disclosing the year-to-date operating margin based on F/X rates at the beginning of each year?',\n",
       " 'How does the operating margin for 2023 compare to the target set in January 2023?',\n",
       " 'What was the operating profit for the year 2022?',\n",
       " 'How did the fluctuation in F/X rates impact the operating expenses in 2022?',\n",
       " 'What was the adjusted operating profit for the year 2021?',\n",
       " 'How does the operating margin excluding restructuring charges compare to the operating margin including restructuring charges in 2022?',\n",
       " 'What is the historical blended rate used to amortize content amortization?',\n",
       " 'When is the scheduled earnings interview and where can it be viewed?',\n",
       " 'Who will be participating in the earnings interview?',\n",
       " 'What is the file size of the document \"NEW-FINAL-Q4-23-Shareholder-Letter.pdf\"?',\n",
       " 'What is the purpose of using non-GAAP financial measures in the shareholder letter?',\n",
       " 'How does management define and measure free cash flow?',\n",
       " 'Why should non-GAAP financial measures be considered in addition to GAAP measures?',\n",
       " 'What is the reason for the inability to reconcile forward-looking non-GAAP financial measures?',\n",
       " 'What are some of the forward-looking statements mentioned in the shareholder letter?',\n",
       " 'What are the potential risks and uncertainties mentioned in the letter that could impact actual results?',\n",
       " \"How does management view the competitive landscape and the company's position within it?\",\n",
       " 'What is the significance of F/X neutral revenue and adjusted operating profit and margin?',\n",
       " 'How does management view the growth outlook and market opportunity for streaming entertainment?',\n",
       " 'What is the purpose of the foreign currency exchange hedging program mentioned in the letter?',\n",
       " 'What is the file type of the document mentioned in the context information?',\n",
       " 'When was the document last accessed?',\n",
       " 'Where can investors find information about potential risks and uncertainties?',\n",
       " 'What is the file size of the document?',\n",
       " 'What is the creation date of the document?',\n",
       " \"What regulatory body is mentioned in relation to the company's filings?\",\n",
       " 'What is the page label of the document?',\n",
       " 'What is the file name of the document?',\n",
       " 'What is the purpose of providing internal forecast numbers?',\n",
       " 'Is the company obligated to update forward-looking statements in the shareholder letter?',\n",
       " 'What was the total revenue for Netflix, Inc. in the fourth quarter of 2023?',\n",
       " 'How much did Netflix spend on marketing in the twelve months ended December 31, 2023?',\n",
       " 'What was the operating income for Netflix, Inc. in the three months ended December 31, 2023?',\n",
       " 'What was the net income for Netflix, Inc. in the twelve months ended December 31, 2022?',\n",
       " 'What was the basic earnings per share for Netflix, Inc. in the three months ended December 31, 2022?',\n",
       " 'How many weighted-average shares of common stock were outstanding in the three months ended December 31, 2023?',\n",
       " 'What was the interest expense for Netflix, Inc. in the twelve months ended December 31, 2023?',\n",
       " 'What was the income before income taxes for Netflix, Inc. in the three months ended December 31, 2023?',\n",
       " 'How much did Netflix benefit from income taxes in the twelve months ended December 31, 2022?',\n",
       " 'What was the file size of the PDF document \"NEW-FINAL-Q4-23-Shareholder-Letter.pdf\"?',\n",
       " 'What is the total amount of cash and cash equivalents as of December 31, 2023?',\n",
       " \"How much did the company's content assets decrease from December 31, 2022, to December 31, 2023?\",\n",
       " 'What is the net value of property and equipment as of December 31, 2023?',\n",
       " 'What is the total amount of other non-current assets as of December 31, 2022?',\n",
       " \"How much did the company's current content liabilities decrease from December 31, 2022, to December 31, 2023?\",\n",
       " 'What is the total amount of long-term debt as of December 31, 2022?',\n",
       " \"How much did the company's common stock increase from December 31, 2022, to December 31, 2023?\",\n",
       " 'What is the net value of treasury stock at cost as of December 31, 2023?',\n",
       " \"How much did the company's accumulated other comprehensive loss change from December 31, 2022, to December 31, 2023?\",\n",
       " 'What is the total amount of streaming content obligations as of December 31, 2023?',\n",
       " 'What is the net income for the three months ended December 31, 2023?',\n",
       " 'How much was added to content assets during the twelve months ended December 31, 2022?',\n",
       " 'What is the depreciation and amortization of property, equipment, and intangibles for the three months ended September 30, 2023?',\n",
       " 'How much stock-based compensation expense was recorded for the twelve months ended December 31, 2022?',\n",
       " 'What was the foreign currency remeasurement gain on debt for the three months ended December 31, 2022?',\n",
       " 'How much were other non-cash items for the twelve months ended December 31, 2022?',\n",
       " 'What was the change in operating assets and liabilities for the three months ended December 31, 2023?',\n",
       " 'How much cash was provided by investing activities for the twelve months ended December 31, 2023?',\n",
       " 'What was the net cash used in financing activities for the three months ended September 30, 2023?',\n",
       " 'What was the net increase in cash, cash equivalents, and restricted cash for the twelve months ended December 31, 2023?',\n",
       " 'What is the non-GAAP free cash flow for the three months ended December 31, 2023?',\n",
       " 'How much net cash was provided by operating activities for the twelve months ended December 31, 2022?',\n",
       " 'What was the change in other assets for the twelve months ended December 31, 2019?',\n",
       " 'Calculate the non-GAAP free cash flow for the forty-eight months ended December 31, 2016.',\n",
       " 'What was the reported revenue at 2022 rates for the quarter ended December 31, 2023?',\n",
       " 'How much was spent on purchases of property and equipment for the twelve months ended December 31, 2021?',\n",
       " 'Calculate the non-GAAP free cash flow for the twelve months ended December 31, 2020.',\n",
       " 'What was the constant currency change in revenue for the quarter ended December 31, 2023?',\n",
       " 'How much net cash was used in operating activities for the twelve months ended December 31, 2017?',\n",
       " 'Calculate the non-GAAP free cash flow for the twelve months ended December 31, 2023.',\n",
       " 'What was the revenue for NVIDIA in the third quarter of fiscal 2023?',\n",
       " 'How did the data center revenue perform in the third quarter compared to the previous quarter and the previous year?',\n",
       " 'What were the reasons for the decline in gaming and pro visualization platforms revenue?',\n",
       " 'What factors contributed to the year-on-year growth in data center revenue?',\n",
       " \"How did macroeconomic challenges, export controls, and supply chain disruptions affect NVIDIA's performance?\",\n",
       " 'Which companies were the primary drivers of year-on-year growth in data center revenue?',\n",
       " 'What are some of the end market use cases for NVIDIA AI in the public cloud computing and internet service sectors?',\n",
       " \"What is the role of Simona Jankowski in NVIDIA's conference call?\",\n",
       " \"What is the webcast availability for NVIDIA's conference call?\",\n",
       " \"What are the potential risks and uncertainties mentioned in the disclosure for NVIDIA's financial results and business?\",\n",
       " 'What were the key vertical industries that contributed to growth for the company in the third quarter?',\n",
       " \"How did the new restrictions impacting exports to China affect the company's third quarter revenue?\",\n",
       " 'Which server makers are offering H100-based systems starting this month?',\n",
       " 'When will the first H100-based cloud instances be available on Amazon Web Services, Google Cloud, Microsoft Azure, and Oracle Cloud Infrastructure?',\n",
       " 'What are the advantages of the H100 GPU compared to the previous generation in terms of total cost of ownership, server nodes, and energy usage?',\n",
       " 'What is the multiyear collaboration announced by the company with Microsoft aimed at achieving?',\n",
       " 'Which other company is working with NVIDIA to offer AI training and inference at scale to thousands of enterprises?',\n",
       " 'How is NVIDIA addressing the rising demand for AI in the cloud within the industrial scientific community?',\n",
       " 'Which networking platforms are building momentum for the company?',\n",
       " 'How did the company perform in terms of powering supercomputers and energy efficiency according to recent lists?',\n",
       " 'What is the new GPU architecture featured in the OVX systems?',\n",
       " 'Which companies will be offering the NVIDIA OVX systems?',\n",
       " 'Name two customers who will be among the first to receive the OVX systems.',\n",
       " 'What are the two AI software and services offerings mentioned in the document?',\n",
       " 'Why was the gaming revenue down in the third quarter?',\n",
       " 'Which regions had relatively solid sell-through for gaming products?',\n",
       " 'What is the next member of the Ada family of GPUs?',\n",
       " 'What technology does the RTX 40 series GPUs feature?',\n",
       " 'How many RTX games and applications are currently available?',\n",
       " 'What record did the number of simultaneous users on Steam hit in the third quarter?',\n",
       " 'What was the reason for the decrease in revenue for ProViz in Q3?',\n",
       " 'What new offering did NVIDIA announce at GTC for artists, developers, and enterprise teams?',\n",
       " 'Which companies are using Omniverse for creating digital twins and optimizing their networks?',\n",
       " 'How did the revenue for the automotive sector change compared to the previous year?',\n",
       " \"Which automakers recently announced design wins and new model introductions with NVIDIA's DRIVE platform?\",\n",
       " 'What is the successor to NVIDIA DRIVE Orin in their automotive SoC roadmap?',\n",
       " 'What were the factors that contributed to the gross margins in the P&L statement?',\n",
       " 'Why were the GAAP and non-GAAP operating expenses higher year-on-year?',\n",
       " 'How much did NVIDIA return to shareholders in the form of share repurchases and cash dividends?',\n",
       " \"How much remaining share repurchase authorization does NVIDIA have through December '23?\",\n",
       " 'What is the expected revenue for the fourth quarter of fiscal 2023?',\n",
       " 'What are the expected GAAP and non-GAAP gross margins for the fourth quarter?',\n",
       " 'How much are the expected GAAP operating expenses for the fourth quarter?',\n",
       " 'What are the expected GAAP and non-GAAP tax rates for the fourth quarter?',\n",
       " 'How much are the expected capital expenditures for the fourth quarter?',\n",
       " 'What upcoming events for the financial community are highlighted in the document?',\n",
       " 'Who is the first question from during the earnings call?',\n",
       " 'What is the current sell-through rate for gaming?',\n",
       " 'What concerns are there about large hyperscalers cutting their spending?',\n",
       " 'Can the business still grow in the data center if U.S. cloud CapEx is flat or slightly down next year?',\n",
       " 'What was the sell-through for the gaming business in Q3?',\n",
       " 'How did the China lockdowns affect the overall China business?',\n",
       " 'Which areas experienced softer sell-through for desktops in Q3?',\n",
       " 'What are the two fundamental dynamics that index the data center business?',\n",
       " 'Why is accelerated computing recognized as the path forward?',\n",
       " 'What are deep recommender systems and why are they important?',\n",
       " 'What breakthroughs have been made in large language models?',\n",
       " 'What is the goal of perception AI?',\n",
       " 'What is generative AI and why is it significant?',\n",
       " 'How does the upcoming holiday season impact end demand in Q4?',\n",
       " \"What are the two things that NVIDIA's company is indexed to, according to the context information?\",\n",
       " 'How does NVIDIA aim to enhance productivity and reduce costs?',\n",
       " 'What is the significance of power efficiency and cost efficiency for NVIDIA?',\n",
       " 'What is the focus of NVIDIA AI Enterprise and Omniverse?',\n",
       " 'How does NVIDIA plan to reach more customers quickly in the cloud industry?',\n",
       " 'What recent partnership did NVIDIA announce with Microsoft and what is its purpose?',\n",
       " 'How does NVIDIA plan to standardize its software stack for enterprise use?',\n",
       " 'What other partnership did NVIDIA announce a month ago and with which company?',\n",
       " \"How does NVIDIA's rich ecosystem and software stack benefit developers and startups?\",\n",
       " 'Why is the demand for AI surging and what role does NVIDIA play in meeting this demand?',\n",
       " 'What is the goal of moving the NVIDIA platform full stack software into the cloud?',\n",
       " 'How has Rescale integrated NVIDIA AI into their stack?',\n",
       " 'Which language models have recently been announced by NVIDIA for use in the cloud?',\n",
       " 'What is the availability of Omniverse?',\n",
       " 'How can customers engage with NVIDIA software in the cloud?',\n",
       " 'What are the implications of the inventory charges taken by NVIDIA in the quarter?',\n",
       " 'What was the reason for the inventory reserves booked by NVIDIA?',\n",
       " 'Which product was primarily affected by the inventory reserves?',\n",
       " 'What upcoming architectures is NVIDIA building inventory for?',\n",
       " 'How does the integration of NVIDIA software into the cloud benefit both NVIDIA and its partners?',\n",
       " 'What is the file type of the document mentioned in the context information?',\n",
       " 'When was the document last accessed?',\n",
       " 'Who asked the question about the effect of stockpiling in the data center guidance?',\n",
       " 'What is the purpose of the inventory charge mentioned in the context information?',\n",
       " 'How long does it usually take for the company to build product for future demand?',\n",
       " \"Which country's economy challenges were mentioned as a factor in the inventory provisions?\",\n",
       " 'Who asked the question about the inventory charge and A100 inventory?',\n",
       " 'What is the size of the file mentioned in the context information?',\n",
       " 'How often does the company evaluate its inventory levels?',\n",
       " 'What type of products and projects does the company usually work on with its data center customers?',\n",
       " 'What were the three platforms that were expected to grow sequentially in Q4 according to the guidance provided?',\n",
       " \"Which segment of the company's business was expected to be flattish and not grow in Q4?\",\n",
       " 'What is the significance of Grace in realizing the vision for the data center?',\n",
       " \"How does Grace's data moving capability compare to other solutions?\",\n",
       " 'In which applications is Grace particularly effective?',\n",
       " 'When are production samples of Grace expected to be available?',\n",
       " \"What were the commentary and concerns regarding the data center's performance in China?\",\n",
       " \"Which segments of the company's business were driving the sequential growth in Q3?\",\n",
       " 'What is the expected growth in terms of revenue for the company in Q4?',\n",
       " 'What is the purpose of correcting the channel inventory levels in the pro visualization business?',\n",
       " 'What is the quarterly sales figure for the data center networking business?',\n",
       " 'How has the networking business shown strong growth over the past few years?',\n",
       " 'What is the significance of networking solutions in data centers that handle a large amount of data?',\n",
       " 'How does the investment in high-performance networking translate to cost savings or increased throughput in data centers?',\n",
       " 'Which company is partnering with NVIDIA to build one of the largest AI infrastructures in the world?',\n",
       " \"What is the network speed of NVIDIA's InfiniBand network used in the AI infrastructure?\",\n",
       " 'Why is high-performance networking important in provisioning AI services and applications?',\n",
       " \"How does the acquisition of Mellanox relate to NVIDIA's focus on networking?\",\n",
       " 'What is the potential impact of slow networks on the efficiency of an infrastructure investment?',\n",
       " 'How does the networking business align with the trends in general purpose cloud and hyperscale compute spending?',\n",
       " 'What was the quarterly revenue for the company in the old days?',\n",
       " 'How does the growth of high-performance networking relate to AI adoption?',\n",
       " 'Who is the analyst asking the networking question?',\n",
       " \"How does NVIDIA's InfiniBand networking compare to traditional data center switching?\",\n",
       " 'What is the significance of the network in large language models and recommender systems?',\n",
       " \"What is the difference in overall efficiency between NVIDIA's InfiniBand and other networking solutions?\",\n",
       " \"How does NVIDIA's Magnum IO software contribute to in-network computing?\",\n",
       " 'What is the potential impact of a 10% improvement in data center efficiency?',\n",
       " 'Who is the analyst asking the question about compute in the reported quarter?',\n",
       " 'Was there a decline in compute in the reported quarter for the data center side?',\n",
       " 'What was the growth rate of Mellanox or the networking business in the previous quarter?',\n",
       " \"How does the A800 hardware ensure compliance with the U.S. government's export control regulations?\",\n",
       " 'What concerns did the company have regarding the introduction of A800 to customers and the supply chain?',\n",
       " 'How does the pace of H100 growth compare to the A100 ramp?',\n",
       " 'What are the cost benefits of the H100 in terms of operational costs for data centers?',\n",
       " \"How does the H100's transformer engine contribute to its performance?\",\n",
       " \"What was the initial expected value of the USG band for the government's firewall project?\",\n",
       " 'Is the A800 hardware limited in terms of customer or application reprogramming?',\n",
       " 'How did the company address the uncertainty surrounding the introduction of A800 to customers and the supply chain?',\n",
       " 'What factors contribute to the flat growth of compute in the third quarter?',\n",
       " 'What is the file type of the document mentioned in the context information?',\n",
       " 'When was the last modified date of the document?',\n",
       " 'What is the expected timeline for shipping Hopper production and large volumes?',\n",
       " 'How many different companies are typically discussed when talking about hyperscale in the data center business?',\n",
       " 'What are some examples of the new models that customers are demanding for Hopper?',\n",
       " 'What is the file size of the document mentioned in the context information?',\n",
       " 'What is the creation date of the document?',\n",
       " 'What is the significance of Ampere in relation to Hopper?',\n",
       " 'How does NVIDIA differentiate itself in terms of producing and shipping supercomputers?',\n",
       " 'What is the role of cloud service providers in standing up Hopper cloud services?',\n",
       " 'What is the file type of the document mentioned in the context information?',\n",
       " 'When was the document last accessed?',\n",
       " 'What are the two major dynamics happening in relation to NVIDIA AI?',\n",
       " \"What is the significance of cloud computing in today's business landscape?\",\n",
       " 'How are internet service companies utilizing NVIDIA AI?',\n",
       " 'What is the role of hyperscalers in the cloud computing industry?',\n",
       " \"How does NVIDIA's ecosystem benefit the public cloud side of hyperscalers' business?\",\n",
       " 'What is the expected future growth of the public cloud side of the business?',\n",
       " \"How does NVIDIA's relationship with CSPs and hyperscalers extend beyond selling to them?\",\n",
       " 'Who is the next question from and what is their affiliation?',\n",
       " 'What is the file type of the document mentioned in the context information?',\n",
       " 'When was the document last modified?',\n",
       " 'How much is the file size of the document?',\n",
       " \"Is blockchain expected to be an important part of the company's business in the future?\",\n",
       " \"What impact did the crypto industry have on the company's numbers?\",\n",
       " 'Is there a potential for liquidation of GPUs used in the mining network?',\n",
       " 'Where can secondhand graphics cards be found for sale?',\n",
       " 'How did the market respond to the launch of the 4090 graphics card?',\n",
       " 'Who asked the last question during the discussion?',\n",
       " 'What was the amount of stock-based compensation in the quarter?',\n",
       " 'What were some of the supply constraints that NVIDIA faced in the past?',\n",
       " 'How has NVIDIA improved its supply constraints in the networking sector?',\n",
       " 'What challenges have customers faced in setting up data centers?',\n",
       " \"How does stock-based compensation factor into NVIDIA's employees' compensation?\",\n",
       " 'Can NVIDIA accurately predict its stock-based compensation?',\n",
       " 'How is NVIDIA adapting to the macro environment?',\n",
       " 'What are some alternative products that NVIDIA is offering to data center customers in China?',\n",
       " 'What are some of the new platforms that NVIDIA has launched?',\n",
       " \"How is NVIDIA's networking division performing?\",\n",
       " \"What is Orin and how does it relate to NVIDIA's future growth?\",\n",
       " 'What is the file type of the document?',\n",
       " 'When was the document last modified?',\n",
       " 'Why is scaling through general purchase computing no longer viable?',\n",
       " 'What is the file size of the document?',\n",
       " 'What is the creation date of the document?',\n",
       " 'What is the page label of the document?',\n",
       " 'Why is accelerated computing considered the path forward?',\n",
       " 'What is the file path of the document?',\n",
       " 'Why is AI demanding more computing?',\n",
       " 'When was the document last accessed?']"
      ]
     },
     "execution_count": 6,
     "metadata": {},
     "output_type": "execute_result"
    }
   ],
   "source": [
    "eval_questions"
   ]
  },
  {
   "cell_type": "code",
   "execution_count": 45,
   "id": "774cffa3-6c77-4aef-b86a-3b99a31526ac",
   "metadata": {},
   "outputs": [],
   "source": [
    "gpt4 = OpenAI(temperature=0, model=\"gpt-4\")\n",
    "service_context_gpt4 = ServiceContext.from_defaults(llm=gpt4)"
   ]
  },
  {
   "cell_type": "code",
   "execution_count": 46,
   "id": "aac2fac2-65b3-4632-8ee0-303f23b4d946",
   "metadata": {},
   "outputs": [],
   "source": [
    "evaluator_gpt4 = RelevancyEvaluator(service_context=service_context_gpt4)\n"
   ]
  },
  {
   "cell_type": "code",
   "execution_count": 47,
   "id": "d38ff29d-1d76-4c56-adb3-1d06c7a93801",
   "metadata": {},
   "outputs": [],
   "source": [
    "# create vector index\n",
    "vector_index = VectorStoreIndex.from_documents(\n",
    "    documents, service_context=service_context_gpt4\n",
    ")"
   ]
  },
  {
   "cell_type": "code",
   "execution_count": 51,
   "id": "76056c0f-a4b0-4358-bb11-f8007337c9e8",
   "metadata": {},
   "outputs": [],
   "source": [
    "def display_eval_df(query: str, response: Response, eval_result: str) -> None:\n",
    "    eval_df = pd.DataFrame({\n",
    "        \"Query\": [query],\n",
    "        \"Response\": [str(response)],\n",
    "        \"Source\": [response.source_nodes[0].node.get_content()[:1000] + \"...\"],\n",
    "        \"Evaluation Result\": [eval_result],\n",
    "    })\n",
    "    eval_df = eval_df.style.set_properties(**{\n",
    "        \"inline-size\": \"600px\",\n",
    "        \"overflow-wrap\": \"break-word\",\n",
    "    }, subset=[\"Response\", \"Source\"])\n",
    "    display(eval_df)\n"
   ]
  },
  {
   "cell_type": "code",
   "execution_count": 55,
   "id": "d2e44871-32e7-4337-8f57-b8089d9c658e",
   "metadata": {},
   "outputs": [],
   "source": [
    "query_engine = vector_index.as_query_engine()\n",
    "response_vector = query_engine.query(eval_questions[2])\n",
    "eval_result = evaluator_gpt4.evaluate_response(\n",
    "    query=eval_questions[2], response=response_vector\n",
    ")"
   ]
  },
  {
   "cell_type": "code",
   "execution_count": 56,
   "id": "653b99f7-6a9c-419f-a2ca-8eab345c3912",
   "metadata": {},
   "outputs": [
    {
     "data": {
      "text/html": [
       "<style type=\"text/css\">\n",
       "#T_c65b9_row0_col1, #T_c65b9_row0_col2 {\n",
       "  inline-size: 600px;\n",
       "  overflow-wrap: break-word;\n",
       "}\n",
       "</style>\n",
       "<table id=\"T_c65b9\">\n",
       "  <thead>\n",
       "    <tr>\n",
       "      <th class=\"blank level0\" >&nbsp;</th>\n",
       "      <th id=\"T_c65b9_level0_col0\" class=\"col_heading level0 col0\" >Query</th>\n",
       "      <th id=\"T_c65b9_level0_col1\" class=\"col_heading level0 col1\" >Response</th>\n",
       "      <th id=\"T_c65b9_level0_col2\" class=\"col_heading level0 col2\" >Source</th>\n",
       "      <th id=\"T_c65b9_level0_col3\" class=\"col_heading level0 col3\" >Evaluation Result</th>\n",
       "    </tr>\n",
       "  </thead>\n",
       "  <tbody>\n",
       "    <tr>\n",
       "      <th id=\"T_c65b9_level0_row0\" class=\"row_heading level0 row0\" >0</th>\n",
       "      <td id=\"T_c65b9_row0_col0\" class=\"data row0 col0\" >What was Netflix's operating margin for FY23 and how did it compare to the target?</td>\n",
       "      <td id=\"T_c65b9_row0_col1\" class=\"data row0 col1\" >Netflix's operating margin for FY23 was 21%, which exceeded their target of 20%.</td>\n",
       "      <td id=\"T_c65b9_row0_col2\" class=\"data row0 col2\" >January23,2024\n",
       "Fellowshareholders,\n",
       "Summary:\n",
       "●We’vejustendedourfirstyearwithTedandGregasco-CEOsand,undertheirleadership,Netflixachievedthekeyfinancialobjectiveswesetatthestartof2023.We’ve:\n",
       "○Acceleratedourgrowth,exitingtheyearwith12%revenuegrowth,upfrom6%in2022;\n",
       "○GrownourFY23operatingmarginto21%from18%in2022,aheadofour20%target;\n",
       "○Increasedourfreecashflowto$6.9Bfor2023.\n",
       "●TheyearhasshowntheneedforNetflixtobalanceconsistencyandcontinuousimprovementwithadaptability.In2024,weseebigopportunitiesto:\n",
       "○Increaseourvaluetomembersbyfurtherimprovingthecore(seriesandfilm),whilebroadeningouroffering(games,liveandsports-adjacentprogramming);\n",
       "○Tapintoasignificantnewlongtermrevenueandprofitpoolbyscalingouradsbusiness;\n",
       "○Deepenourconnectionwithfansthroughourmarketing,consumerproductsandinnovativenewliveexperiences.\n",
       "●Webelievethereisplentyofroomforgrowthaheadasstreamingexpands,andournorthstarremainsthesame:tothrillmemberswithourentertainment.IfwecancontinuetoimproveNetflixfasterthanthecompetition,we’llhavean...</td>\n",
       "      <td id=\"T_c65b9_row0_col3\" class=\"data row0 col3\" >query=\"What was Netflix's operating margin for FY23 and how did it compare to the target?\" contexts=None response=\"Netflix's operating margin for FY23 was 21%, which exceeded their target of 20%.\" passing=True feedback='YES' score=1.0 pairwise_source=None invalid_result=False invalid_reason=None</td>\n",
       "    </tr>\n",
       "  </tbody>\n",
       "</table>\n"
      ],
      "text/plain": [
       "<pandas.io.formats.style.Styler at 0x16a37a020>"
      ]
     },
     "metadata": {},
     "output_type": "display_data"
    }
   ],
   "source": [
    "display_eval_df(eval_questions[2], response_vector, eval_result)\n"
   ]
  },
  {
   "cell_type": "code",
   "execution_count": null,
   "id": "cecb689d-c79a-4760-b54c-b18429c95241",
   "metadata": {},
   "outputs": [],
   "source": []
  }
 ],
 "metadata": {
  "kernelspec": {
   "display_name": "Python 3 (ipykernel)",
   "language": "python",
   "name": "python3"
  },
  "language_info": {
   "codemirror_mode": {
    "name": "ipython",
    "version": 3
   },
   "file_extension": ".py",
   "mimetype": "text/x-python",
   "name": "python",
   "nbconvert_exporter": "python",
   "pygments_lexer": "ipython3",
   "version": "3.10.8"
  },
  "vscode": {
   "interpreter": {
    "hash": "5bb06bf2621a6b77ea4232555325d6cba36aa7b2a20ff0f4d7c6687c388b48de"
   }
  }
 },
 "nbformat": 4,
 "nbformat_minor": 5
}
