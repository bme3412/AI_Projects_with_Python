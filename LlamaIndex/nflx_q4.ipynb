{
 "cells": [
  {
   "cell_type": "code",
   "execution_count": 1,
   "id": "823bcb7a-d352-483d-92e9-ff25bddd3ecd",
   "metadata": {},
   "outputs": [],
   "source": [
    "from llama_index import VectorStoreIndex, SimpleDirectoryReader"
   ]
  },
  {
   "cell_type": "code",
   "execution_count": 3,
   "id": "845a6df2-bcfe-4f3d-8ee1-d63c1c011f2a",
   "metadata": {},
   "outputs": [],
   "source": [
    "documents = SimpleDirectoryReader('data').load_data()\n",
    "index = VectorStoreIndex.from_documents(documents)"
   ]
  },
  {
   "cell_type": "code",
   "execution_count": 7,
   "id": "9c037c36-f5bb-4f77-aa65-e1bc5f77f6e1",
   "metadata": {},
   "outputs": [
    {
     "name": "stdout",
     "output_type": "stream",
     "text": [
      "They provided a forecast for Q1 2024 of 13% revenue growth on an F/X neutral basis.\n"
     ]
    }
   ],
   "source": [
    "# Query the data\n",
    "query_engine = index.as_query_engine()\n",
    "response = query_engine.query('What forecast did they provide for Q1 2024? for revenue and revenue growth rate on an F/X neutral basis?')\n",
    "print(response)"
   ]
  },
  {
   "cell_type": "markdown",
   "id": "0f8850b2-54bc-4cbf-8a7b-a04e6223b3b4",
   "metadata": {},
   "source": [
    "## \"I want to parse my data into smaller chunks\""
   ]
  },
  {
   "cell_type": "code",
   "execution_count": 19,
   "id": "0f8c0d10-b627-4b80-8d8b-5e7a68456e20",
   "metadata": {},
   "outputs": [
    {
     "name": "stdout",
     "output_type": "stream",
     "text": [
      "The strength of non-English programming was mentioned, including titles like Lupin S3 from France, Elite S7, and the movie Nowhere from Spain, Cigarette Girl from Indonesia, YuYu Hakusho from Japan, Gyeongseong Creature from Korea, The Railway Men from India, Criminal Code from Brazil, and Nothing to See Here from Mexico.\n"
     ]
    }
   ],
   "source": [
    "from llama_index import ServiceContext\n",
    "service_context = ServiceContext.from_defaults(chunk_size=200)\n",
    "documents = SimpleDirectoryReader('data').load_data()\n",
    "index = VectorStoreIndex.from_documents(documents, service_context=service_context)\n",
    "\n",
    "query_engine = index.as_query_engine()\n",
    "response = query_engine.query('What did they say about the strength of non-English programming?')\n",
    "print(response)"
   ]
  },
  {
   "cell_type": "markdown",
   "id": "e49f6426-15d2-49a8-beec-7703885f89bc",
   "metadata": {},
   "source": [
    "## I want to retrieve more context when I query\""
   ]
  },
  {
   "cell_type": "code",
   "execution_count": 31,
   "id": "eaa03e22-d277-4d08-8ece-a9d0d7bf607c",
   "metadata": {},
   "outputs": [
    {
     "name": "stdout",
     "output_type": "stream",
     "text": [
      "The letter mentioned the strength of non-English programming, including shows like Lupin S3 from France, Elite S7, and the movie Nowhere from Spain. It also mentioned other non-English titles from Indonesia, Japan, Korea, India, Brazil, and Mexico.\n"
     ]
    }
   ],
   "source": [
    "query_engine = index.as_query_engine(similarity_top_k=5)\n",
    "response = query_engine.query('What did they say about the strength of non-English programming?')\n",
    "print(response)"
   ]
  },
  {
   "cell_type": "markdown",
   "id": "04d7674f-89a6-4d8d-a877-d2df20ff1249",
   "metadata": {},
   "source": [
    "## Low level API"
   ]
  },
  {
   "cell_type": "code",
   "execution_count": 22,
   "id": "5f3de596-5451-42dc-addc-83209a1ea19d",
   "metadata": {},
   "outputs": [],
   "source": [
    "from llama_index import Response\n",
    "from llama_index.retrievers import VectorIndexRetriever\n",
    "from llama_index.query_engine import RetrieverQueryEngine\n",
    "from llama_index.indices.postprocessor import SimilarityPostprocessor\n",
    "from llama_index.response_synthesizers import (ResponseMode, get_response_synthesizer)"
   ]
  },
  {
   "cell_type": "code",
   "execution_count": 26,
   "id": "6cd4c917-f9e8-436d-928e-6ad51ba1c8df",
   "metadata": {},
   "outputs": [
    {
     "name": "stdout",
     "output_type": "stream",
     "text": [
      "NFLX provided an outlook for 2024 in their shareholder letter. They mentioned that they expect a high single-digit percentage year-over-year increase in content amortization. However, the specific revenue outlook for 2024 is not mentioned in the given context. Regarding the operating margin, NFLX increased their full-year 2024 operating margin forecast from 22%-23% to 24%.\n"
     ]
    }
   ],
   "source": [
    "# build index\n",
    "index =VectorStoreIndex.from_documents(documents)\n",
    "\n",
    "# configure retriever\n",
    "retriever = VectorIndexRetriever(\n",
    "    index=index,\n",
    "    similarity_top_k=2,\n",
    ")\n",
    "\n",
    "# configure response synthesizer\n",
    "response_synthesizer = get_response_synthesizer(response_mode=ResponseMode.COMPACT)\n",
    "\n",
    "# assemble query engine\n",
    "query_engine= RetrieverQueryEngine(\n",
    "    retriever=retriever,\n",
    "    response_synthesizer=response_synthesizer,\n",
    ")\n",
    "\n",
    "# query\n",
    "response = query_engine.query('What outlook did NFLX provide for outlook for 2024?, start with revenue, then operating margin')\n",
    "print(response)"
   ]
  },
  {
   "cell_type": "code",
   "execution_count": 28,
   "id": "3ccf5cfe-0994-4c2f-b78f-2563582c6146",
   "metadata": {},
   "outputs": [
    {
     "name": "stdout",
     "output_type": "stream",
     "text": [
      "NFLX provided an outlook for 2024 in their shareholder letter. They mentioned that they expect a high single-digit percentage year-over-year increase in content amortization. However, the specific revenue outlook for 2024 is not mentioned in the given context. Regarding the operating margin, NFLX increased their full-year 2024 operating margin forecast from 22%-23% to 24% based on FX rates as of January 1, 2024. They mentioned that their goal is to steadily increase their operating margin each year, though the rate of margin expansion may vary year to year.\n",
      "NFLX provided an outlook for 2024 in their shareholder letter. They mentioned that they expect a high single-digit percentage year-over-year increase in content amortization. However, the specific revenue outlook for 2024 is not mentioned in the given context. Regarding the operating margin, NFLX increased their full-year 2024 operating margin forecast from 22%-23% to 24% based on FX rates as of January 1, 2024. They mentioned that this reflects the weakening of the US dollar against most other currencies since October and their stronger-than-forecasted Q4'23 performance.\n",
      "NFLX provided an outlook for 2024 in terms of revenue and operating margin. They mentioned that they expect a high single-digit percentage year-over-year increase in content amortization for FY24. However, the specific revenue outlook for 2024 was not mentioned in the given context. In terms of operating margin, NFLX increased their full-year 2024 operating margin forecast from 22%-23% to 24%. This increase reflects the weakening of the US dollar against most other currencies since October, as well as their stronger-than-forecasted Q4'23 performance and their expectation for how that will carry through 2024.\n"
     ]
    }
   ],
   "source": [
    "# default\n",
    "query_engine=RetrieverQueryEngine.from_args(retriever, response_mode='simple_summarize')\n",
    "response = query_engine.query('What outlook did NFLX provide for outlook for 2024?, start with revenue, then operating margin')\n",
    "print(response)\n",
    "# compact\n",
    "query_engine=RetrieverQueryEngine.from_args(retriever, response_mode='compact')\n",
    "response = query_engine.query('What outlook did NFLX provide for outlook for 2024?, start with revenue, then operating margin')\n",
    "print(response)\n",
    "\n",
    "# tree summaraize\n",
    "query_engine=RetrieverQueryEngine.from_args(retriever, response_mode='tree_summarize')\n",
    "response = query_engine.query('What outlook did NFLX provide for outlook for 2024?, start with revenue, then operating margin')\n",
    "print(response)"
   ]
  },
  {
   "cell_type": "code",
   "execution_count": null,
   "id": "811b15e9-9e69-464d-9d4d-6e040edc7db5",
   "metadata": {},
   "outputs": [],
   "source": []
  }
 ],
 "metadata": {
  "kernelspec": {
   "display_name": "Python 3 (ipykernel)",
   "language": "python",
   "name": "python3"
  },
  "language_info": {
   "codemirror_mode": {
    "name": "ipython",
    "version": 3
   },
   "file_extension": ".py",
   "mimetype": "text/x-python",
   "name": "python",
   "nbconvert_exporter": "python",
   "pygments_lexer": "ipython3",
   "version": "3.10.8"
  }
 },
 "nbformat": 4,
 "nbformat_minor": 5
}
