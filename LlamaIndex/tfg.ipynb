{
 "cells": [
  {
   "cell_type": "code",
   "execution_count": 8,
   "id": "c20b74d4-ab8b-4d83-8adc-6f559104c40f",
   "metadata": {},
   "outputs": [],
   "source": [
    "from llama_index import VectorStoreIndex, SimpleDirectoryReader\n",
    "\n",
    "documents = SimpleDirectoryReader(\"tfg_data\").load_data()\n",
    "index = VectorStoreIndex.from_documents(documents)"
   ]
  },
  {
   "cell_type": "code",
   "execution_count": 10,
   "id": "60bf14e1-20d7-49f2-86fb-fd5d69f863af",
   "metadata": {},
   "outputs": [
    {
     "name": "stdout",
     "output_type": "stream",
     "text": [
      "1. What are the different lines of business that the company operates in?\n",
      "2. Can you provide a breakdown of the revenue generated from underwriting and fee-based activities?\n",
      "3. How does the company differentiate itself from competitors in the insurance industry?\n",
      "4. What is the total gross written premiums and premium equivalents for the company?\n",
      "5. Can you provide a breakdown of the business and product mix by gross written premiums and premium equivalents?\n",
      "6. How does the company make business decisions at both the enterprise level and within the functional lines presented?\n",
      "7. What is the percentage of insurance business compared to services business in terms of gross written premiums and premium equivalents?\n",
      "8. Can you explain the underwriting authority given to distribution partners and their role in policy pricing, terms, and reinsurance placement?\n",
      "9. How does the company ensure consistency and stability of underwriting results in both commercial and personal lines of business?\n",
      "10. Can you provide more information on the company's expansion plans, particularly in the E&S market in the U.S. and Europe?\n"
     ]
    }
   ],
   "source": [
    "query_engine = index.as_query_engine()\n",
    "response = query_engine.query(\"I am an investment analyst; what would be some questions to ask the company before they go public? Focus on the business section and List 10\")\n",
    "print(response)"
   ]
  },
  {
   "cell_type": "code",
   "execution_count": 11,
   "id": "0ca87244-4719-405a-acfb-ba1cf6bc0a31",
   "metadata": {},
   "outputs": [
    {
     "name": "stdout",
     "output_type": "stream",
     "text": [
      "The key challenges for the business include the need to carefully evaluate underwriting quality and returns, decline potential programs that do not meet their risk parameters, and maintain a disciplined underwriting approach focused on profitability. They also face the challenge of assessing market pricing and not sacrificing underwriting integrity for top-line growth.\n",
      "\n",
      "On the other hand, the business has opportunities in the favorable industry dynamics, such as the increasing prominence of Managing General Agents (MGAs) in the P&C insurance market. They can leverage their agent-centric focus, underwriting expertise, and experience partnering with MGAs to be a preferred partner in this growing market. Additionally, their use of technology and data capabilities can enhance agent experience and performance, generate underwriting-qualified leads, and streamline claims processes, providing a significant competitive edge.\n"
     ]
    }
   ],
   "source": [
    "response = query_engine.query(\"What re the key challenges and opportunities for the business?\")\n",
    "print(response)"
   ]
  },
  {
   "cell_type": "code",
   "execution_count": null,
   "id": "101ccb3a-bb43-4983-b0ff-bb1d9e2dcd29",
   "metadata": {},
   "outputs": [],
   "source": []
  }
 ],
 "metadata": {
  "kernelspec": {
   "display_name": "Python 3 (ipykernel)",
   "language": "python",
   "name": "python3"
  },
  "language_info": {
   "codemirror_mode": {
    "name": "ipython",
    "version": 3
   },
   "file_extension": ".py",
   "mimetype": "text/x-python",
   "name": "python",
   "nbconvert_exporter": "python",
   "pygments_lexer": "ipython3",
   "version": "3.10.8"
  }
 },
 "nbformat": 4,
 "nbformat_minor": 5
}
