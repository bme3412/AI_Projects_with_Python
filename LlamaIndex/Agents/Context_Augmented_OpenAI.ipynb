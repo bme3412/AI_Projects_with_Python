{
 "cells": [
  {
   "cell_type": "markdown",
   "id": "b7e729d5-9322-4134-b8fa-0e34f5267305",
   "metadata": {},
   "source": [
    "## Context Augmented OpenAI Agent"
   ]
  },
  {
   "cell_type": "code",
   "execution_count": 90,
   "id": "e44888c7-5a79-4e60-9c62-3b2ad221d17b",
   "metadata": {},
   "outputs": [],
   "source": [
    "import json\n",
    "from typing import Sequence\n",
    "\n",
    "from llama_index.core import (\n",
    "    SimpleDirectoryReader,\n",
    "    VectorStoreIndex,\n",
    "    StorageContext,\n",
    "    load_index_from_storage\n",
    ")\n",
    "from llama_index.core.tools import QueryEngineTool, ToolMetadata"
   ]
  },
  {
   "cell_type": "code",
   "execution_count": 91,
   "id": "04b19cf3-ebf7-4f79-b943-b8816404d1cf",
   "metadata": {},
   "outputs": [],
   "source": [
    "try:\n",
    "    storage_context = StorageContext.from_defaults(persist_dir=\"./storage/march\")\n",
    "    march_index = load_index_from_storage(storage_context)\n",
    "\n",
    "    storage_context = StorageContext.from_defaults(persist_dir=\"./storage/june\")\n",
    "    june_index = load_index_from_storage(storage_context)\n",
    "\n",
    "    storage_context = StorageContext.from_defaults(persist_dir=\"./storage/sept\")\n",
    "    sept_index = load_index_from_storage(storage_context)\n",
    "\n",
    "    index_loaded=True\n",
    "    \n",
    "except:\n",
    "    index_loaded = False"
   ]
  },
  {
   "cell_type": "markdown",
   "id": "c1ea4400-b11a-4263-8ce9-ad08f4d12b88",
   "metadata": {},
   "source": [
    "### Download Data"
   ]
  },
  {
   "cell_type": "code",
   "execution_count": 92,
   "id": "6f96ddca-ff7d-4302-8fae-47d7a75ea997",
   "metadata": {},
   "outputs": [
    {
     "name": "stdout",
     "output_type": "stream",
     "text": [
      "--2024-04-30 15:43:07--  https://raw.githubusercontent.com/run-llama/llama_index/main/docs/docs/examples/data/10q/uber_10q_march_2022.pdf\n",
      "Resolving raw.githubusercontent.com (raw.githubusercontent.com)... 185.199.109.133, 185.199.110.133, 185.199.111.133, ...\n",
      "Connecting to raw.githubusercontent.com (raw.githubusercontent.com)|185.199.109.133|:443... connected.\n",
      "HTTP request sent, awaiting response... 200 OK\n",
      "Length: 1260185 (1.2M) [application/octet-stream]\n",
      "Saving to: ‘data/10q/uber_10q_march_2022.pdf’\n",
      "\n",
      "data/10q/uber_10q_m 100%[===================>]   1.20M  --.-KB/s    in 0.1s    \n",
      "\n",
      "2024-04-30 15:43:08 (9.53 MB/s) - ‘data/10q/uber_10q_march_2022.pdf’ saved [1260185/1260185]\n",
      "\n",
      "--2024-04-30 15:43:08--  https://raw.githubusercontent.com/run-llama/llama_index/main/docs/docs/examples/data/10q/uber_10q_june_2022.pdf\n",
      "Resolving raw.githubusercontent.com (raw.githubusercontent.com)... 185.199.110.133, 185.199.111.133, 185.199.108.133, ...\n",
      "Connecting to raw.githubusercontent.com (raw.githubusercontent.com)|185.199.110.133|:443... connected.\n",
      "HTTP request sent, awaiting response... 200 OK\n",
      "Length: 1238483 (1.2M) [application/octet-stream]\n",
      "Saving to: ‘data/10q/uber_10q_june_2022.pdf’\n",
      "\n",
      "data/10q/uber_10q_j 100%[===================>]   1.18M  --.-KB/s    in 0.1s    \n",
      "\n",
      "2024-04-30 15:43:08 (8.70 MB/s) - ‘data/10q/uber_10q_june_2022.pdf’ saved [1238483/1238483]\n",
      "\n",
      "--2024-04-30 15:43:08--  https://raw.githubusercontent.com/run-llama/llama_index/main/docs/docs/examples/data/10q/uber_10q_sept_2022.pdf\n",
      "Resolving raw.githubusercontent.com (raw.githubusercontent.com)... 185.199.111.133, 185.199.108.133, 185.199.109.133, ...\n",
      "Connecting to raw.githubusercontent.com (raw.githubusercontent.com)|185.199.111.133|:443... connected.\n",
      "HTTP request sent, awaiting response... 200 OK\n",
      "Length: 1178622 (1.1M) [application/octet-stream]\n",
      "Saving to: ‘data/10q/uber_10q_sept_2022.pdf’\n",
      "\n",
      "data/10q/uber_10q_s 100%[===================>]   1.12M  --.-KB/s    in 0.1s    \n",
      "\n",
      "2024-04-30 15:43:09 (8.31 MB/s) - ‘data/10q/uber_10q_sept_2022.pdf’ saved [1178622/1178622]\n",
      "\n"
     ]
    }
   ],
   "source": [
    "!mkdir -p 'data/10q/'\n",
    "!wget 'https://raw.githubusercontent.com/run-llama/llama_index/main/docs/docs/examples/data/10q/uber_10q_march_2022.pdf' -O 'data/10q/uber_10q_march_2022.pdf'\n",
    "!wget 'https://raw.githubusercontent.com/run-llama/llama_index/main/docs/docs/examples/data/10q/uber_10q_june_2022.pdf' -O 'data/10q/uber_10q_june_2022.pdf'\n",
    "!wget 'https://raw.githubusercontent.com/run-llama/llama_index/main/docs/docs/examples/data/10q/uber_10q_sept_2022.pdf' -O 'data/10q/uber_10q_sept_2022.pdf'"
   ]
  },
  {
   "cell_type": "code",
   "execution_count": 93,
   "id": "a7760e37-def7-4397-8b8d-dce1b7cdfcbb",
   "metadata": {},
   "outputs": [],
   "source": [
    "# build indexes across the three data sources\n",
    "if not index_loaded:\n",
    "    # load data\n",
    "    march_docs = SimpleDirectoryReader(\n",
    "        input_files=[\"./data/10q/uber_10q_march_2022.pdf\"]\n",
    "    ).load_data()\n",
    "    june_docs = SimpleDirectoryReader(\n",
    "        input_files=[\"./data/10q/uber_10q_june_2022.pdf\"]\n",
    "    ).load_data()\n",
    "    sept_docs = SimpleDirectoryReader(\n",
    "        input_files=[\"./data/10q/uber_10q_sept_2022.pdf\"]\n",
    "    ).load_data()\n",
    "\n",
    "    # build index\n",
    "    march_index = VectorStoreIndex.from_documents(march_docs)\n",
    "    june_index = VectorStoreIndex.from_documents(june_docs)\n",
    "    sept_index = VectorStoreIndex.from_documents(sept_docs)\n",
    "\n",
    "    # persist index\n",
    "    march_index.storage_context.persist(persist_dir=\"./storage/march\")\n",
    "    june_index.storage_context.persist(persist_dir=\"./storage/june\")\n",
    "    sept_index.storage_context.persist(persist_dir=\"./storage/sept\")"
   ]
  },
  {
   "cell_type": "code",
   "execution_count": 94,
   "id": "8e2d2860-638b-4927-a31d-39824fde4de2",
   "metadata": {},
   "outputs": [],
   "source": [
    "march_engine = march_index.as_query_engine(similarity_top_k=3)\n",
    "june_engine = june_index.as_query_engine(similarity_top_k=3)\n",
    "sept_engine = sept_index.as_query_engine(similarity_top_k=3)"
   ]
  },
  {
   "cell_type": "code",
   "execution_count": 95,
   "id": "d3fe7715-6aa2-443a-aba3-93b3d10bbb81",
   "metadata": {},
   "outputs": [],
   "source": [
    "query_engine_tools = [\n",
    "    QueryEngineTool(\n",
    "        query_engine=march_engine,\n",
    "        metadata=ToolMetadata(\n",
    "            name=\"uber_march_10q\",\n",
    "            description=(\n",
    "                \"Provides information about Uber 10Q filings for March 2022. \"\n",
    "                \"Use a detailed plain text question as input to the tool.\"\n",
    "            ),\n",
    "        ),\n",
    "    ),\n",
    "    QueryEngineTool(\n",
    "        query_engine=june_engine,\n",
    "        metadata=ToolMetadata(\n",
    "            name=\"uber_june_10q\",\n",
    "            description=(\n",
    "                \"Provides information about Uber financials for June 2021. \"\n",
    "                \"Use a detailed plain text question as input to the tool.\"\n",
    "            ),\n",
    "        ),\n",
    "    ),\n",
    "    QueryEngineTool(\n",
    "        query_engine=sept_engine,\n",
    "        metadata=ToolMetadata(\n",
    "            name=\"uber_sept_10q\",\n",
    "            description=(\n",
    "                \"Provides information about Uber financials for Sept 2021. \"\n",
    "                \"Use a detailed plain text question as input to the tool.\"\n",
    "            ),\n",
    "        ),\n",
    "    ),\n",
    "]"
   ]
  },
  {
   "cell_type": "markdown",
   "id": "f4ae4ff4-09cf-4792-9994-1f30b7855986",
   "metadata": {},
   "source": [
    "## Try Context-Augmented Agent"
   ]
  },
  {
   "cell_type": "code",
   "execution_count": 96,
   "id": "77227454-a44e-4c2a-91df-ebb2fae55281",
   "metadata": {},
   "outputs": [],
   "source": [
    "from llama_index.core import Document\n",
    "from llama_index.agent.openai_legacy import ContextRetrieverOpenAIAgent"
   ]
  },
  {
   "cell_type": "code",
   "execution_count": 97,
   "id": "126c6982-3140-41f6-93f7-b86bf086e174",
   "metadata": {},
   "outputs": [],
   "source": [
    "# toy index - stores a list of abbreviations\n",
    "texts = [\n",
    "    \"Abbreviation: X = Revenue\",\n",
    "    \"Abbreviation: Y = Risk Factors\",\n",
    "    \"Abbreviation: Z = Costs\",\n",
    "]\n",
    "docs = [Document(text=t) for t in texts]\n",
    "context_index = VectorStoreIndex.from_documents(docs)"
   ]
  },
  {
   "cell_type": "code",
   "execution_count": 98,
   "id": "72963ab4-74e0-49bd-88c6-e5056d920c05",
   "metadata": {},
   "outputs": [],
   "source": [
    "context_agent = ContextRetrieverOpenAIAgent.from_tools_and_retriever(\n",
    "    query_engine_tools,\n",
    "    context_index.as_retriever(similarity_top_k=1),\n",
    "    verbose=True,\n",
    ")"
   ]
  },
  {
   "cell_type": "code",
   "execution_count": 99,
   "id": "679e439d-8577-40bf-abdb-0e978bcf7350",
   "metadata": {},
   "outputs": [
    {
     "name": "stdout",
     "output_type": "stream",
     "text": [
      "\u001b[1;3;33mContext information is below.\n",
      "---------------------\n",
      "Abbreviation: X = Revenue\n",
      "---------------------\n",
      "Given the context information and not prior knowledge, either pick the corresponding tool or answer the function: What is the X of March 2022?\n",
      "\n",
      "\u001b[0mSTARTING TURN 1\n",
      "---------------\n",
      "\n",
      "=== Calling Function ===\n",
      "Calling function: uber_march_10q with args: {\"input\":\"What is the Revenue of March 2022?\"}\n",
      "Got output: The Revenue for March 2022 is $6,854 million.\n",
      "========================\n",
      "\n",
      "STARTING TURN 2\n",
      "---------------\n",
      "\n"
     ]
    }
   ],
   "source": [
    "response = context_agent.chat('What is the X of March 2022?')"
   ]
  },
  {
   "cell_type": "code",
   "execution_count": 100,
   "id": "95c34c99-4a44-4ab5-9d28-5308ee32818a",
   "metadata": {},
   "outputs": [
    {
     "name": "stdout",
     "output_type": "stream",
     "text": [
      "The Revenue for March 2022 is $6,854 million.\n"
     ]
    }
   ],
   "source": [
    "print(str(response))"
   ]
  },
  {
   "cell_type": "code",
   "execution_count": 101,
   "id": "d9360e08-5b40-47b1-8d43-dc8c621ebf4f",
   "metadata": {},
   "outputs": [
    {
     "name": "stdout",
     "output_type": "stream",
     "text": [
      "\u001b[1;3;33mContext information is below.\n",
      "---------------------\n",
      "Abbreviation: Z = Costs\n",
      "---------------------\n",
      "Given the context information and not prior knowledge, either pick the corresponding tool or answer the function: What is the X and Z in September 2022?\n",
      "\n",
      "\u001b[0mSTARTING TURN 1\n",
      "---------------\n",
      "\n",
      "=== Calling Function ===\n",
      "Calling function: uber_sept_10q with args: {\"input\": \"What is the Revenue of September 2022?\"}\n",
      "Got output: The Revenue for September 2022 is $8,343 million.\n",
      "========================\n",
      "\n",
      "=== Calling Function ===\n",
      "Calling function: uber_sept_10q with args: {\"input\": \"What are the Costs of September 2022?\"}\n",
      "Got output: Costs of September 2022 include Cost of Revenue, exclusive of Depreciation and Amortization, Operations and Support expenses, and Sales and Marketing expenses.\n",
      "========================\n",
      "\n",
      "=== Calling Function ===\n",
      "Calling function: uber_sept_10q with args: {\"input\": \"What is the Revenue and Costs of September 2022?\"}\n",
      "Got output: The Revenue for September 2022 is $8,343 million, and the Costs for September 2022 are as follows:\n",
      "- Cost of Revenue, exclusive of Depreciation and Amortization: $5,173 million\n",
      "- Operations and Support: $617 million\n",
      "- Sales and Marketing: $1,153 million\n",
      "========================\n",
      "\n",
      "STARTING TURN 2\n",
      "---------------\n",
      "\n"
     ]
    },
    {
     "data": {
      "text/plain": [
       "AgentChatResponse(response='The Revenue for September 2022 is $8,343 million, and the Costs for September 2022 are as follows:\\n- Cost of Revenue, exclusive of Depreciation and Amortization: $5,173 million\\n- Operations and Support: $617 million\\n- Sales and Marketing: $1,153 million', sources=[ToolOutput(content='The Revenue for September 2022 is $8,343 million.', tool_name='uber_sept_10q', raw_input={'input': 'What is the Revenue of September 2022?'}, raw_output=Response(response='The Revenue for September 2022 is $8,343 million.', source_nodes=[NodeWithScore(node=TextNode(id_='b91a641d-8378-47b2-9162-480a49b1b0c2', embedding=None, metadata={'page_label': '42', 'file_name': 'uber_10q_sept_2022.pdf', 'file_path': 'data/10q/uber_10q_sept_2022.pdf', 'file_type': 'application/pdf', 'file_size': 1178622, 'creation_date': '2024-04-30', 'last_modified_date': '2024-04-30'}, excluded_embed_metadata_keys=['file_name', 'file_type', 'file_size', 'creation_date', 'last_modified_date', 'last_accessed_date'], excluded_llm_metadata_keys=['file_name', 'file_type', 'file_size', 'creation_date', 'last_modified_date', 'last_accessed_date'], relationships={<NodeRelationship.SOURCE: '1'>: RelatedNodeInfo(node_id='e21b67d5-ee0e-4313-a63d-090a4f36d47e', node_type=<ObjectType.DOCUMENT: '4'>, metadata={'page_label': '42', 'file_name': 'uber_10q_sept_2022.pdf', 'file_path': 'data/10q/uber_10q_sept_2022.pdf', 'file_type': 'application/pdf', 'file_size': 1178622, 'creation_date': '2024-04-30', 'last_modified_date': '2024-04-30'}, hash='8cbae91998fcf92d536379abea8dddff0edd2f8be4ec972c0fd140d8c36476fc'), <NodeRelationship.PREVIOUS: '2'>: RelatedNodeInfo(node_id='090fe02e-836a-4725-a6c9-15a091c1bf5d', node_type=<ObjectType.TEXT: '1'>, metadata={'page_label': '41', 'file_name': 'uber_10q_sept_2022.pdf', 'file_path': 'data/10q/uber_10q_sept_2022.pdf', 'file_type': 'application/pdf', 'file_size': 1178622, 'creation_date': '2024-04-30', 'last_modified_date': '2024-04-30'}, hash='41fc1c9b426af7362757525735428e6242769fed1fc7f3d348398ecc4a5a9c5d'), <NodeRelationship.NEXT: '3'>: RelatedNodeInfo(node_id='b9c88c5b-5837-4d5a-8564-228c03056bd5', node_type=<ObjectType.TEXT: '1'>, metadata={}, hash='b82e12b06c00fa85b960a2fb21cc734222ec758e0918d640fcf2658d2da2f0c1')}, text='Three Months Ended September 30, Nine Months Ended September 30,\\n2021 2022 2021 2022\\nRevenue 100 % 100 % 100 % 100 %\\nCosts and expenses\\nCost of revenue, exclusive of depreciation and amortization shown separately\\nbelow 50 % 62 % 53 % 62 %\\nOperations and support 10 % 7 % 11 % 8 %\\nSales and marketing 24 % 14 % 30 % 16 %\\nResearch and development 10 % 9 % 13 % 9 %\\nGeneral and administrative 13 % 11 % 15 % 10 %\\nDepreciation and amortization 4 % 3 % 6 % 3 %\\nTotal costs and expenses 112 % 106 % 128 % 107 %\\nLoss from operations (12)% (6)% (28)% (7)%\\nInterest expense (3)% (2)% (3)% (2)%\\nOther income (expense), net (38)% (6)% 16 % (34)%\\nLoss before income taxes and income (loss) from equity method\\ninvestments (52)% (14)% (16)% (43)%\\nProvision for (benefit from) income taxes (2)% 1 % (3)% — %\\nIncome (loss) from equity method investments — % — % — % — %\\nNet loss including non-controlling interests (50)% (14)% (12)% (42)%\\nLess: net income (loss) attributable to non-controlling interests,\\nnet of tax — % — % (1)% — %\\nNet loss attributable to Uber Technologies, Inc. (50)% (14)% (12)% (42)%\\n Totals of percentage of revenues may not foot due to rounding.\\nThe following discussion and analysis is for the three and nine months ended September 30, 2022 compared to same period in 2021.\\nRevenue\\nThree Months Ended September 30, Nine Months Ended September 30,\\n(In millions, except per centages) 2021 2022 % Change 2021 2022 % Change\\nRevenue $ 4,845 $ 8,343 72 %$ 11,677 $ 23,270 99 %\\nThree Months Ended September 30, 2022 Compared with the Same Period in 2021\\nRevenue increased $3.5 billion, or 72%, primarily attributable to an increase in Gross Bookings of 26%, or 32% on a constant currency basis. The increase in\\nGross Bookings was primarily driven by increases in Mobility Trip volumes as the business recovers from the impacts of COVID-19 and a $1.3 billion increase in\\nFreight Gross Bookings resulting primarily from the acquisition of Transplace in the fourth quarter of 2021. Additionally, during the third quarter of 2022, we saw a\\n$1.1 billion increase in Mobility revenue as a result of business model changes in the UK. We also saw a $164 million increase in Delivery revenue resulting from\\nan increase in certain Courier payments and incentives that are recorded in cost of revenue, exclusive of depreciation and amortization, for certain markets where\\nwe are primarily responsible for Delivery services and pay Couriers for services provided.\\nNine Months Ended September 30, 2022 Compared with the Same Period in 2021\\nRevenue increased $11.6 billion, or 99%, primarily attributable to an increase in Gross Bookings of 31%, or 36% on a constant currency basis. The increase in\\nGross Bookings was primarily driven by increases in Mobility Trip volumes as the business recovers from the impacts of COVID-19 and a $4.4 billion increase in\\nFreight Gross Bookings resulting primarily from the acquisition of Transplace in the fourth quarter of 2021. Additionally, during the first nine months of 2022, we\\nsaw a $2.2 billion net increase in Mobility revenue as a result of business model changes in the UK and an accrual made for the resolution of historical claims in\\nthe UK relating to the classification of drivers. We also saw a $751 million increase in Delivery revenue resulting from an increase in certain Courier payments and\\nincentives that are recorded in cost of revenue, exclusive of depreciation and amortization, for certain markets where we are primarily responsible for Delivery\\nservices and pay Couriers for services provided.(1)\\n41', start_char_idx=0, end_char_idx=3554, text_template='{metadata_str}\\n\\n{content}', metadata_template='{key}: {value}', metadata_seperator='\\n'), score=0.84776627215451), NodeWithScore(node=TextNode(id_='b9c88c5b-5837-4d5a-8564-228c03056bd5', embedding=None, metadata={'page_label': '43', 'file_name': 'uber_10q_sept_2022.pdf', 'file_path': 'data/10q/uber_10q_sept_2022.pdf', 'file_type': 'application/pdf', 'file_size': 1178622, 'creation_date': '2024-04-30', 'last_modified_date': '2024-04-30'}, excluded_embed_metadata_keys=['file_name', 'file_type', 'file_size', 'creation_date', 'last_modified_date', 'last_accessed_date'], excluded_llm_metadata_keys=['file_name', 'file_type', 'file_size', 'creation_date', 'last_modified_date', 'last_accessed_date'], relationships={<NodeRelationship.SOURCE: '1'>: RelatedNodeInfo(node_id='1ba0e66b-14d9-4e2f-b55f-ab940f82a96b', node_type=<ObjectType.DOCUMENT: '4'>, metadata={'page_label': '43', 'file_name': 'uber_10q_sept_2022.pdf', 'file_path': 'data/10q/uber_10q_sept_2022.pdf', 'file_type': 'application/pdf', 'file_size': 1178622, 'creation_date': '2024-04-30', 'last_modified_date': '2024-04-30'}, hash='567248f234d087edaf5ecbaf114933785fefcf2498ac49db9b75bda7146cbdd5'), <NodeRelationship.PREVIOUS: '2'>: RelatedNodeInfo(node_id='b91a641d-8378-47b2-9162-480a49b1b0c2', node_type=<ObjectType.TEXT: '1'>, metadata={'page_label': '42', 'file_name': 'uber_10q_sept_2022.pdf', 'file_path': 'data/10q/uber_10q_sept_2022.pdf', 'file_type': 'application/pdf', 'file_size': 1178622, 'creation_date': '2024-04-30', 'last_modified_date': '2024-04-30'}, hash='8cbae91998fcf92d536379abea8dddff0edd2f8be4ec972c0fd140d8c36476fc'), <NodeRelationship.NEXT: '3'>: RelatedNodeInfo(node_id='dbb1a5cf-b2f4-40bb-b160-64035493095e', node_type=<ObjectType.TEXT: '1'>, metadata={}, hash='aed32a6731c7989f763694a7f326ae0813ff37831dc757b9f85dbf7136405074')}, text='Cost of Revenue, Exclusive of Depreciation and Amortization\\nThree Months Ended September 30, Nine Months Ended September 30,\\n(In millions, except per centages) 2021 2022 % Change 2021 2022 % Change\\nCost of revenue, exclusive of depreciation\\nand amortization $ 2,438 $ 5,173 112 %$ 6,247 $ 14,352 130 %\\nPercentage of revenue 50 % 62 % 53 % 62 %\\nThree Months Ended September 30, 2022 Compared with the Same Period in 2021\\nCost of revenue, exclusive of depreciation and amortization, increased $2.7 billion, or 112%, mainly due to a $898 million increase in Freight Carrier payments\\nresulting from the acquisition of Transplace in the fourth quarter of 2021, a $808 million increase in Driver payments and incentives that are recorded in cost of\\nrevenue, exclusive of depreciation and amortization, as a result of business model changes in the UK, a $282 million increase in insurance expense primarily due to\\nan increase in miles driven in our Mobility business, and a $299 million increase in Courier payments and incentives that are recorded in cost of revenue for certain\\nmarkets where we are primarily responsible for Delivery services and pay Couriers for services provided.\\nNine Months Ended September 30, 2022 Compared with the Same Period in 2021\\nCost of revenue, exclusive of depreciation and amortization, increased $8.1 billion, or 130%, mainly due to a $3.1 billion increase in Freight Carrier payments\\nresulting from the acquisition of Transplace in the fourth quarter of 2021, a $1.8 billion increase in Driver payments and incentives that are recorded in cost of\\nrevenue, exclusive of depreciation and amortization, as a result of business model changes in the UK, a $1.0 billion increase in insurance expense primarily due to\\nan increase in miles driven in our Mobility business, and a $1.0 billion increase in Courier payments and incentives that are recorded in cost of revenue for certain\\nmarkets where we are primarily responsible for Delivery services and pay Couriers for services provided.\\nOperations and Support\\nThree Months Ended September 30, Nine Months Ended September 30,\\n(In millions, except per centages) 2021 2022 % Change 2021 2022 % Change\\nOperations and support $ 475 $ 617 30 %$ 1,330 $ 1,808 36 %\\nPercentage of revenue 10 % 7 % 11 % 8 %\\nThree Months Ended September 30, 2022 Compared with the Same Period in 2021\\nOperations and support expenses increased $142 million, or 30%, primarily attributable to a $107 million increase in employee headcount costs and $28\\nmillion increase in external contractor expenses.\\nNine Months Ended September 30, 2022 Compared with the Same Period in 2021\\nOperations and support expenses increased $478 million, or 36%, primarily attributable to a $285 million increase in employee headcount costs, $104 million\\nincrease in external contractor expenses, and a $60 million increase in driver background check costs.\\nSales and Marketing\\nThree Months Ended September 30, Nine Months Ended September 30,\\n(In millions, except per centages) 2021 2022 % Change 2021 2022 % Change\\nSales and marketing $ 1,168 $ 1,153 (1)%$ 3,527 $ 3,634 3 %\\nPercentage of revenue 24 % 14 % 30 % 16 %\\nThree Months Ended September 30, 2022 Compared with the Same Period in 2021\\nSales and marketing expenses decreased $15 million, or 1%, primarily attributable to a decrease in consumer discounts, rider facing loyalty expense,\\npromotions, credits and refunds of $82 million to $521 million compared to $603 million in the same period in 2021, partially offset by an increase in employee\\nheadcount costs of $54 million, and an increase in stock-based compensation of $8 million.\\nNine Months Ended September 30, 2022 Compared with the Same Period in 2021\\nSales and marketing expenses increased $107 million, or 3%, primarily attributable to a $122 million increase in employee headcount costs, a $54 million\\nincrease in indirect advertising and marketing, and a $16 million increase in stock-based compensation, partially offset by a $92 million decrease in consumer\\ndiscounts, rider facing loyalty expense, promotions, credits and refunds to $1.7 billion compared to $1.8 billion in the same period in 2021.\\n42', start_char_idx=0, end_char_idx=4149, text_template='{metadata_str}\\n\\n{content}', metadata_template='{key}: {value}', metadata_seperator='\\n'), score=0.8317679961188928), NodeWithScore(node=TextNode(id_='8c71cb61-a1bf-453b-8946-8dbbcab498f0', embedding=None, metadata={'page_label': '14', 'file_name': 'uber_10q_sept_2022.pdf', 'file_path': 'data/10q/uber_10q_sept_2022.pdf', 'file_type': 'application/pdf', 'file_size': 1178622, 'creation_date': '2024-04-30', 'last_modified_date': '2024-04-30'}, excluded_embed_metadata_keys=['file_name', 'file_type', 'file_size', 'creation_date', 'last_modified_date', 'last_accessed_date'], excluded_llm_metadata_keys=['file_name', 'file_type', 'file_size', 'creation_date', 'last_modified_date', 'last_accessed_date'], relationships={<NodeRelationship.SOURCE: '1'>: RelatedNodeInfo(node_id='d799e221-63d6-4e09-afea-00e671cc49da', node_type=<ObjectType.DOCUMENT: '4'>, metadata={'page_label': '14', 'file_name': 'uber_10q_sept_2022.pdf', 'file_path': 'data/10q/uber_10q_sept_2022.pdf', 'file_type': 'application/pdf', 'file_size': 1178622, 'creation_date': '2024-04-30', 'last_modified_date': '2024-04-30'}, hash='ce859385e8fe102b2e52c8de2426d2700e59498ec63539801b7c025518b51d73'), <NodeRelationship.PREVIOUS: '2'>: RelatedNodeInfo(node_id='e1993ac4-fffd-4791-8482-19495d9ba25a', node_type=<ObjectType.TEXT: '1'>, metadata={'page_label': '14', 'file_name': 'uber_10q_sept_2022.pdf', 'file_path': 'data/10q/uber_10q_sept_2022.pdf', 'file_type': 'application/pdf', 'file_size': 1178622, 'creation_date': '2024-04-30', 'last_modified_date': '2024-04-30'}, hash='e84daaaef2b86342a1adc2554a767348e5c44d7f85b47b63ba03633b20edac30'), <NodeRelationship.NEXT: '3'>: RelatedNodeInfo(node_id='883885d7-8cf8-49ec-9eff-c6125de2f96f', node_type=<ObjectType.TEXT: '1'>, metadata={}, hash='b2bdf89017d944cc650488411a3aacdfd79be34408a5e84fd9988880952ddaed')}, text='We recognize Subscription fees\\nratably over the life of the pass. We allocate Subscription fees earned to Mobility and Delivery revenue on a proportional basis, based on usage for each offering\\nduring the respective period.\\nThree Months Ended September 30, Nine Months Ended September 30,\\n2021 2022 2021 2022\\nUnited States and Canada (\"US&CAN\") $ 2,648 $ 5,000 $ 6,481 $ 14,498 \\nLatin America (\"LatAm\") 390 518 999 1,431 \\nEurope, Middle East and Africa (\"EMEA\") 1,064 1,878 2,218 4,851 \\nAsia Pacific (\"APAC\") 743 947 1,979 2,490 \\nTotal revenue $ 4,845 $ 8,343 $ 11,677 $ 23,270 (1)\\n(1)\\n(1) \\n13', start_char_idx=4051, end_char_idx=4644, text_template='{metadata_str}\\n\\n{content}', metadata_template='{key}: {value}', metadata_seperator='\\n'), score=0.8310425167834589)], metadata={'b91a641d-8378-47b2-9162-480a49b1b0c2': {'page_label': '42', 'file_name': 'uber_10q_sept_2022.pdf', 'file_path': 'data/10q/uber_10q_sept_2022.pdf', 'file_type': 'application/pdf', 'file_size': 1178622, 'creation_date': '2024-04-30', 'last_modified_date': '2024-04-30'}, 'b9c88c5b-5837-4d5a-8564-228c03056bd5': {'page_label': '43', 'file_name': 'uber_10q_sept_2022.pdf', 'file_path': 'data/10q/uber_10q_sept_2022.pdf', 'file_type': 'application/pdf', 'file_size': 1178622, 'creation_date': '2024-04-30', 'last_modified_date': '2024-04-30'}, '8c71cb61-a1bf-453b-8946-8dbbcab498f0': {'page_label': '14', 'file_name': 'uber_10q_sept_2022.pdf', 'file_path': 'data/10q/uber_10q_sept_2022.pdf', 'file_type': 'application/pdf', 'file_size': 1178622, 'creation_date': '2024-04-30', 'last_modified_date': '2024-04-30'}})), ToolOutput(content='Costs of September 2022 include Cost of Revenue, exclusive of Depreciation and Amortization, Operations and Support expenses, and Sales and Marketing expenses.', tool_name='uber_sept_10q', raw_input={'input': 'What are the Costs of September 2022?'}, raw_output=Response(response='Costs of September 2022 include Cost of Revenue, exclusive of Depreciation and Amortization, Operations and Support expenses, and Sales and Marketing expenses.', source_nodes=[NodeWithScore(node=TextNode(id_='b9c88c5b-5837-4d5a-8564-228c03056bd5', embedding=None, metadata={'page_label': '43', 'file_name': 'uber_10q_sept_2022.pdf', 'file_path': 'data/10q/uber_10q_sept_2022.pdf', 'file_type': 'application/pdf', 'file_size': 1178622, 'creation_date': '2024-04-30', 'last_modified_date': '2024-04-30'}, excluded_embed_metadata_keys=['file_name', 'file_type', 'file_size', 'creation_date', 'last_modified_date', 'last_accessed_date'], excluded_llm_metadata_keys=['file_name', 'file_type', 'file_size', 'creation_date', 'last_modified_date', 'last_accessed_date'], relationships={<NodeRelationship.SOURCE: '1'>: RelatedNodeInfo(node_id='1ba0e66b-14d9-4e2f-b55f-ab940f82a96b', node_type=<ObjectType.DOCUMENT: '4'>, metadata={'page_label': '43', 'file_name': 'uber_10q_sept_2022.pdf', 'file_path': 'data/10q/uber_10q_sept_2022.pdf', 'file_type': 'application/pdf', 'file_size': 1178622, 'creation_date': '2024-04-30', 'last_modified_date': '2024-04-30'}, hash='567248f234d087edaf5ecbaf114933785fefcf2498ac49db9b75bda7146cbdd5'), <NodeRelationship.PREVIOUS: '2'>: RelatedNodeInfo(node_id='b91a641d-8378-47b2-9162-480a49b1b0c2', node_type=<ObjectType.TEXT: '1'>, metadata={'page_label': '42', 'file_name': 'uber_10q_sept_2022.pdf', 'file_path': 'data/10q/uber_10q_sept_2022.pdf', 'file_type': 'application/pdf', 'file_size': 1178622, 'creation_date': '2024-04-30', 'last_modified_date': '2024-04-30'}, hash='8cbae91998fcf92d536379abea8dddff0edd2f8be4ec972c0fd140d8c36476fc'), <NodeRelationship.NEXT: '3'>: RelatedNodeInfo(node_id='dbb1a5cf-b2f4-40bb-b160-64035493095e', node_type=<ObjectType.TEXT: '1'>, metadata={}, hash='aed32a6731c7989f763694a7f326ae0813ff37831dc757b9f85dbf7136405074')}, text='Cost of Revenue, Exclusive of Depreciation and Amortization\\nThree Months Ended September 30, Nine Months Ended September 30,\\n(In millions, except per centages) 2021 2022 % Change 2021 2022 % Change\\nCost of revenue, exclusive of depreciation\\nand amortization $ 2,438 $ 5,173 112 %$ 6,247 $ 14,352 130 %\\nPercentage of revenue 50 % 62 % 53 % 62 %\\nThree Months Ended September 30, 2022 Compared with the Same Period in 2021\\nCost of revenue, exclusive of depreciation and amortization, increased $2.7 billion, or 112%, mainly due to a $898 million increase in Freight Carrier payments\\nresulting from the acquisition of Transplace in the fourth quarter of 2021, a $808 million increase in Driver payments and incentives that are recorded in cost of\\nrevenue, exclusive of depreciation and amortization, as a result of business model changes in the UK, a $282 million increase in insurance expense primarily due to\\nan increase in miles driven in our Mobility business, and a $299 million increase in Courier payments and incentives that are recorded in cost of revenue for certain\\nmarkets where we are primarily responsible for Delivery services and pay Couriers for services provided.\\nNine Months Ended September 30, 2022 Compared with the Same Period in 2021\\nCost of revenue, exclusive of depreciation and amortization, increased $8.1 billion, or 130%, mainly due to a $3.1 billion increase in Freight Carrier payments\\nresulting from the acquisition of Transplace in the fourth quarter of 2021, a $1.8 billion increase in Driver payments and incentives that are recorded in cost of\\nrevenue, exclusive of depreciation and amortization, as a result of business model changes in the UK, a $1.0 billion increase in insurance expense primarily due to\\nan increase in miles driven in our Mobility business, and a $1.0 billion increase in Courier payments and incentives that are recorded in cost of revenue for certain\\nmarkets where we are primarily responsible for Delivery services and pay Couriers for services provided.\\nOperations and Support\\nThree Months Ended September 30, Nine Months Ended September 30,\\n(In millions, except per centages) 2021 2022 % Change 2021 2022 % Change\\nOperations and support $ 475 $ 617 30 %$ 1,330 $ 1,808 36 %\\nPercentage of revenue 10 % 7 % 11 % 8 %\\nThree Months Ended September 30, 2022 Compared with the Same Period in 2021\\nOperations and support expenses increased $142 million, or 30%, primarily attributable to a $107 million increase in employee headcount costs and $28\\nmillion increase in external contractor expenses.\\nNine Months Ended September 30, 2022 Compared with the Same Period in 2021\\nOperations and support expenses increased $478 million, or 36%, primarily attributable to a $285 million increase in employee headcount costs, $104 million\\nincrease in external contractor expenses, and a $60 million increase in driver background check costs.\\nSales and Marketing\\nThree Months Ended September 30, Nine Months Ended September 30,\\n(In millions, except per centages) 2021 2022 % Change 2021 2022 % Change\\nSales and marketing $ 1,168 $ 1,153 (1)%$ 3,527 $ 3,634 3 %\\nPercentage of revenue 24 % 14 % 30 % 16 %\\nThree Months Ended September 30, 2022 Compared with the Same Period in 2021\\nSales and marketing expenses decreased $15 million, or 1%, primarily attributable to a decrease in consumer discounts, rider facing loyalty expense,\\npromotions, credits and refunds of $82 million to $521 million compared to $603 million in the same period in 2021, partially offset by an increase in employee\\nheadcount costs of $54 million, and an increase in stock-based compensation of $8 million.\\nNine Months Ended September 30, 2022 Compared with the Same Period in 2021\\nSales and marketing expenses increased $107 million, or 3%, primarily attributable to a $122 million increase in employee headcount costs, a $54 million\\nincrease in indirect advertising and marketing, and a $16 million increase in stock-based compensation, partially offset by a $92 million decrease in consumer\\ndiscounts, rider facing loyalty expense, promotions, credits and refunds to $1.7 billion compared to $1.8 billion in the same period in 2021.\\n42', start_char_idx=0, end_char_idx=4149, text_template='{metadata_str}\\n\\n{content}', metadata_template='{key}: {value}', metadata_seperator='\\n'), score=0.8148380797567721), NodeWithScore(node=TextNode(id_='b91a641d-8378-47b2-9162-480a49b1b0c2', embedding=None, metadata={'page_label': '42', 'file_name': 'uber_10q_sept_2022.pdf', 'file_path': 'data/10q/uber_10q_sept_2022.pdf', 'file_type': 'application/pdf', 'file_size': 1178622, 'creation_date': '2024-04-30', 'last_modified_date': '2024-04-30'}, excluded_embed_metadata_keys=['file_name', 'file_type', 'file_size', 'creation_date', 'last_modified_date', 'last_accessed_date'], excluded_llm_metadata_keys=['file_name', 'file_type', 'file_size', 'creation_date', 'last_modified_date', 'last_accessed_date'], relationships={<NodeRelationship.SOURCE: '1'>: RelatedNodeInfo(node_id='e21b67d5-ee0e-4313-a63d-090a4f36d47e', node_type=<ObjectType.DOCUMENT: '4'>, metadata={'page_label': '42', 'file_name': 'uber_10q_sept_2022.pdf', 'file_path': 'data/10q/uber_10q_sept_2022.pdf', 'file_type': 'application/pdf', 'file_size': 1178622, 'creation_date': '2024-04-30', 'last_modified_date': '2024-04-30'}, hash='8cbae91998fcf92d536379abea8dddff0edd2f8be4ec972c0fd140d8c36476fc'), <NodeRelationship.PREVIOUS: '2'>: RelatedNodeInfo(node_id='090fe02e-836a-4725-a6c9-15a091c1bf5d', node_type=<ObjectType.TEXT: '1'>, metadata={'page_label': '41', 'file_name': 'uber_10q_sept_2022.pdf', 'file_path': 'data/10q/uber_10q_sept_2022.pdf', 'file_type': 'application/pdf', 'file_size': 1178622, 'creation_date': '2024-04-30', 'last_modified_date': '2024-04-30'}, hash='41fc1c9b426af7362757525735428e6242769fed1fc7f3d348398ecc4a5a9c5d'), <NodeRelationship.NEXT: '3'>: RelatedNodeInfo(node_id='b9c88c5b-5837-4d5a-8564-228c03056bd5', node_type=<ObjectType.TEXT: '1'>, metadata={}, hash='b82e12b06c00fa85b960a2fb21cc734222ec758e0918d640fcf2658d2da2f0c1')}, text='Three Months Ended September 30, Nine Months Ended September 30,\\n2021 2022 2021 2022\\nRevenue 100 % 100 % 100 % 100 %\\nCosts and expenses\\nCost of revenue, exclusive of depreciation and amortization shown separately\\nbelow 50 % 62 % 53 % 62 %\\nOperations and support 10 % 7 % 11 % 8 %\\nSales and marketing 24 % 14 % 30 % 16 %\\nResearch and development 10 % 9 % 13 % 9 %\\nGeneral and administrative 13 % 11 % 15 % 10 %\\nDepreciation and amortization 4 % 3 % 6 % 3 %\\nTotal costs and expenses 112 % 106 % 128 % 107 %\\nLoss from operations (12)% (6)% (28)% (7)%\\nInterest expense (3)% (2)% (3)% (2)%\\nOther income (expense), net (38)% (6)% 16 % (34)%\\nLoss before income taxes and income (loss) from equity method\\ninvestments (52)% (14)% (16)% (43)%\\nProvision for (benefit from) income taxes (2)% 1 % (3)% — %\\nIncome (loss) from equity method investments — % — % — % — %\\nNet loss including non-controlling interests (50)% (14)% (12)% (42)%\\nLess: net income (loss) attributable to non-controlling interests,\\nnet of tax — % — % (1)% — %\\nNet loss attributable to Uber Technologies, Inc. (50)% (14)% (12)% (42)%\\n Totals of percentage of revenues may not foot due to rounding.\\nThe following discussion and analysis is for the three and nine months ended September 30, 2022 compared to same period in 2021.\\nRevenue\\nThree Months Ended September 30, Nine Months Ended September 30,\\n(In millions, except per centages) 2021 2022 % Change 2021 2022 % Change\\nRevenue $ 4,845 $ 8,343 72 %$ 11,677 $ 23,270 99 %\\nThree Months Ended September 30, 2022 Compared with the Same Period in 2021\\nRevenue increased $3.5 billion, or 72%, primarily attributable to an increase in Gross Bookings of 26%, or 32% on a constant currency basis. The increase in\\nGross Bookings was primarily driven by increases in Mobility Trip volumes as the business recovers from the impacts of COVID-19 and a $1.3 billion increase in\\nFreight Gross Bookings resulting primarily from the acquisition of Transplace in the fourth quarter of 2021. Additionally, during the third quarter of 2022, we saw a\\n$1.1 billion increase in Mobility revenue as a result of business model changes in the UK. We also saw a $164 million increase in Delivery revenue resulting from\\nan increase in certain Courier payments and incentives that are recorded in cost of revenue, exclusive of depreciation and amortization, for certain markets where\\nwe are primarily responsible for Delivery services and pay Couriers for services provided.\\nNine Months Ended September 30, 2022 Compared with the Same Period in 2021\\nRevenue increased $11.6 billion, or 99%, primarily attributable to an increase in Gross Bookings of 31%, or 36% on a constant currency basis. The increase in\\nGross Bookings was primarily driven by increases in Mobility Trip volumes as the business recovers from the impacts of COVID-19 and a $4.4 billion increase in\\nFreight Gross Bookings resulting primarily from the acquisition of Transplace in the fourth quarter of 2021. Additionally, during the first nine months of 2022, we\\nsaw a $2.2 billion net increase in Mobility revenue as a result of business model changes in the UK and an accrual made for the resolution of historical claims in\\nthe UK relating to the classification of drivers. We also saw a $751 million increase in Delivery revenue resulting from an increase in certain Courier payments and\\nincentives that are recorded in cost of revenue, exclusive of depreciation and amortization, for certain markets where we are primarily responsible for Delivery\\nservices and pay Couriers for services provided.(1)\\n41', start_char_idx=0, end_char_idx=3554, text_template='{metadata_str}\\n\\n{content}', metadata_template='{key}: {value}', metadata_seperator='\\n'), score=0.8062610794201449), NodeWithScore(node=TextNode(id_='8c71cb61-a1bf-453b-8946-8dbbcab498f0', embedding=None, metadata={'page_label': '14', 'file_name': 'uber_10q_sept_2022.pdf', 'file_path': 'data/10q/uber_10q_sept_2022.pdf', 'file_type': 'application/pdf', 'file_size': 1178622, 'creation_date': '2024-04-30', 'last_modified_date': '2024-04-30'}, excluded_embed_metadata_keys=['file_name', 'file_type', 'file_size', 'creation_date', 'last_modified_date', 'last_accessed_date'], excluded_llm_metadata_keys=['file_name', 'file_type', 'file_size', 'creation_date', 'last_modified_date', 'last_accessed_date'], relationships={<NodeRelationship.SOURCE: '1'>: RelatedNodeInfo(node_id='d799e221-63d6-4e09-afea-00e671cc49da', node_type=<ObjectType.DOCUMENT: '4'>, metadata={'page_label': '14', 'file_name': 'uber_10q_sept_2022.pdf', 'file_path': 'data/10q/uber_10q_sept_2022.pdf', 'file_type': 'application/pdf', 'file_size': 1178622, 'creation_date': '2024-04-30', 'last_modified_date': '2024-04-30'}, hash='ce859385e8fe102b2e52c8de2426d2700e59498ec63539801b7c025518b51d73'), <NodeRelationship.PREVIOUS: '2'>: RelatedNodeInfo(node_id='e1993ac4-fffd-4791-8482-19495d9ba25a', node_type=<ObjectType.TEXT: '1'>, metadata={'page_label': '14', 'file_name': 'uber_10q_sept_2022.pdf', 'file_path': 'data/10q/uber_10q_sept_2022.pdf', 'file_type': 'application/pdf', 'file_size': 1178622, 'creation_date': '2024-04-30', 'last_modified_date': '2024-04-30'}, hash='e84daaaef2b86342a1adc2554a767348e5c44d7f85b47b63ba03633b20edac30'), <NodeRelationship.NEXT: '3'>: RelatedNodeInfo(node_id='883885d7-8cf8-49ec-9eff-c6125de2f96f', node_type=<ObjectType.TEXT: '1'>, metadata={}, hash='b2bdf89017d944cc650488411a3aacdfd79be34408a5e84fd9988880952ddaed')}, text='We recognize Subscription fees\\nratably over the life of the pass. We allocate Subscription fees earned to Mobility and Delivery revenue on a proportional basis, based on usage for each offering\\nduring the respective period.\\nThree Months Ended September 30, Nine Months Ended September 30,\\n2021 2022 2021 2022\\nUnited States and Canada (\"US&CAN\") $ 2,648 $ 5,000 $ 6,481 $ 14,498 \\nLatin America (\"LatAm\") 390 518 999 1,431 \\nEurope, Middle East and Africa (\"EMEA\") 1,064 1,878 2,218 4,851 \\nAsia Pacific (\"APAC\") 743 947 1,979 2,490 \\nTotal revenue $ 4,845 $ 8,343 $ 11,677 $ 23,270 (1)\\n(1)\\n(1) \\n13', start_char_idx=4051, end_char_idx=4644, text_template='{metadata_str}\\n\\n{content}', metadata_template='{key}: {value}', metadata_seperator='\\n'), score=0.8012490550069986)], metadata={'b9c88c5b-5837-4d5a-8564-228c03056bd5': {'page_label': '43', 'file_name': 'uber_10q_sept_2022.pdf', 'file_path': 'data/10q/uber_10q_sept_2022.pdf', 'file_type': 'application/pdf', 'file_size': 1178622, 'creation_date': '2024-04-30', 'last_modified_date': '2024-04-30'}, 'b91a641d-8378-47b2-9162-480a49b1b0c2': {'page_label': '42', 'file_name': 'uber_10q_sept_2022.pdf', 'file_path': 'data/10q/uber_10q_sept_2022.pdf', 'file_type': 'application/pdf', 'file_size': 1178622, 'creation_date': '2024-04-30', 'last_modified_date': '2024-04-30'}, '8c71cb61-a1bf-453b-8946-8dbbcab498f0': {'page_label': '14', 'file_name': 'uber_10q_sept_2022.pdf', 'file_path': 'data/10q/uber_10q_sept_2022.pdf', 'file_type': 'application/pdf', 'file_size': 1178622, 'creation_date': '2024-04-30', 'last_modified_date': '2024-04-30'}})), ToolOutput(content='The Revenue for September 2022 is $8,343 million, and the Costs for September 2022 are as follows:\\n- Cost of Revenue, exclusive of Depreciation and Amortization: $5,173 million\\n- Operations and Support: $617 million\\n- Sales and Marketing: $1,153 million', tool_name='uber_sept_10q', raw_input={'input': 'What is the Revenue and Costs of September 2022?'}, raw_output=Response(response='The Revenue for September 2022 is $8,343 million, and the Costs for September 2022 are as follows:\\n- Cost of Revenue, exclusive of Depreciation and Amortization: $5,173 million\\n- Operations and Support: $617 million\\n- Sales and Marketing: $1,153 million', source_nodes=[NodeWithScore(node=TextNode(id_='b9c88c5b-5837-4d5a-8564-228c03056bd5', embedding=None, metadata={'page_label': '43', 'file_name': 'uber_10q_sept_2022.pdf', 'file_path': 'data/10q/uber_10q_sept_2022.pdf', 'file_type': 'application/pdf', 'file_size': 1178622, 'creation_date': '2024-04-30', 'last_modified_date': '2024-04-30'}, excluded_embed_metadata_keys=['file_name', 'file_type', 'file_size', 'creation_date', 'last_modified_date', 'last_accessed_date'], excluded_llm_metadata_keys=['file_name', 'file_type', 'file_size', 'creation_date', 'last_modified_date', 'last_accessed_date'], relationships={<NodeRelationship.SOURCE: '1'>: RelatedNodeInfo(node_id='1ba0e66b-14d9-4e2f-b55f-ab940f82a96b', node_type=<ObjectType.DOCUMENT: '4'>, metadata={'page_label': '43', 'file_name': 'uber_10q_sept_2022.pdf', 'file_path': 'data/10q/uber_10q_sept_2022.pdf', 'file_type': 'application/pdf', 'file_size': 1178622, 'creation_date': '2024-04-30', 'last_modified_date': '2024-04-30'}, hash='567248f234d087edaf5ecbaf114933785fefcf2498ac49db9b75bda7146cbdd5'), <NodeRelationship.PREVIOUS: '2'>: RelatedNodeInfo(node_id='b91a641d-8378-47b2-9162-480a49b1b0c2', node_type=<ObjectType.TEXT: '1'>, metadata={'page_label': '42', 'file_name': 'uber_10q_sept_2022.pdf', 'file_path': 'data/10q/uber_10q_sept_2022.pdf', 'file_type': 'application/pdf', 'file_size': 1178622, 'creation_date': '2024-04-30', 'last_modified_date': '2024-04-30'}, hash='8cbae91998fcf92d536379abea8dddff0edd2f8be4ec972c0fd140d8c36476fc'), <NodeRelationship.NEXT: '3'>: RelatedNodeInfo(node_id='dbb1a5cf-b2f4-40bb-b160-64035493095e', node_type=<ObjectType.TEXT: '1'>, metadata={}, hash='aed32a6731c7989f763694a7f326ae0813ff37831dc757b9f85dbf7136405074')}, text='Cost of Revenue, Exclusive of Depreciation and Amortization\\nThree Months Ended September 30, Nine Months Ended September 30,\\n(In millions, except per centages) 2021 2022 % Change 2021 2022 % Change\\nCost of revenue, exclusive of depreciation\\nand amortization $ 2,438 $ 5,173 112 %$ 6,247 $ 14,352 130 %\\nPercentage of revenue 50 % 62 % 53 % 62 %\\nThree Months Ended September 30, 2022 Compared with the Same Period in 2021\\nCost of revenue, exclusive of depreciation and amortization, increased $2.7 billion, or 112%, mainly due to a $898 million increase in Freight Carrier payments\\nresulting from the acquisition of Transplace in the fourth quarter of 2021, a $808 million increase in Driver payments and incentives that are recorded in cost of\\nrevenue, exclusive of depreciation and amortization, as a result of business model changes in the UK, a $282 million increase in insurance expense primarily due to\\nan increase in miles driven in our Mobility business, and a $299 million increase in Courier payments and incentives that are recorded in cost of revenue for certain\\nmarkets where we are primarily responsible for Delivery services and pay Couriers for services provided.\\nNine Months Ended September 30, 2022 Compared with the Same Period in 2021\\nCost of revenue, exclusive of depreciation and amortization, increased $8.1 billion, or 130%, mainly due to a $3.1 billion increase in Freight Carrier payments\\nresulting from the acquisition of Transplace in the fourth quarter of 2021, a $1.8 billion increase in Driver payments and incentives that are recorded in cost of\\nrevenue, exclusive of depreciation and amortization, as a result of business model changes in the UK, a $1.0 billion increase in insurance expense primarily due to\\nan increase in miles driven in our Mobility business, and a $1.0 billion increase in Courier payments and incentives that are recorded in cost of revenue for certain\\nmarkets where we are primarily responsible for Delivery services and pay Couriers for services provided.\\nOperations and Support\\nThree Months Ended September 30, Nine Months Ended September 30,\\n(In millions, except per centages) 2021 2022 % Change 2021 2022 % Change\\nOperations and support $ 475 $ 617 30 %$ 1,330 $ 1,808 36 %\\nPercentage of revenue 10 % 7 % 11 % 8 %\\nThree Months Ended September 30, 2022 Compared with the Same Period in 2021\\nOperations and support expenses increased $142 million, or 30%, primarily attributable to a $107 million increase in employee headcount costs and $28\\nmillion increase in external contractor expenses.\\nNine Months Ended September 30, 2022 Compared with the Same Period in 2021\\nOperations and support expenses increased $478 million, or 36%, primarily attributable to a $285 million increase in employee headcount costs, $104 million\\nincrease in external contractor expenses, and a $60 million increase in driver background check costs.\\nSales and Marketing\\nThree Months Ended September 30, Nine Months Ended September 30,\\n(In millions, except per centages) 2021 2022 % Change 2021 2022 % Change\\nSales and marketing $ 1,168 $ 1,153 (1)%$ 3,527 $ 3,634 3 %\\nPercentage of revenue 24 % 14 % 30 % 16 %\\nThree Months Ended September 30, 2022 Compared with the Same Period in 2021\\nSales and marketing expenses decreased $15 million, or 1%, primarily attributable to a decrease in consumer discounts, rider facing loyalty expense,\\npromotions, credits and refunds of $82 million to $521 million compared to $603 million in the same period in 2021, partially offset by an increase in employee\\nheadcount costs of $54 million, and an increase in stock-based compensation of $8 million.\\nNine Months Ended September 30, 2022 Compared with the Same Period in 2021\\nSales and marketing expenses increased $107 million, or 3%, primarily attributable to a $122 million increase in employee headcount costs, a $54 million\\nincrease in indirect advertising and marketing, and a $16 million increase in stock-based compensation, partially offset by a $92 million decrease in consumer\\ndiscounts, rider facing loyalty expense, promotions, credits and refunds to $1.7 billion compared to $1.8 billion in the same period in 2021.\\n42', start_char_idx=0, end_char_idx=4149, text_template='{metadata_str}\\n\\n{content}', metadata_template='{key}: {value}', metadata_seperator='\\n'), score=0.8543634410994753), NodeWithScore(node=TextNode(id_='b91a641d-8378-47b2-9162-480a49b1b0c2', embedding=None, metadata={'page_label': '42', 'file_name': 'uber_10q_sept_2022.pdf', 'file_path': 'data/10q/uber_10q_sept_2022.pdf', 'file_type': 'application/pdf', 'file_size': 1178622, 'creation_date': '2024-04-30', 'last_modified_date': '2024-04-30'}, excluded_embed_metadata_keys=['file_name', 'file_type', 'file_size', 'creation_date', 'last_modified_date', 'last_accessed_date'], excluded_llm_metadata_keys=['file_name', 'file_type', 'file_size', 'creation_date', 'last_modified_date', 'last_accessed_date'], relationships={<NodeRelationship.SOURCE: '1'>: RelatedNodeInfo(node_id='e21b67d5-ee0e-4313-a63d-090a4f36d47e', node_type=<ObjectType.DOCUMENT: '4'>, metadata={'page_label': '42', 'file_name': 'uber_10q_sept_2022.pdf', 'file_path': 'data/10q/uber_10q_sept_2022.pdf', 'file_type': 'application/pdf', 'file_size': 1178622, 'creation_date': '2024-04-30', 'last_modified_date': '2024-04-30'}, hash='8cbae91998fcf92d536379abea8dddff0edd2f8be4ec972c0fd140d8c36476fc'), <NodeRelationship.PREVIOUS: '2'>: RelatedNodeInfo(node_id='090fe02e-836a-4725-a6c9-15a091c1bf5d', node_type=<ObjectType.TEXT: '1'>, metadata={'page_label': '41', 'file_name': 'uber_10q_sept_2022.pdf', 'file_path': 'data/10q/uber_10q_sept_2022.pdf', 'file_type': 'application/pdf', 'file_size': 1178622, 'creation_date': '2024-04-30', 'last_modified_date': '2024-04-30'}, hash='41fc1c9b426af7362757525735428e6242769fed1fc7f3d348398ecc4a5a9c5d'), <NodeRelationship.NEXT: '3'>: RelatedNodeInfo(node_id='b9c88c5b-5837-4d5a-8564-228c03056bd5', node_type=<ObjectType.TEXT: '1'>, metadata={}, hash='b82e12b06c00fa85b960a2fb21cc734222ec758e0918d640fcf2658d2da2f0c1')}, text='Three Months Ended September 30, Nine Months Ended September 30,\\n2021 2022 2021 2022\\nRevenue 100 % 100 % 100 % 100 %\\nCosts and expenses\\nCost of revenue, exclusive of depreciation and amortization shown separately\\nbelow 50 % 62 % 53 % 62 %\\nOperations and support 10 % 7 % 11 % 8 %\\nSales and marketing 24 % 14 % 30 % 16 %\\nResearch and development 10 % 9 % 13 % 9 %\\nGeneral and administrative 13 % 11 % 15 % 10 %\\nDepreciation and amortization 4 % 3 % 6 % 3 %\\nTotal costs and expenses 112 % 106 % 128 % 107 %\\nLoss from operations (12)% (6)% (28)% (7)%\\nInterest expense (3)% (2)% (3)% (2)%\\nOther income (expense), net (38)% (6)% 16 % (34)%\\nLoss before income taxes and income (loss) from equity method\\ninvestments (52)% (14)% (16)% (43)%\\nProvision for (benefit from) income taxes (2)% 1 % (3)% — %\\nIncome (loss) from equity method investments — % — % — % — %\\nNet loss including non-controlling interests (50)% (14)% (12)% (42)%\\nLess: net income (loss) attributable to non-controlling interests,\\nnet of tax — % — % (1)% — %\\nNet loss attributable to Uber Technologies, Inc. (50)% (14)% (12)% (42)%\\n Totals of percentage of revenues may not foot due to rounding.\\nThe following discussion and analysis is for the three and nine months ended September 30, 2022 compared to same period in 2021.\\nRevenue\\nThree Months Ended September 30, Nine Months Ended September 30,\\n(In millions, except per centages) 2021 2022 % Change 2021 2022 % Change\\nRevenue $ 4,845 $ 8,343 72 %$ 11,677 $ 23,270 99 %\\nThree Months Ended September 30, 2022 Compared with the Same Period in 2021\\nRevenue increased $3.5 billion, or 72%, primarily attributable to an increase in Gross Bookings of 26%, or 32% on a constant currency basis. The increase in\\nGross Bookings was primarily driven by increases in Mobility Trip volumes as the business recovers from the impacts of COVID-19 and a $1.3 billion increase in\\nFreight Gross Bookings resulting primarily from the acquisition of Transplace in the fourth quarter of 2021. Additionally, during the third quarter of 2022, we saw a\\n$1.1 billion increase in Mobility revenue as a result of business model changes in the UK. We also saw a $164 million increase in Delivery revenue resulting from\\nan increase in certain Courier payments and incentives that are recorded in cost of revenue, exclusive of depreciation and amortization, for certain markets where\\nwe are primarily responsible for Delivery services and pay Couriers for services provided.\\nNine Months Ended September 30, 2022 Compared with the Same Period in 2021\\nRevenue increased $11.6 billion, or 99%, primarily attributable to an increase in Gross Bookings of 31%, or 36% on a constant currency basis. The increase in\\nGross Bookings was primarily driven by increases in Mobility Trip volumes as the business recovers from the impacts of COVID-19 and a $4.4 billion increase in\\nFreight Gross Bookings resulting primarily from the acquisition of Transplace in the fourth quarter of 2021. Additionally, during the first nine months of 2022, we\\nsaw a $2.2 billion net increase in Mobility revenue as a result of business model changes in the UK and an accrual made for the resolution of historical claims in\\nthe UK relating to the classification of drivers. We also saw a $751 million increase in Delivery revenue resulting from an increase in certain Courier payments and\\nincentives that are recorded in cost of revenue, exclusive of depreciation and amortization, for certain markets where we are primarily responsible for Delivery\\nservices and pay Couriers for services provided.(1)\\n41', start_char_idx=0, end_char_idx=3554, text_template='{metadata_str}\\n\\n{content}', metadata_template='{key}: {value}', metadata_seperator='\\n'), score=0.8504429688517545), NodeWithScore(node=TextNode(id_='8c71cb61-a1bf-453b-8946-8dbbcab498f0', embedding=None, metadata={'page_label': '14', 'file_name': 'uber_10q_sept_2022.pdf', 'file_path': 'data/10q/uber_10q_sept_2022.pdf', 'file_type': 'application/pdf', 'file_size': 1178622, 'creation_date': '2024-04-30', 'last_modified_date': '2024-04-30'}, excluded_embed_metadata_keys=['file_name', 'file_type', 'file_size', 'creation_date', 'last_modified_date', 'last_accessed_date'], excluded_llm_metadata_keys=['file_name', 'file_type', 'file_size', 'creation_date', 'last_modified_date', 'last_accessed_date'], relationships={<NodeRelationship.SOURCE: '1'>: RelatedNodeInfo(node_id='d799e221-63d6-4e09-afea-00e671cc49da', node_type=<ObjectType.DOCUMENT: '4'>, metadata={'page_label': '14', 'file_name': 'uber_10q_sept_2022.pdf', 'file_path': 'data/10q/uber_10q_sept_2022.pdf', 'file_type': 'application/pdf', 'file_size': 1178622, 'creation_date': '2024-04-30', 'last_modified_date': '2024-04-30'}, hash='ce859385e8fe102b2e52c8de2426d2700e59498ec63539801b7c025518b51d73'), <NodeRelationship.PREVIOUS: '2'>: RelatedNodeInfo(node_id='e1993ac4-fffd-4791-8482-19495d9ba25a', node_type=<ObjectType.TEXT: '1'>, metadata={'page_label': '14', 'file_name': 'uber_10q_sept_2022.pdf', 'file_path': 'data/10q/uber_10q_sept_2022.pdf', 'file_type': 'application/pdf', 'file_size': 1178622, 'creation_date': '2024-04-30', 'last_modified_date': '2024-04-30'}, hash='e84daaaef2b86342a1adc2554a767348e5c44d7f85b47b63ba03633b20edac30'), <NodeRelationship.NEXT: '3'>: RelatedNodeInfo(node_id='883885d7-8cf8-49ec-9eff-c6125de2f96f', node_type=<ObjectType.TEXT: '1'>, metadata={}, hash='b2bdf89017d944cc650488411a3aacdfd79be34408a5e84fd9988880952ddaed')}, text='We recognize Subscription fees\\nratably over the life of the pass. We allocate Subscription fees earned to Mobility and Delivery revenue on a proportional basis, based on usage for each offering\\nduring the respective period.\\nThree Months Ended September 30, Nine Months Ended September 30,\\n2021 2022 2021 2022\\nUnited States and Canada (\"US&CAN\") $ 2,648 $ 5,000 $ 6,481 $ 14,498 \\nLatin America (\"LatAm\") 390 518 999 1,431 \\nEurope, Middle East and Africa (\"EMEA\") 1,064 1,878 2,218 4,851 \\nAsia Pacific (\"APAC\") 743 947 1,979 2,490 \\nTotal revenue $ 4,845 $ 8,343 $ 11,677 $ 23,270 (1)\\n(1)\\n(1) \\n13', start_char_idx=4051, end_char_idx=4644, text_template='{metadata_str}\\n\\n{content}', metadata_template='{key}: {value}', metadata_seperator='\\n'), score=0.8333998280153262)], metadata={'b9c88c5b-5837-4d5a-8564-228c03056bd5': {'page_label': '43', 'file_name': 'uber_10q_sept_2022.pdf', 'file_path': 'data/10q/uber_10q_sept_2022.pdf', 'file_type': 'application/pdf', 'file_size': 1178622, 'creation_date': '2024-04-30', 'last_modified_date': '2024-04-30'}, 'b91a641d-8378-47b2-9162-480a49b1b0c2': {'page_label': '42', 'file_name': 'uber_10q_sept_2022.pdf', 'file_path': 'data/10q/uber_10q_sept_2022.pdf', 'file_type': 'application/pdf', 'file_size': 1178622, 'creation_date': '2024-04-30', 'last_modified_date': '2024-04-30'}, '8c71cb61-a1bf-453b-8946-8dbbcab498f0': {'page_label': '14', 'file_name': 'uber_10q_sept_2022.pdf', 'file_path': 'data/10q/uber_10q_sept_2022.pdf', 'file_type': 'application/pdf', 'file_size': 1178622, 'creation_date': '2024-04-30', 'last_modified_date': '2024-04-30'}}))], source_nodes=[NodeWithScore(node=TextNode(id_='b91a641d-8378-47b2-9162-480a49b1b0c2', embedding=None, metadata={'page_label': '42', 'file_name': 'uber_10q_sept_2022.pdf', 'file_path': 'data/10q/uber_10q_sept_2022.pdf', 'file_type': 'application/pdf', 'file_size': 1178622, 'creation_date': '2024-04-30', 'last_modified_date': '2024-04-30'}, excluded_embed_metadata_keys=['file_name', 'file_type', 'file_size', 'creation_date', 'last_modified_date', 'last_accessed_date'], excluded_llm_metadata_keys=['file_name', 'file_type', 'file_size', 'creation_date', 'last_modified_date', 'last_accessed_date'], relationships={<NodeRelationship.SOURCE: '1'>: RelatedNodeInfo(node_id='e21b67d5-ee0e-4313-a63d-090a4f36d47e', node_type=<ObjectType.DOCUMENT: '4'>, metadata={'page_label': '42', 'file_name': 'uber_10q_sept_2022.pdf', 'file_path': 'data/10q/uber_10q_sept_2022.pdf', 'file_type': 'application/pdf', 'file_size': 1178622, 'creation_date': '2024-04-30', 'last_modified_date': '2024-04-30'}, hash='8cbae91998fcf92d536379abea8dddff0edd2f8be4ec972c0fd140d8c36476fc'), <NodeRelationship.PREVIOUS: '2'>: RelatedNodeInfo(node_id='090fe02e-836a-4725-a6c9-15a091c1bf5d', node_type=<ObjectType.TEXT: '1'>, metadata={'page_label': '41', 'file_name': 'uber_10q_sept_2022.pdf', 'file_path': 'data/10q/uber_10q_sept_2022.pdf', 'file_type': 'application/pdf', 'file_size': 1178622, 'creation_date': '2024-04-30', 'last_modified_date': '2024-04-30'}, hash='41fc1c9b426af7362757525735428e6242769fed1fc7f3d348398ecc4a5a9c5d'), <NodeRelationship.NEXT: '3'>: RelatedNodeInfo(node_id='b9c88c5b-5837-4d5a-8564-228c03056bd5', node_type=<ObjectType.TEXT: '1'>, metadata={}, hash='b82e12b06c00fa85b960a2fb21cc734222ec758e0918d640fcf2658d2da2f0c1')}, text='Three Months Ended September 30, Nine Months Ended September 30,\\n2021 2022 2021 2022\\nRevenue 100 % 100 % 100 % 100 %\\nCosts and expenses\\nCost of revenue, exclusive of depreciation and amortization shown separately\\nbelow 50 % 62 % 53 % 62 %\\nOperations and support 10 % 7 % 11 % 8 %\\nSales and marketing 24 % 14 % 30 % 16 %\\nResearch and development 10 % 9 % 13 % 9 %\\nGeneral and administrative 13 % 11 % 15 % 10 %\\nDepreciation and amortization 4 % 3 % 6 % 3 %\\nTotal costs and expenses 112 % 106 % 128 % 107 %\\nLoss from operations (12)% (6)% (28)% (7)%\\nInterest expense (3)% (2)% (3)% (2)%\\nOther income (expense), net (38)% (6)% 16 % (34)%\\nLoss before income taxes and income (loss) from equity method\\ninvestments (52)% (14)% (16)% (43)%\\nProvision for (benefit from) income taxes (2)% 1 % (3)% — %\\nIncome (loss) from equity method investments — % — % — % — %\\nNet loss including non-controlling interests (50)% (14)% (12)% (42)%\\nLess: net income (loss) attributable to non-controlling interests,\\nnet of tax — % — % (1)% — %\\nNet loss attributable to Uber Technologies, Inc. (50)% (14)% (12)% (42)%\\n Totals of percentage of revenues may not foot due to rounding.\\nThe following discussion and analysis is for the three and nine months ended September 30, 2022 compared to same period in 2021.\\nRevenue\\nThree Months Ended September 30, Nine Months Ended September 30,\\n(In millions, except per centages) 2021 2022 % Change 2021 2022 % Change\\nRevenue $ 4,845 $ 8,343 72 %$ 11,677 $ 23,270 99 %\\nThree Months Ended September 30, 2022 Compared with the Same Period in 2021\\nRevenue increased $3.5 billion, or 72%, primarily attributable to an increase in Gross Bookings of 26%, or 32% on a constant currency basis. The increase in\\nGross Bookings was primarily driven by increases in Mobility Trip volumes as the business recovers from the impacts of COVID-19 and a $1.3 billion increase in\\nFreight Gross Bookings resulting primarily from the acquisition of Transplace in the fourth quarter of 2021. Additionally, during the third quarter of 2022, we saw a\\n$1.1 billion increase in Mobility revenue as a result of business model changes in the UK. We also saw a $164 million increase in Delivery revenue resulting from\\nan increase in certain Courier payments and incentives that are recorded in cost of revenue, exclusive of depreciation and amortization, for certain markets where\\nwe are primarily responsible for Delivery services and pay Couriers for services provided.\\nNine Months Ended September 30, 2022 Compared with the Same Period in 2021\\nRevenue increased $11.6 billion, or 99%, primarily attributable to an increase in Gross Bookings of 31%, or 36% on a constant currency basis. The increase in\\nGross Bookings was primarily driven by increases in Mobility Trip volumes as the business recovers from the impacts of COVID-19 and a $4.4 billion increase in\\nFreight Gross Bookings resulting primarily from the acquisition of Transplace in the fourth quarter of 2021. Additionally, during the first nine months of 2022, we\\nsaw a $2.2 billion net increase in Mobility revenue as a result of business model changes in the UK and an accrual made for the resolution of historical claims in\\nthe UK relating to the classification of drivers. We also saw a $751 million increase in Delivery revenue resulting from an increase in certain Courier payments and\\nincentives that are recorded in cost of revenue, exclusive of depreciation and amortization, for certain markets where we are primarily responsible for Delivery\\nservices and pay Couriers for services provided.(1)\\n41', start_char_idx=0, end_char_idx=3554, text_template='{metadata_str}\\n\\n{content}', metadata_template='{key}: {value}', metadata_seperator='\\n'), score=0.84776627215451), NodeWithScore(node=TextNode(id_='b9c88c5b-5837-4d5a-8564-228c03056bd5', embedding=None, metadata={'page_label': '43', 'file_name': 'uber_10q_sept_2022.pdf', 'file_path': 'data/10q/uber_10q_sept_2022.pdf', 'file_type': 'application/pdf', 'file_size': 1178622, 'creation_date': '2024-04-30', 'last_modified_date': '2024-04-30'}, excluded_embed_metadata_keys=['file_name', 'file_type', 'file_size', 'creation_date', 'last_modified_date', 'last_accessed_date'], excluded_llm_metadata_keys=['file_name', 'file_type', 'file_size', 'creation_date', 'last_modified_date', 'last_accessed_date'], relationships={<NodeRelationship.SOURCE: '1'>: RelatedNodeInfo(node_id='1ba0e66b-14d9-4e2f-b55f-ab940f82a96b', node_type=<ObjectType.DOCUMENT: '4'>, metadata={'page_label': '43', 'file_name': 'uber_10q_sept_2022.pdf', 'file_path': 'data/10q/uber_10q_sept_2022.pdf', 'file_type': 'application/pdf', 'file_size': 1178622, 'creation_date': '2024-04-30', 'last_modified_date': '2024-04-30'}, hash='567248f234d087edaf5ecbaf114933785fefcf2498ac49db9b75bda7146cbdd5'), <NodeRelationship.PREVIOUS: '2'>: RelatedNodeInfo(node_id='b91a641d-8378-47b2-9162-480a49b1b0c2', node_type=<ObjectType.TEXT: '1'>, metadata={'page_label': '42', 'file_name': 'uber_10q_sept_2022.pdf', 'file_path': 'data/10q/uber_10q_sept_2022.pdf', 'file_type': 'application/pdf', 'file_size': 1178622, 'creation_date': '2024-04-30', 'last_modified_date': '2024-04-30'}, hash='8cbae91998fcf92d536379abea8dddff0edd2f8be4ec972c0fd140d8c36476fc'), <NodeRelationship.NEXT: '3'>: RelatedNodeInfo(node_id='dbb1a5cf-b2f4-40bb-b160-64035493095e', node_type=<ObjectType.TEXT: '1'>, metadata={}, hash='aed32a6731c7989f763694a7f326ae0813ff37831dc757b9f85dbf7136405074')}, text='Cost of Revenue, Exclusive of Depreciation and Amortization\\nThree Months Ended September 30, Nine Months Ended September 30,\\n(In millions, except per centages) 2021 2022 % Change 2021 2022 % Change\\nCost of revenue, exclusive of depreciation\\nand amortization $ 2,438 $ 5,173 112 %$ 6,247 $ 14,352 130 %\\nPercentage of revenue 50 % 62 % 53 % 62 %\\nThree Months Ended September 30, 2022 Compared with the Same Period in 2021\\nCost of revenue, exclusive of depreciation and amortization, increased $2.7 billion, or 112%, mainly due to a $898 million increase in Freight Carrier payments\\nresulting from the acquisition of Transplace in the fourth quarter of 2021, a $808 million increase in Driver payments and incentives that are recorded in cost of\\nrevenue, exclusive of depreciation and amortization, as a result of business model changes in the UK, a $282 million increase in insurance expense primarily due to\\nan increase in miles driven in our Mobility business, and a $299 million increase in Courier payments and incentives that are recorded in cost of revenue for certain\\nmarkets where we are primarily responsible for Delivery services and pay Couriers for services provided.\\nNine Months Ended September 30, 2022 Compared with the Same Period in 2021\\nCost of revenue, exclusive of depreciation and amortization, increased $8.1 billion, or 130%, mainly due to a $3.1 billion increase in Freight Carrier payments\\nresulting from the acquisition of Transplace in the fourth quarter of 2021, a $1.8 billion increase in Driver payments and incentives that are recorded in cost of\\nrevenue, exclusive of depreciation and amortization, as a result of business model changes in the UK, a $1.0 billion increase in insurance expense primarily due to\\nan increase in miles driven in our Mobility business, and a $1.0 billion increase in Courier payments and incentives that are recorded in cost of revenue for certain\\nmarkets where we are primarily responsible for Delivery services and pay Couriers for services provided.\\nOperations and Support\\nThree Months Ended September 30, Nine Months Ended September 30,\\n(In millions, except per centages) 2021 2022 % Change 2021 2022 % Change\\nOperations and support $ 475 $ 617 30 %$ 1,330 $ 1,808 36 %\\nPercentage of revenue 10 % 7 % 11 % 8 %\\nThree Months Ended September 30, 2022 Compared with the Same Period in 2021\\nOperations and support expenses increased $142 million, or 30%, primarily attributable to a $107 million increase in employee headcount costs and $28\\nmillion increase in external contractor expenses.\\nNine Months Ended September 30, 2022 Compared with the Same Period in 2021\\nOperations and support expenses increased $478 million, or 36%, primarily attributable to a $285 million increase in employee headcount costs, $104 million\\nincrease in external contractor expenses, and a $60 million increase in driver background check costs.\\nSales and Marketing\\nThree Months Ended September 30, Nine Months Ended September 30,\\n(In millions, except per centages) 2021 2022 % Change 2021 2022 % Change\\nSales and marketing $ 1,168 $ 1,153 (1)%$ 3,527 $ 3,634 3 %\\nPercentage of revenue 24 % 14 % 30 % 16 %\\nThree Months Ended September 30, 2022 Compared with the Same Period in 2021\\nSales and marketing expenses decreased $15 million, or 1%, primarily attributable to a decrease in consumer discounts, rider facing loyalty expense,\\npromotions, credits and refunds of $82 million to $521 million compared to $603 million in the same period in 2021, partially offset by an increase in employee\\nheadcount costs of $54 million, and an increase in stock-based compensation of $8 million.\\nNine Months Ended September 30, 2022 Compared with the Same Period in 2021\\nSales and marketing expenses increased $107 million, or 3%, primarily attributable to a $122 million increase in employee headcount costs, a $54 million\\nincrease in indirect advertising and marketing, and a $16 million increase in stock-based compensation, partially offset by a $92 million decrease in consumer\\ndiscounts, rider facing loyalty expense, promotions, credits and refunds to $1.7 billion compared to $1.8 billion in the same period in 2021.\\n42', start_char_idx=0, end_char_idx=4149, text_template='{metadata_str}\\n\\n{content}', metadata_template='{key}: {value}', metadata_seperator='\\n'), score=0.8317679961188928), NodeWithScore(node=TextNode(id_='8c71cb61-a1bf-453b-8946-8dbbcab498f0', embedding=None, metadata={'page_label': '14', 'file_name': 'uber_10q_sept_2022.pdf', 'file_path': 'data/10q/uber_10q_sept_2022.pdf', 'file_type': 'application/pdf', 'file_size': 1178622, 'creation_date': '2024-04-30', 'last_modified_date': '2024-04-30'}, excluded_embed_metadata_keys=['file_name', 'file_type', 'file_size', 'creation_date', 'last_modified_date', 'last_accessed_date'], excluded_llm_metadata_keys=['file_name', 'file_type', 'file_size', 'creation_date', 'last_modified_date', 'last_accessed_date'], relationships={<NodeRelationship.SOURCE: '1'>: RelatedNodeInfo(node_id='d799e221-63d6-4e09-afea-00e671cc49da', node_type=<ObjectType.DOCUMENT: '4'>, metadata={'page_label': '14', 'file_name': 'uber_10q_sept_2022.pdf', 'file_path': 'data/10q/uber_10q_sept_2022.pdf', 'file_type': 'application/pdf', 'file_size': 1178622, 'creation_date': '2024-04-30', 'last_modified_date': '2024-04-30'}, hash='ce859385e8fe102b2e52c8de2426d2700e59498ec63539801b7c025518b51d73'), <NodeRelationship.PREVIOUS: '2'>: RelatedNodeInfo(node_id='e1993ac4-fffd-4791-8482-19495d9ba25a', node_type=<ObjectType.TEXT: '1'>, metadata={'page_label': '14', 'file_name': 'uber_10q_sept_2022.pdf', 'file_path': 'data/10q/uber_10q_sept_2022.pdf', 'file_type': 'application/pdf', 'file_size': 1178622, 'creation_date': '2024-04-30', 'last_modified_date': '2024-04-30'}, hash='e84daaaef2b86342a1adc2554a767348e5c44d7f85b47b63ba03633b20edac30'), <NodeRelationship.NEXT: '3'>: RelatedNodeInfo(node_id='883885d7-8cf8-49ec-9eff-c6125de2f96f', node_type=<ObjectType.TEXT: '1'>, metadata={}, hash='b2bdf89017d944cc650488411a3aacdfd79be34408a5e84fd9988880952ddaed')}, text='We recognize Subscription fees\\nratably over the life of the pass. We allocate Subscription fees earned to Mobility and Delivery revenue on a proportional basis, based on usage for each offering\\nduring the respective period.\\nThree Months Ended September 30, Nine Months Ended September 30,\\n2021 2022 2021 2022\\nUnited States and Canada (\"US&CAN\") $ 2,648 $ 5,000 $ 6,481 $ 14,498 \\nLatin America (\"LatAm\") 390 518 999 1,431 \\nEurope, Middle East and Africa (\"EMEA\") 1,064 1,878 2,218 4,851 \\nAsia Pacific (\"APAC\") 743 947 1,979 2,490 \\nTotal revenue $ 4,845 $ 8,343 $ 11,677 $ 23,270 (1)\\n(1)\\n(1) \\n13', start_char_idx=4051, end_char_idx=4644, text_template='{metadata_str}\\n\\n{content}', metadata_template='{key}: {value}', metadata_seperator='\\n'), score=0.8310425167834589), NodeWithScore(node=TextNode(id_='b9c88c5b-5837-4d5a-8564-228c03056bd5', embedding=None, metadata={'page_label': '43', 'file_name': 'uber_10q_sept_2022.pdf', 'file_path': 'data/10q/uber_10q_sept_2022.pdf', 'file_type': 'application/pdf', 'file_size': 1178622, 'creation_date': '2024-04-30', 'last_modified_date': '2024-04-30'}, excluded_embed_metadata_keys=['file_name', 'file_type', 'file_size', 'creation_date', 'last_modified_date', 'last_accessed_date'], excluded_llm_metadata_keys=['file_name', 'file_type', 'file_size', 'creation_date', 'last_modified_date', 'last_accessed_date'], relationships={<NodeRelationship.SOURCE: '1'>: RelatedNodeInfo(node_id='1ba0e66b-14d9-4e2f-b55f-ab940f82a96b', node_type=<ObjectType.DOCUMENT: '4'>, metadata={'page_label': '43', 'file_name': 'uber_10q_sept_2022.pdf', 'file_path': 'data/10q/uber_10q_sept_2022.pdf', 'file_type': 'application/pdf', 'file_size': 1178622, 'creation_date': '2024-04-30', 'last_modified_date': '2024-04-30'}, hash='567248f234d087edaf5ecbaf114933785fefcf2498ac49db9b75bda7146cbdd5'), <NodeRelationship.PREVIOUS: '2'>: RelatedNodeInfo(node_id='b91a641d-8378-47b2-9162-480a49b1b0c2', node_type=<ObjectType.TEXT: '1'>, metadata={'page_label': '42', 'file_name': 'uber_10q_sept_2022.pdf', 'file_path': 'data/10q/uber_10q_sept_2022.pdf', 'file_type': 'application/pdf', 'file_size': 1178622, 'creation_date': '2024-04-30', 'last_modified_date': '2024-04-30'}, hash='8cbae91998fcf92d536379abea8dddff0edd2f8be4ec972c0fd140d8c36476fc'), <NodeRelationship.NEXT: '3'>: RelatedNodeInfo(node_id='dbb1a5cf-b2f4-40bb-b160-64035493095e', node_type=<ObjectType.TEXT: '1'>, metadata={}, hash='aed32a6731c7989f763694a7f326ae0813ff37831dc757b9f85dbf7136405074')}, text='Cost of Revenue, Exclusive of Depreciation and Amortization\\nThree Months Ended September 30, Nine Months Ended September 30,\\n(In millions, except per centages) 2021 2022 % Change 2021 2022 % Change\\nCost of revenue, exclusive of depreciation\\nand amortization $ 2,438 $ 5,173 112 %$ 6,247 $ 14,352 130 %\\nPercentage of revenue 50 % 62 % 53 % 62 %\\nThree Months Ended September 30, 2022 Compared with the Same Period in 2021\\nCost of revenue, exclusive of depreciation and amortization, increased $2.7 billion, or 112%, mainly due to a $898 million increase in Freight Carrier payments\\nresulting from the acquisition of Transplace in the fourth quarter of 2021, a $808 million increase in Driver payments and incentives that are recorded in cost of\\nrevenue, exclusive of depreciation and amortization, as a result of business model changes in the UK, a $282 million increase in insurance expense primarily due to\\nan increase in miles driven in our Mobility business, and a $299 million increase in Courier payments and incentives that are recorded in cost of revenue for certain\\nmarkets where we are primarily responsible for Delivery services and pay Couriers for services provided.\\nNine Months Ended September 30, 2022 Compared with the Same Period in 2021\\nCost of revenue, exclusive of depreciation and amortization, increased $8.1 billion, or 130%, mainly due to a $3.1 billion increase in Freight Carrier payments\\nresulting from the acquisition of Transplace in the fourth quarter of 2021, a $1.8 billion increase in Driver payments and incentives that are recorded in cost of\\nrevenue, exclusive of depreciation and amortization, as a result of business model changes in the UK, a $1.0 billion increase in insurance expense primarily due to\\nan increase in miles driven in our Mobility business, and a $1.0 billion increase in Courier payments and incentives that are recorded in cost of revenue for certain\\nmarkets where we are primarily responsible for Delivery services and pay Couriers for services provided.\\nOperations and Support\\nThree Months Ended September 30, Nine Months Ended September 30,\\n(In millions, except per centages) 2021 2022 % Change 2021 2022 % Change\\nOperations and support $ 475 $ 617 30 %$ 1,330 $ 1,808 36 %\\nPercentage of revenue 10 % 7 % 11 % 8 %\\nThree Months Ended September 30, 2022 Compared with the Same Period in 2021\\nOperations and support expenses increased $142 million, or 30%, primarily attributable to a $107 million increase in employee headcount costs and $28\\nmillion increase in external contractor expenses.\\nNine Months Ended September 30, 2022 Compared with the Same Period in 2021\\nOperations and support expenses increased $478 million, or 36%, primarily attributable to a $285 million increase in employee headcount costs, $104 million\\nincrease in external contractor expenses, and a $60 million increase in driver background check costs.\\nSales and Marketing\\nThree Months Ended September 30, Nine Months Ended September 30,\\n(In millions, except per centages) 2021 2022 % Change 2021 2022 % Change\\nSales and marketing $ 1,168 $ 1,153 (1)%$ 3,527 $ 3,634 3 %\\nPercentage of revenue 24 % 14 % 30 % 16 %\\nThree Months Ended September 30, 2022 Compared with the Same Period in 2021\\nSales and marketing expenses decreased $15 million, or 1%, primarily attributable to a decrease in consumer discounts, rider facing loyalty expense,\\npromotions, credits and refunds of $82 million to $521 million compared to $603 million in the same period in 2021, partially offset by an increase in employee\\nheadcount costs of $54 million, and an increase in stock-based compensation of $8 million.\\nNine Months Ended September 30, 2022 Compared with the Same Period in 2021\\nSales and marketing expenses increased $107 million, or 3%, primarily attributable to a $122 million increase in employee headcount costs, a $54 million\\nincrease in indirect advertising and marketing, and a $16 million increase in stock-based compensation, partially offset by a $92 million decrease in consumer\\ndiscounts, rider facing loyalty expense, promotions, credits and refunds to $1.7 billion compared to $1.8 billion in the same period in 2021.\\n42', start_char_idx=0, end_char_idx=4149, text_template='{metadata_str}\\n\\n{content}', metadata_template='{key}: {value}', metadata_seperator='\\n'), score=0.8148380797567721), NodeWithScore(node=TextNode(id_='b91a641d-8378-47b2-9162-480a49b1b0c2', embedding=None, metadata={'page_label': '42', 'file_name': 'uber_10q_sept_2022.pdf', 'file_path': 'data/10q/uber_10q_sept_2022.pdf', 'file_type': 'application/pdf', 'file_size': 1178622, 'creation_date': '2024-04-30', 'last_modified_date': '2024-04-30'}, excluded_embed_metadata_keys=['file_name', 'file_type', 'file_size', 'creation_date', 'last_modified_date', 'last_accessed_date'], excluded_llm_metadata_keys=['file_name', 'file_type', 'file_size', 'creation_date', 'last_modified_date', 'last_accessed_date'], relationships={<NodeRelationship.SOURCE: '1'>: RelatedNodeInfo(node_id='e21b67d5-ee0e-4313-a63d-090a4f36d47e', node_type=<ObjectType.DOCUMENT: '4'>, metadata={'page_label': '42', 'file_name': 'uber_10q_sept_2022.pdf', 'file_path': 'data/10q/uber_10q_sept_2022.pdf', 'file_type': 'application/pdf', 'file_size': 1178622, 'creation_date': '2024-04-30', 'last_modified_date': '2024-04-30'}, hash='8cbae91998fcf92d536379abea8dddff0edd2f8be4ec972c0fd140d8c36476fc'), <NodeRelationship.PREVIOUS: '2'>: RelatedNodeInfo(node_id='090fe02e-836a-4725-a6c9-15a091c1bf5d', node_type=<ObjectType.TEXT: '1'>, metadata={'page_label': '41', 'file_name': 'uber_10q_sept_2022.pdf', 'file_path': 'data/10q/uber_10q_sept_2022.pdf', 'file_type': 'application/pdf', 'file_size': 1178622, 'creation_date': '2024-04-30', 'last_modified_date': '2024-04-30'}, hash='41fc1c9b426af7362757525735428e6242769fed1fc7f3d348398ecc4a5a9c5d'), <NodeRelationship.NEXT: '3'>: RelatedNodeInfo(node_id='b9c88c5b-5837-4d5a-8564-228c03056bd5', node_type=<ObjectType.TEXT: '1'>, metadata={}, hash='b82e12b06c00fa85b960a2fb21cc734222ec758e0918d640fcf2658d2da2f0c1')}, text='Three Months Ended September 30, Nine Months Ended September 30,\\n2021 2022 2021 2022\\nRevenue 100 % 100 % 100 % 100 %\\nCosts and expenses\\nCost of revenue, exclusive of depreciation and amortization shown separately\\nbelow 50 % 62 % 53 % 62 %\\nOperations and support 10 % 7 % 11 % 8 %\\nSales and marketing 24 % 14 % 30 % 16 %\\nResearch and development 10 % 9 % 13 % 9 %\\nGeneral and administrative 13 % 11 % 15 % 10 %\\nDepreciation and amortization 4 % 3 % 6 % 3 %\\nTotal costs and expenses 112 % 106 % 128 % 107 %\\nLoss from operations (12)% (6)% (28)% (7)%\\nInterest expense (3)% (2)% (3)% (2)%\\nOther income (expense), net (38)% (6)% 16 % (34)%\\nLoss before income taxes and income (loss) from equity method\\ninvestments (52)% (14)% (16)% (43)%\\nProvision for (benefit from) income taxes (2)% 1 % (3)% — %\\nIncome (loss) from equity method investments — % — % — % — %\\nNet loss including non-controlling interests (50)% (14)% (12)% (42)%\\nLess: net income (loss) attributable to non-controlling interests,\\nnet of tax — % — % (1)% — %\\nNet loss attributable to Uber Technologies, Inc. (50)% (14)% (12)% (42)%\\n Totals of percentage of revenues may not foot due to rounding.\\nThe following discussion and analysis is for the three and nine months ended September 30, 2022 compared to same period in 2021.\\nRevenue\\nThree Months Ended September 30, Nine Months Ended September 30,\\n(In millions, except per centages) 2021 2022 % Change 2021 2022 % Change\\nRevenue $ 4,845 $ 8,343 72 %$ 11,677 $ 23,270 99 %\\nThree Months Ended September 30, 2022 Compared with the Same Period in 2021\\nRevenue increased $3.5 billion, or 72%, primarily attributable to an increase in Gross Bookings of 26%, or 32% on a constant currency basis. The increase in\\nGross Bookings was primarily driven by increases in Mobility Trip volumes as the business recovers from the impacts of COVID-19 and a $1.3 billion increase in\\nFreight Gross Bookings resulting primarily from the acquisition of Transplace in the fourth quarter of 2021. Additionally, during the third quarter of 2022, we saw a\\n$1.1 billion increase in Mobility revenue as a result of business model changes in the UK. We also saw a $164 million increase in Delivery revenue resulting from\\nan increase in certain Courier payments and incentives that are recorded in cost of revenue, exclusive of depreciation and amortization, for certain markets where\\nwe are primarily responsible for Delivery services and pay Couriers for services provided.\\nNine Months Ended September 30, 2022 Compared with the Same Period in 2021\\nRevenue increased $11.6 billion, or 99%, primarily attributable to an increase in Gross Bookings of 31%, or 36% on a constant currency basis. The increase in\\nGross Bookings was primarily driven by increases in Mobility Trip volumes as the business recovers from the impacts of COVID-19 and a $4.4 billion increase in\\nFreight Gross Bookings resulting primarily from the acquisition of Transplace in the fourth quarter of 2021. Additionally, during the first nine months of 2022, we\\nsaw a $2.2 billion net increase in Mobility revenue as a result of business model changes in the UK and an accrual made for the resolution of historical claims in\\nthe UK relating to the classification of drivers. We also saw a $751 million increase in Delivery revenue resulting from an increase in certain Courier payments and\\nincentives that are recorded in cost of revenue, exclusive of depreciation and amortization, for certain markets where we are primarily responsible for Delivery\\nservices and pay Couriers for services provided.(1)\\n41', start_char_idx=0, end_char_idx=3554, text_template='{metadata_str}\\n\\n{content}', metadata_template='{key}: {value}', metadata_seperator='\\n'), score=0.8062610794201449), NodeWithScore(node=TextNode(id_='8c71cb61-a1bf-453b-8946-8dbbcab498f0', embedding=None, metadata={'page_label': '14', 'file_name': 'uber_10q_sept_2022.pdf', 'file_path': 'data/10q/uber_10q_sept_2022.pdf', 'file_type': 'application/pdf', 'file_size': 1178622, 'creation_date': '2024-04-30', 'last_modified_date': '2024-04-30'}, excluded_embed_metadata_keys=['file_name', 'file_type', 'file_size', 'creation_date', 'last_modified_date', 'last_accessed_date'], excluded_llm_metadata_keys=['file_name', 'file_type', 'file_size', 'creation_date', 'last_modified_date', 'last_accessed_date'], relationships={<NodeRelationship.SOURCE: '1'>: RelatedNodeInfo(node_id='d799e221-63d6-4e09-afea-00e671cc49da', node_type=<ObjectType.DOCUMENT: '4'>, metadata={'page_label': '14', 'file_name': 'uber_10q_sept_2022.pdf', 'file_path': 'data/10q/uber_10q_sept_2022.pdf', 'file_type': 'application/pdf', 'file_size': 1178622, 'creation_date': '2024-04-30', 'last_modified_date': '2024-04-30'}, hash='ce859385e8fe102b2e52c8de2426d2700e59498ec63539801b7c025518b51d73'), <NodeRelationship.PREVIOUS: '2'>: RelatedNodeInfo(node_id='e1993ac4-fffd-4791-8482-19495d9ba25a', node_type=<ObjectType.TEXT: '1'>, metadata={'page_label': '14', 'file_name': 'uber_10q_sept_2022.pdf', 'file_path': 'data/10q/uber_10q_sept_2022.pdf', 'file_type': 'application/pdf', 'file_size': 1178622, 'creation_date': '2024-04-30', 'last_modified_date': '2024-04-30'}, hash='e84daaaef2b86342a1adc2554a767348e5c44d7f85b47b63ba03633b20edac30'), <NodeRelationship.NEXT: '3'>: RelatedNodeInfo(node_id='883885d7-8cf8-49ec-9eff-c6125de2f96f', node_type=<ObjectType.TEXT: '1'>, metadata={}, hash='b2bdf89017d944cc650488411a3aacdfd79be34408a5e84fd9988880952ddaed')}, text='We recognize Subscription fees\\nratably over the life of the pass. We allocate Subscription fees earned to Mobility and Delivery revenue on a proportional basis, based on usage for each offering\\nduring the respective period.\\nThree Months Ended September 30, Nine Months Ended September 30,\\n2021 2022 2021 2022\\nUnited States and Canada (\"US&CAN\") $ 2,648 $ 5,000 $ 6,481 $ 14,498 \\nLatin America (\"LatAm\") 390 518 999 1,431 \\nEurope, Middle East and Africa (\"EMEA\") 1,064 1,878 2,218 4,851 \\nAsia Pacific (\"APAC\") 743 947 1,979 2,490 \\nTotal revenue $ 4,845 $ 8,343 $ 11,677 $ 23,270 (1)\\n(1)\\n(1) \\n13', start_char_idx=4051, end_char_idx=4644, text_template='{metadata_str}\\n\\n{content}', metadata_template='{key}: {value}', metadata_seperator='\\n'), score=0.8012490550069986), NodeWithScore(node=TextNode(id_='b9c88c5b-5837-4d5a-8564-228c03056bd5', embedding=None, metadata={'page_label': '43', 'file_name': 'uber_10q_sept_2022.pdf', 'file_path': 'data/10q/uber_10q_sept_2022.pdf', 'file_type': 'application/pdf', 'file_size': 1178622, 'creation_date': '2024-04-30', 'last_modified_date': '2024-04-30'}, excluded_embed_metadata_keys=['file_name', 'file_type', 'file_size', 'creation_date', 'last_modified_date', 'last_accessed_date'], excluded_llm_metadata_keys=['file_name', 'file_type', 'file_size', 'creation_date', 'last_modified_date', 'last_accessed_date'], relationships={<NodeRelationship.SOURCE: '1'>: RelatedNodeInfo(node_id='1ba0e66b-14d9-4e2f-b55f-ab940f82a96b', node_type=<ObjectType.DOCUMENT: '4'>, metadata={'page_label': '43', 'file_name': 'uber_10q_sept_2022.pdf', 'file_path': 'data/10q/uber_10q_sept_2022.pdf', 'file_type': 'application/pdf', 'file_size': 1178622, 'creation_date': '2024-04-30', 'last_modified_date': '2024-04-30'}, hash='567248f234d087edaf5ecbaf114933785fefcf2498ac49db9b75bda7146cbdd5'), <NodeRelationship.PREVIOUS: '2'>: RelatedNodeInfo(node_id='b91a641d-8378-47b2-9162-480a49b1b0c2', node_type=<ObjectType.TEXT: '1'>, metadata={'page_label': '42', 'file_name': 'uber_10q_sept_2022.pdf', 'file_path': 'data/10q/uber_10q_sept_2022.pdf', 'file_type': 'application/pdf', 'file_size': 1178622, 'creation_date': '2024-04-30', 'last_modified_date': '2024-04-30'}, hash='8cbae91998fcf92d536379abea8dddff0edd2f8be4ec972c0fd140d8c36476fc'), <NodeRelationship.NEXT: '3'>: RelatedNodeInfo(node_id='dbb1a5cf-b2f4-40bb-b160-64035493095e', node_type=<ObjectType.TEXT: '1'>, metadata={}, hash='aed32a6731c7989f763694a7f326ae0813ff37831dc757b9f85dbf7136405074')}, text='Cost of Revenue, Exclusive of Depreciation and Amortization\\nThree Months Ended September 30, Nine Months Ended September 30,\\n(In millions, except per centages) 2021 2022 % Change 2021 2022 % Change\\nCost of revenue, exclusive of depreciation\\nand amortization $ 2,438 $ 5,173 112 %$ 6,247 $ 14,352 130 %\\nPercentage of revenue 50 % 62 % 53 % 62 %\\nThree Months Ended September 30, 2022 Compared with the Same Period in 2021\\nCost of revenue, exclusive of depreciation and amortization, increased $2.7 billion, or 112%, mainly due to a $898 million increase in Freight Carrier payments\\nresulting from the acquisition of Transplace in the fourth quarter of 2021, a $808 million increase in Driver payments and incentives that are recorded in cost of\\nrevenue, exclusive of depreciation and amortization, as a result of business model changes in the UK, a $282 million increase in insurance expense primarily due to\\nan increase in miles driven in our Mobility business, and a $299 million increase in Courier payments and incentives that are recorded in cost of revenue for certain\\nmarkets where we are primarily responsible for Delivery services and pay Couriers for services provided.\\nNine Months Ended September 30, 2022 Compared with the Same Period in 2021\\nCost of revenue, exclusive of depreciation and amortization, increased $8.1 billion, or 130%, mainly due to a $3.1 billion increase in Freight Carrier payments\\nresulting from the acquisition of Transplace in the fourth quarter of 2021, a $1.8 billion increase in Driver payments and incentives that are recorded in cost of\\nrevenue, exclusive of depreciation and amortization, as a result of business model changes in the UK, a $1.0 billion increase in insurance expense primarily due to\\nan increase in miles driven in our Mobility business, and a $1.0 billion increase in Courier payments and incentives that are recorded in cost of revenue for certain\\nmarkets where we are primarily responsible for Delivery services and pay Couriers for services provided.\\nOperations and Support\\nThree Months Ended September 30, Nine Months Ended September 30,\\n(In millions, except per centages) 2021 2022 % Change 2021 2022 % Change\\nOperations and support $ 475 $ 617 30 %$ 1,330 $ 1,808 36 %\\nPercentage of revenue 10 % 7 % 11 % 8 %\\nThree Months Ended September 30, 2022 Compared with the Same Period in 2021\\nOperations and support expenses increased $142 million, or 30%, primarily attributable to a $107 million increase in employee headcount costs and $28\\nmillion increase in external contractor expenses.\\nNine Months Ended September 30, 2022 Compared with the Same Period in 2021\\nOperations and support expenses increased $478 million, or 36%, primarily attributable to a $285 million increase in employee headcount costs, $104 million\\nincrease in external contractor expenses, and a $60 million increase in driver background check costs.\\nSales and Marketing\\nThree Months Ended September 30, Nine Months Ended September 30,\\n(In millions, except per centages) 2021 2022 % Change 2021 2022 % Change\\nSales and marketing $ 1,168 $ 1,153 (1)%$ 3,527 $ 3,634 3 %\\nPercentage of revenue 24 % 14 % 30 % 16 %\\nThree Months Ended September 30, 2022 Compared with the Same Period in 2021\\nSales and marketing expenses decreased $15 million, or 1%, primarily attributable to a decrease in consumer discounts, rider facing loyalty expense,\\npromotions, credits and refunds of $82 million to $521 million compared to $603 million in the same period in 2021, partially offset by an increase in employee\\nheadcount costs of $54 million, and an increase in stock-based compensation of $8 million.\\nNine Months Ended September 30, 2022 Compared with the Same Period in 2021\\nSales and marketing expenses increased $107 million, or 3%, primarily attributable to a $122 million increase in employee headcount costs, a $54 million\\nincrease in indirect advertising and marketing, and a $16 million increase in stock-based compensation, partially offset by a $92 million decrease in consumer\\ndiscounts, rider facing loyalty expense, promotions, credits and refunds to $1.7 billion compared to $1.8 billion in the same period in 2021.\\n42', start_char_idx=0, end_char_idx=4149, text_template='{metadata_str}\\n\\n{content}', metadata_template='{key}: {value}', metadata_seperator='\\n'), score=0.8543634410994753), NodeWithScore(node=TextNode(id_='b91a641d-8378-47b2-9162-480a49b1b0c2', embedding=None, metadata={'page_label': '42', 'file_name': 'uber_10q_sept_2022.pdf', 'file_path': 'data/10q/uber_10q_sept_2022.pdf', 'file_type': 'application/pdf', 'file_size': 1178622, 'creation_date': '2024-04-30', 'last_modified_date': '2024-04-30'}, excluded_embed_metadata_keys=['file_name', 'file_type', 'file_size', 'creation_date', 'last_modified_date', 'last_accessed_date'], excluded_llm_metadata_keys=['file_name', 'file_type', 'file_size', 'creation_date', 'last_modified_date', 'last_accessed_date'], relationships={<NodeRelationship.SOURCE: '1'>: RelatedNodeInfo(node_id='e21b67d5-ee0e-4313-a63d-090a4f36d47e', node_type=<ObjectType.DOCUMENT: '4'>, metadata={'page_label': '42', 'file_name': 'uber_10q_sept_2022.pdf', 'file_path': 'data/10q/uber_10q_sept_2022.pdf', 'file_type': 'application/pdf', 'file_size': 1178622, 'creation_date': '2024-04-30', 'last_modified_date': '2024-04-30'}, hash='8cbae91998fcf92d536379abea8dddff0edd2f8be4ec972c0fd140d8c36476fc'), <NodeRelationship.PREVIOUS: '2'>: RelatedNodeInfo(node_id='090fe02e-836a-4725-a6c9-15a091c1bf5d', node_type=<ObjectType.TEXT: '1'>, metadata={'page_label': '41', 'file_name': 'uber_10q_sept_2022.pdf', 'file_path': 'data/10q/uber_10q_sept_2022.pdf', 'file_type': 'application/pdf', 'file_size': 1178622, 'creation_date': '2024-04-30', 'last_modified_date': '2024-04-30'}, hash='41fc1c9b426af7362757525735428e6242769fed1fc7f3d348398ecc4a5a9c5d'), <NodeRelationship.NEXT: '3'>: RelatedNodeInfo(node_id='b9c88c5b-5837-4d5a-8564-228c03056bd5', node_type=<ObjectType.TEXT: '1'>, metadata={}, hash='b82e12b06c00fa85b960a2fb21cc734222ec758e0918d640fcf2658d2da2f0c1')}, text='Three Months Ended September 30, Nine Months Ended September 30,\\n2021 2022 2021 2022\\nRevenue 100 % 100 % 100 % 100 %\\nCosts and expenses\\nCost of revenue, exclusive of depreciation and amortization shown separately\\nbelow 50 % 62 % 53 % 62 %\\nOperations and support 10 % 7 % 11 % 8 %\\nSales and marketing 24 % 14 % 30 % 16 %\\nResearch and development 10 % 9 % 13 % 9 %\\nGeneral and administrative 13 % 11 % 15 % 10 %\\nDepreciation and amortization 4 % 3 % 6 % 3 %\\nTotal costs and expenses 112 % 106 % 128 % 107 %\\nLoss from operations (12)% (6)% (28)% (7)%\\nInterest expense (3)% (2)% (3)% (2)%\\nOther income (expense), net (38)% (6)% 16 % (34)%\\nLoss before income taxes and income (loss) from equity method\\ninvestments (52)% (14)% (16)% (43)%\\nProvision for (benefit from) income taxes (2)% 1 % (3)% — %\\nIncome (loss) from equity method investments — % — % — % — %\\nNet loss including non-controlling interests (50)% (14)% (12)% (42)%\\nLess: net income (loss) attributable to non-controlling interests,\\nnet of tax — % — % (1)% — %\\nNet loss attributable to Uber Technologies, Inc. (50)% (14)% (12)% (42)%\\n Totals of percentage of revenues may not foot due to rounding.\\nThe following discussion and analysis is for the three and nine months ended September 30, 2022 compared to same period in 2021.\\nRevenue\\nThree Months Ended September 30, Nine Months Ended September 30,\\n(In millions, except per centages) 2021 2022 % Change 2021 2022 % Change\\nRevenue $ 4,845 $ 8,343 72 %$ 11,677 $ 23,270 99 %\\nThree Months Ended September 30, 2022 Compared with the Same Period in 2021\\nRevenue increased $3.5 billion, or 72%, primarily attributable to an increase in Gross Bookings of 26%, or 32% on a constant currency basis. The increase in\\nGross Bookings was primarily driven by increases in Mobility Trip volumes as the business recovers from the impacts of COVID-19 and a $1.3 billion increase in\\nFreight Gross Bookings resulting primarily from the acquisition of Transplace in the fourth quarter of 2021. Additionally, during the third quarter of 2022, we saw a\\n$1.1 billion increase in Mobility revenue as a result of business model changes in the UK. We also saw a $164 million increase in Delivery revenue resulting from\\nan increase in certain Courier payments and incentives that are recorded in cost of revenue, exclusive of depreciation and amortization, for certain markets where\\nwe are primarily responsible for Delivery services and pay Couriers for services provided.\\nNine Months Ended September 30, 2022 Compared with the Same Period in 2021\\nRevenue increased $11.6 billion, or 99%, primarily attributable to an increase in Gross Bookings of 31%, or 36% on a constant currency basis. The increase in\\nGross Bookings was primarily driven by increases in Mobility Trip volumes as the business recovers from the impacts of COVID-19 and a $4.4 billion increase in\\nFreight Gross Bookings resulting primarily from the acquisition of Transplace in the fourth quarter of 2021. Additionally, during the first nine months of 2022, we\\nsaw a $2.2 billion net increase in Mobility revenue as a result of business model changes in the UK and an accrual made for the resolution of historical claims in\\nthe UK relating to the classification of drivers. We also saw a $751 million increase in Delivery revenue resulting from an increase in certain Courier payments and\\nincentives that are recorded in cost of revenue, exclusive of depreciation and amortization, for certain markets where we are primarily responsible for Delivery\\nservices and pay Couriers for services provided.(1)\\n41', start_char_idx=0, end_char_idx=3554, text_template='{metadata_str}\\n\\n{content}', metadata_template='{key}: {value}', metadata_seperator='\\n'), score=0.8504429688517545), NodeWithScore(node=TextNode(id_='8c71cb61-a1bf-453b-8946-8dbbcab498f0', embedding=None, metadata={'page_label': '14', 'file_name': 'uber_10q_sept_2022.pdf', 'file_path': 'data/10q/uber_10q_sept_2022.pdf', 'file_type': 'application/pdf', 'file_size': 1178622, 'creation_date': '2024-04-30', 'last_modified_date': '2024-04-30'}, excluded_embed_metadata_keys=['file_name', 'file_type', 'file_size', 'creation_date', 'last_modified_date', 'last_accessed_date'], excluded_llm_metadata_keys=['file_name', 'file_type', 'file_size', 'creation_date', 'last_modified_date', 'last_accessed_date'], relationships={<NodeRelationship.SOURCE: '1'>: RelatedNodeInfo(node_id='d799e221-63d6-4e09-afea-00e671cc49da', node_type=<ObjectType.DOCUMENT: '4'>, metadata={'page_label': '14', 'file_name': 'uber_10q_sept_2022.pdf', 'file_path': 'data/10q/uber_10q_sept_2022.pdf', 'file_type': 'application/pdf', 'file_size': 1178622, 'creation_date': '2024-04-30', 'last_modified_date': '2024-04-30'}, hash='ce859385e8fe102b2e52c8de2426d2700e59498ec63539801b7c025518b51d73'), <NodeRelationship.PREVIOUS: '2'>: RelatedNodeInfo(node_id='e1993ac4-fffd-4791-8482-19495d9ba25a', node_type=<ObjectType.TEXT: '1'>, metadata={'page_label': '14', 'file_name': 'uber_10q_sept_2022.pdf', 'file_path': 'data/10q/uber_10q_sept_2022.pdf', 'file_type': 'application/pdf', 'file_size': 1178622, 'creation_date': '2024-04-30', 'last_modified_date': '2024-04-30'}, hash='e84daaaef2b86342a1adc2554a767348e5c44d7f85b47b63ba03633b20edac30'), <NodeRelationship.NEXT: '3'>: RelatedNodeInfo(node_id='883885d7-8cf8-49ec-9eff-c6125de2f96f', node_type=<ObjectType.TEXT: '1'>, metadata={}, hash='b2bdf89017d944cc650488411a3aacdfd79be34408a5e84fd9988880952ddaed')}, text='We recognize Subscription fees\\nratably over the life of the pass. We allocate Subscription fees earned to Mobility and Delivery revenue on a proportional basis, based on usage for each offering\\nduring the respective period.\\nThree Months Ended September 30, Nine Months Ended September 30,\\n2021 2022 2021 2022\\nUnited States and Canada (\"US&CAN\") $ 2,648 $ 5,000 $ 6,481 $ 14,498 \\nLatin America (\"LatAm\") 390 518 999 1,431 \\nEurope, Middle East and Africa (\"EMEA\") 1,064 1,878 2,218 4,851 \\nAsia Pacific (\"APAC\") 743 947 1,979 2,490 \\nTotal revenue $ 4,845 $ 8,343 $ 11,677 $ 23,270 (1)\\n(1)\\n(1) \\n13', start_char_idx=4051, end_char_idx=4644, text_template='{metadata_str}\\n\\n{content}', metadata_template='{key}: {value}', metadata_seperator='\\n'), score=0.8333998280153262)])"
      ]
     },
     "execution_count": 101,
     "metadata": {},
     "output_type": "execute_result"
    }
   ],
   "source": [
    "context_agent.chat(\"What is the X and Z in September 2022?\")"
   ]
  },
  {
   "cell_type": "markdown",
   "id": "b578a89d-75bf-45b8-921b-41f9116c92fd",
   "metadata": {},
   "source": [
    "### Use Uber 10-Q as context, use Calculator as Tool"
   ]
  },
  {
   "cell_type": "code",
   "execution_count": null,
   "id": "3065272a-0e69-40b6-a1c8-bd402842442f",
   "metadata": {},
   "outputs": [],
   "source": [
    "from llama_index.core.tools import BaseTool, FunctionTool\n",
    "\n",
    "def gross_profit(revenue: int, cost: int) -> str:\n",
    "    \"\"\"Calculates the gross profit and gross margin percentage from revenue and cost.\"\"\"\n",
    "    profit = revenue - cost\n",
    "    margin_percentage = (profit / revenue) * 100\n",
    "    return f\"Gross Profit is {profit}, Gross Margin % is {margin_percentage:.2f}\"\n",
    "\n",
    "magic_tool = FunctionTool.from_defaults(fn=gross_profit, name=\"gross_profit\")\n"
   ]
  },
  {
   "cell_type": "code",
   "execution_count": null,
   "id": "263f8062-fc40-469a-87e7-f10e1a91eb8c",
   "metadata": {},
   "outputs": [],
   "source": [
    "context_agent = ContextRetrieverOpenAIAgent.from_tools_and_retriever(\n",
    "    [magic_tool], sept_index.as_retriever(similarity_top_k=3), verbose=True)\n"
   ]
  },
  {
   "cell_type": "code",
   "execution_count": null,
   "id": "b6168ec3-529b-4af6-b0aa-1f507435405b",
   "metadata": {},
   "outputs": [],
   "source": [
    "response = context_agent.chat(\"How much was revenue and cost in the quarter?\")"
   ]
  },
  {
   "cell_type": "code",
   "execution_count": null,
   "id": "a5335111-5d41-4f77-9056-3c116a44904c",
   "metadata": {},
   "outputs": [],
   "source": [
    "print(response)"
   ]
  },
  {
   "cell_type": "code",
   "execution_count": null,
   "id": "602307af-1010-4e35-bdf4-a637fa505885",
   "metadata": {},
   "outputs": [],
   "source": [
    "from llama_index.core.tools import BaseTool, FunctionTool\n",
    "\n",
    "def gross_profit(revenue: int, cost: int) -> str:\n",
    "    \"\"\"Calculates the gross profit and gross margin percentage from revenue and cost.\"\"\"\n",
    "    profit = revenue - cost\n",
    "    margin_percentage = (profit / revenue) * 100\n",
    "    return f\"Gross Profit is {profit}, Gross Margin % is {margin_percentage:.2f}\"\n",
    "\n",
    "def ebit(revenue: int, cost: int, operating_expenses: int) -> str:\n",
    "    \"\"\"Calculates Earnings Before Interest and Taxes (EBIT) from revenue, cost of goods sold, and operating expenses.\"\"\"\n",
    "    ebit_value = revenue - cost - operating_expenses\n",
    "    return f\"EBIT is {ebit_value}\"\n",
    "\n",
    "def eps(net_income: int, shares_outstanding: int) -> str:\n",
    "    \"\"\"Calculates Earnings Per Share (EPS) from net income and number of shares outstanding.\"\"\"\n",
    "    eps_value = net_income / shares_outstanding\n",
    "    return f\"EPS is {eps_value:.2f}\"\n",
    "\n",
    "# Create FunctionTool objects for each function\n",
    "gross_profit_tool = FunctionTool.from_defaults(fn=gross_profit, name=\"gross_profit\")\n",
    "ebit_tool = FunctionTool.from_defaults(fn=ebit, name=\"ebit\")\n",
    "eps_tool = FunctionTool.from_defaults(fn=eps, name=\"eps\")\n",
    "\n",
    "# Add the tools to your context agent\n",
    "context_agent = ContextRetrieverOpenAIAgent.from_tools_and_retriever(\n",
    "    [gross_profit_tool, ebit_tool, eps_tool], sept_index.as_retriever(similarity_top_k=3), verbose=True\n",
    ")\n",
    "\n",
    "# Example query to the context agent\n",
    "response = context_agent.chat(\"How much was revenue, cost, operating expenses, net income, and shares outstanding in the quarter?\")\n",
    "print(response)"
   ]
  },
  {
   "cell_type": "code",
   "execution_count": null,
   "id": "63ce9929-d0e7-4d4c-8457-2e1e30904060",
   "metadata": {},
   "outputs": [],
   "source": [
    "from llama_index.core.tools import BaseTool, FunctionTool\n",
    "\n",
    "# Correctly define all the growth calculation functions\n",
    "def bookings_growth(current_bookings: int, previous_bookings: int) -> str:\n",
    "    growth = ((current_bookings - previous_bookings) / previous_bookings) * 100\n",
    "    return f\"Year-over-Year Bookings Growth is {growth:.2f}%\"\n",
    "\n",
    "def revenue_growth(current_revenue: int, previous_revenue: int) -> str:\n",
    "    growth = ((current_revenue - previous_revenue) / previous_revenue) * 100\n",
    "    return f\"Year-over-Year Revenue Growth is {growth:.2f}%\"\n",
    "\n",
    "def gross_profit_growth(current_gross_profit: int, previous_gross_profit: int) -> str:\n",
    "    growth = ((current_gross_profit - previous_gross_profit) / previous_gross_profit) * 100\n",
    "    return f\"Year-over-Year Gross Profit Growth is {growth:.2f}%\"\n",
    "\n",
    "def ebit_growth(current_ebit: int, previous_ebit: int) -> str:\n",
    "    growth = ((current_ebit - previous_ebit) / previous_ebit) * 100\n",
    "    return f\"Year-over-Year EBIT Growth is {growth:.2f}%\"\n",
    "\n",
    "def eps_growth(current_eps: float, previous_eps: float) -> str:\n",
    "    growth = ((current_eps - previous_eps) / previous_eps) * 100\n",
    "    return f\"Year-over-Year EPS Growth is {growth:.2f}%\"\n",
    "\n",
    "# Create FunctionTool objects for each function\n",
    "bookings_growth_tool = FunctionTool.from_defaults(fn=bookings_growth, name=\"bookings_growth\")\n",
    "revenue_growth_tool = FunctionTool.from_defaults(fn=revenue_growth, name=\"revenue_growth\")\n",
    "gross_profit_growth_tool = FunctionTool.from_defaults(fn=gross_profit_growth, name=\"gross_profit_growth\")\n",
    "ebit_growth_tool = FunctionTool.from_defaults(fn=ebit_growth, name=\"ebit_growth\")\n",
    "eps_growth_tool = FunctionTool.from_defaults(fn=eps_growth, name=\"eps_growth\")\n",
    "\n",
    "# Add the tools to your context agent\n",
    "context_agent = ContextRetrieverOpenAIAgent.from_tools_and_retriever(\n",
    "    [bookings_growth_tool,revenue_growth_tool, gross_profit_growth_tool, ebit_growth_tool, eps_growth_tool], \n",
    "    sept_index.as_retriever(similarity_top_k=3), \n",
    "    verbose=True\n",
    ")\n",
    "\n",
    "# Example query to the context agent\n",
    "response = context_agent.chat(\"How much was bookigns growth, revenue growth, gross profit growth, EBIT grwoth and EPS growth in the quarter\")\n",
    "print(response)\n"
   ]
  },
  {
   "cell_type": "code",
   "execution_count": null,
   "id": "d8eb4d61-237f-4208-9bf5-c36405ec1933",
   "metadata": {},
   "outputs": [],
   "source": [
    "from llama_index.core.tools import BaseTool, FunctionTool\n",
    "\n",
    "# Definitions of the calculation functions\n",
    "def gross_profit(revenue: int, cost: int) -> str:\n",
    "    profit = revenue - cost\n",
    "    return f\"Gross Profit is {profit}\"\n",
    "\n",
    "def ebit(revenue: int, cost: int, operating_expenses: int) -> str:\n",
    "    ebit_value = revenue - cost - operating_expenses\n",
    "    return f\"EBIT is {ebit_value}\"\n",
    "\n",
    "def eps(net_income: int, shares_outstanding: int) -> str:\n",
    "    eps_value = net_income / shares_outstanding\n",
    "    return f\"EPS is {eps_value:.2f}\"\n",
    "\n",
    "# Definitions for growth calculation functions\n",
    "def bookings_growth(current_bookings: int, previous_bookings: int) -> str:\n",
    "    growth = ((current_bookings - previous_bookings) / previous_bookings) * 100\n",
    "    return f\"Year-over-Year Bookings Growth is {growth:.2f}%\"\n",
    "\n",
    "def revenue_growth(current_revenue: int, previous_revenue: int) -> str:\n",
    "    growth = ((current_revenue - previous_revenue) / previous_revenue) * 100\n",
    "    return f\"Year-over-Year Revenue Growth is {growth:.2f}%\"\n",
    "\n",
    "def gross_profit_growth(current_gross_profit: int, previous_gross_profit: int) -> str:\n",
    "    growth = ((current_gross_profit - previous_gross_profit) / previous_gross_profit) * 100\n",
    "    return f\"Year-over-Year Gross Profit Growth is {growth:.2f}%\"\n",
    "\n",
    "def ebit_growth(current_ebit: int, previous_ebit: int) -> str:\n",
    "    growth = ((current_ebit - previous_ebit) / previous_ebit) * 100\n",
    "    return f\"Year-over-Year EBIT Growth is {growth:.2f}%\"\n",
    "\n",
    "def eps_growth(current_eps: float, previous_eps: float) -> str:\n",
    "    growth = ((current_eps - previous_eps) / previous_eps) * 100\n",
    "    return f\"Year-over-Year EPS Growth is {growth:.2f}%\"\n",
    "\n",
    "# Creation of FunctionTool objects for each function\n",
    "tools = [\n",
    "    FunctionTool.from_defaults(fn=gross_profit, name=\"gross_profit\"),\n",
    "    FunctionTool.from_defaults(fn=ebit, name=\"ebit\"),\n",
    "    FunctionTool.from_defaults(fn=eps, name=\"eps\"),\n",
    "    FunctionTool.from_defaults(fn=bookings_growth, name=\"bookings_growth\"),\n",
    "    FunctionTool.from_defaults(fn=revenue_growth, name=\"revenue_growth\"),\n",
    "    FunctionTool.from_defaults(fn=gross_profit_growth, name=\"gross_profit_growth\"),\n",
    "    FunctionTool.from_defaults(fn=ebit_growth, name=\"ebit_growth\"),\n",
    "    FunctionTool.from_defaults(fn=eps_growth, name=\"eps_growth\")\n",
    "]\n",
    "\n",
    "# Adding the tools to your context agent\n",
    "context_agent = ContextRetrieverOpenAIAgent.from_tools_and_retriever(\n",
    "    tools, sept_index.as_retriever(similarity_top_k=3), verbose=True\n",
    ")\n",
    "\n",
    "# Example query to the context agent\n",
    "response = context_agent.chat(\"Please provide the figures for bookings, revenue, gross profit, EBIT, and EPS growth for the quarter.\")\n",
    "print(response)\n"
   ]
  },
  {
   "cell_type": "code",
   "execution_count": null,
   "id": "85687afe-a9da-4d8d-8f6e-3ac8085d41b1",
   "metadata": {},
   "outputs": [],
   "source": []
  }
 ],
 "metadata": {
  "kernelspec": {
   "display_name": "Python 3 (ipykernel)",
   "language": "python",
   "name": "python3"
  },
  "language_info": {
   "codemirror_mode": {
    "name": "ipython",
    "version": 3
   },
   "file_extension": ".py",
   "mimetype": "text/x-python",
   "name": "python",
   "nbconvert_exporter": "python",
   "pygments_lexer": "ipython3",
   "version": "3.10.8"
  }
 },
 "nbformat": 4,
 "nbformat_minor": 5
}
