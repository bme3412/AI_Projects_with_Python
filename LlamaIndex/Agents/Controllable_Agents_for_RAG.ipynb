{
 "cells": [
  {
   "cell_type": "code",
   "execution_count": 1,
   "id": "9ebb5475-d045-4ae6-a947-48feaea33b6c",
   "metadata": {},
   "outputs": [],
   "source": [
    "from llama_index.core import (\n",
    "    VectorStoreIndex,\n",
    "    SimpleKeywordTableIndex,\n",
    "    SimpleDirectoryReader\n",
    ")\n",
    "\n",
    "from llama_index.core import SummaryIndex\n",
    "from llama_index.core.schema import IndexNode\n",
    "from llama_index.core.tools import QueryEngineTool, ToolMetadata\n",
    "from llama_index.core.callbacks import CallbackManager\n",
    "from llama_index.llms.openai import OpenAI"
   ]
  },
  {
   "cell_type": "code",
   "execution_count": 2,
   "id": "989a0244-e301-457e-a221-9ba1dd2f8577",
   "metadata": {},
   "outputs": [],
   "source": [
    "wiki_titles = [\n",
    "    \"Toronto\",\n",
    "    \"Seattle\",\n",
    "    \"Chicago\",\n",
    "    \"Boston\",\n",
    "    \"Houston\",\n",
    "]"
   ]
  },
  {
   "cell_type": "code",
   "execution_count": 3,
   "id": "d9f719f6-dcce-4a43-98f9-c7796c465b95",
   "metadata": {},
   "outputs": [],
   "source": [
    "from pathlib import Path\n",
    "\n",
    "import requests\n",
    "\n",
    "for title in wiki_titles:\n",
    "    response = requests.get(\n",
    "        \"https://en.wikipedia.org/w/api.php\",\n",
    "        params={\n",
    "            \"action\": \"query\",\n",
    "            \"format\": \"json\",\n",
    "            \"titles\": title,\n",
    "            \"prop\": \"extracts\",\n",
    "            # 'exintro': True,\n",
    "            \"explaintext\": True,\n",
    "        },\n",
    "    ).json()\n",
    "    page = next(iter(response[\"query\"][\"pages\"].values()))\n",
    "    wiki_text = page[\"extract\"]\n",
    "\n",
    "    data_path = Path(\"data\")\n",
    "    if not data_path.exists():\n",
    "        Path.mkdir(data_path)\n",
    "\n",
    "    with open(data_path / f\"{title}.txt\", \"w\") as fp:\n",
    "        fp.write(wiki_text)"
   ]
  },
  {
   "cell_type": "code",
   "execution_count": 4,
   "id": "070e784c-b4cd-4148-80bf-3ca1372e9705",
   "metadata": {},
   "outputs": [],
   "source": [
    "# Load all wiki documents\n",
    "city_docs = {}\n",
    "for wiki_title in wiki_titles:\n",
    "    city_docs[wiki_title] = SimpleDirectoryReader(\n",
    "        input_files=[f\"data/{wiki_title}.txt\"]\n",
    "    ).load_data()"
   ]
  },
  {
   "cell_type": "code",
   "execution_count": 12,
   "id": "1092fd82-629c-41cf-aeb1-409ede401da0",
   "metadata": {},
   "outputs": [],
   "source": [
    "llm = OpenAI(temperature=0, model=\"gpt-4-turbo-preview\")\n",
    "callback_manager = CallbackManager([])"
   ]
  },
  {
   "cell_type": "markdown",
   "id": "ba0ef91d-3d17-4803-9ff2-2701a57ce718",
   "metadata": {},
   "source": [
    "### Setup Agent"
   ]
  },
  {
   "cell_type": "markdown",
   "id": "a40140e5-a602-47ad-829b-a1c8c31e30ae",
   "metadata": {},
   "source": [
    "#### Define Toolset\n",
    "Each tool corresponds to a simple top-k RAG pipeline over a single document"
   ]
  },
  {
   "cell_type": "code",
   "execution_count": 13,
   "id": "e69c764e-b012-47c0-9578-56b5bb94d180",
   "metadata": {},
   "outputs": [],
   "source": [
    "from llama_index.agent.openai import OpenAIAgent\n",
    "from llama_index.core import load_index_from_storage, StorageContext\n",
    "from llama_index.core.node_parser import SentenceSplitter\n",
    "import os\n",
    "\n",
    "node_parser = SentenceSplitter()\n",
    "\n",
    "# Build agents dictionary\n",
    "query_engine_tools = []\n",
    "\n",
    "for idx, wiki_title in enumerate(wiki_titles):\n",
    "    nodes = node_parser.get_nodes_from_documents(city_docs[wiki_title])\n",
    "\n",
    "    if not os.path.exists(f\"./data/{wiki_title}\"):\n",
    "        # build vector index\n",
    "        vector_index = VectorStoreIndex(\n",
    "            nodes, callback_manager=callback_manager\n",
    "        )\n",
    "        vector_index.storage_context.persist(\n",
    "            persist_dir=f\"./data/{wiki_title}\"\n",
    "        )\n",
    "    else:\n",
    "        vector_index = load_index_from_storage(\n",
    "            StorageContext.from_defaults(persist_dir=f\"./data/{wiki_title}\"),\n",
    "            callback_manager=callback_manager,\n",
    "        )\n",
    "    # define query engines\n",
    "    vector_query_engine = vector_index.as_query_engine(llm=llm)\n",
    "\n",
    "    # define tools\n",
    "    query_engine_tools.append(\n",
    "        QueryEngineTool(\n",
    "            query_engine=vector_query_engine,\n",
    "            metadata=ToolMetadata(\n",
    "                name=f\"vector_tool_{wiki_title}\",\n",
    "                description=(\n",
    "                    \"Useful for questions related to specific aspects of\"\n",
    "                    f\" {wiki_title} (e.g. the history, arts and culture,\"\n",
    "                    \" sports, demographics, or more).\"\n",
    "                ),\n",
    "            ),\n",
    "        )\n",
    "    )"
   ]
  },
  {
   "cell_type": "markdown",
   "id": "6c958f76-3232-48b1-975f-8b22e2c8a44e",
   "metadata": {},
   "source": [
    "### Setup OpenAI Agent"
   ]
  },
  {
   "cell_type": "code",
   "execution_count": 14,
   "id": "b1016e0a-e311-424b-a2dd-c1cbd96be46d",
   "metadata": {},
   "outputs": [],
   "source": [
    "from llama_index.core.agent import AgentRunner\n",
    "from llama_index.agent.openai import OpenAIAgentWorker, OpenAIAgent\n",
    "from llama_index.agent.openai import OpenAIAgentWorker\n",
    "\n",
    "openai_step_engine = OpenAIAgentWorker.from_tools(\n",
    "    query_engine_tools, llm=llm, verbose=True\n",
    ")\n",
    "agent = AgentRunner(openai_step_engine)\n",
    "# # alternative\n",
    "# agent = OpenAIAgent.from_tools(query_engine_tools, llm=llm, verbose=True)"
   ]
  },
  {
   "cell_type": "markdown",
   "id": "844c2823-e587-4c9f-a4fb-2cf7e6292ba9",
   "metadata": {},
   "source": [
    "### Run Some Queries"
   ]
  },
  {
   "cell_type": "markdown",
   "id": "2b00f282-f4b2-4c6c-ac18-7329731387f5",
   "metadata": {},
   "source": [
    "#### Out of the box"
   ]
  },
  {
   "cell_type": "code",
   "execution_count": 15,
   "id": "34323a54-ae02-4418-a43e-68c7c96535d0",
   "metadata": {},
   "outputs": [
    {
     "name": "stdout",
     "output_type": "stream",
     "text": [
      "Added user message to memory: Tell me about the demographics of Boston, and compare that with the demographics of Chicago\n",
      "=== Calling Function ===\n",
      "Calling function: vector_tool_Boston with args: {\"input\": \"demographics\"}\n",
      "Got output: In 2020, Boston's population was estimated at 691,531, marking a 12% increase from 2010. The city is notably the third-most densely populated large U.S. city with over half a million residents and stands as the most densely populated state capital. The demographic composition reveals a diverse age distribution: 21.9% of residents were 19 or under, 14.3% aged 20 to 24, 33.2% between 25 and 44, 20.4% from 45 to 64, and 10.1% were 65 or older. The median age was 30.8 years. The gender ratio showed 92.0 males for every 100 females, and this ratio slightly decreased to 89.9 males for every 100 females aged 18 and over.\n",
      "\n",
      "Household dynamics indicated that 20.4% had children under 18, 25.5% were married couples living together, 16.3% had a female householder with no husband present, and 54.0% were non-families. Individuals living alone made up 37.1% of households, with 9.0% being 65 years or older. The average household and family sizes were 2.26 and 3.08, respectively.\n",
      "\n",
      "Economically, the median household income was $51,739, and the median family income was $61,035. There was a notable income disparity between full-time male and female workers, with males earning a median income of $52,544 compared to $46,540 for females. The per capita income stood at $33,158. Poverty affected 21.4% of the population and 16.0% of families, with higher rates among those under 18 (28.8%) and those 65 or older (20.4%). A significant racial wealth gap was evident, with White Bostonians having a median net worth of $247,500, in stark contrast to non-immigrant Black residents and Dominican immigrant residents, who had median net worths of $8 and $0, respectively.\n",
      "\n",
      "The city's racial and ethnic composition has evolved over time, with non-Hispanic Whites making up 47% of the population. African-Americans account for 22%, while people of Irish descent and Italians represent 15.8% and 8.3%, respectively. Other significant groups include those of West Indian and Caribbean ancestry, collectively over 15%. The Greater Boston area has seen growth in populations from Latin America, including 150,000 Dominicans, 134,000 Puerto Ricans, among others. The city also hosts a large Armenian community and over 27,000 Chinese Americans.\n",
      "\n",
      "Religiously, 57% of Boston's population identified as Christians, with 29% Roman Catholic and 25% attending various Protestant churches. A significant portion, 33%, claimed no religious affiliation. Other faiths, including Judaism, Buddhism, Islam, Hinduism, and Baháʼí, make up the remaining 10%. The Catholic Church had the highest number of adherents in the Greater Boston area, followed by the Episcopal Church and the United Church of Christ. The Jewish population in the metro area was approximately 248,000 as of 2015.\n",
      "========================\n",
      "\n",
      "=== Calling Function ===\n",
      "Calling function: vector_tool_Chicago with args: {\"input\": \"demographics\"}\n",
      "Got output: Chicago's demographics have evolved significantly over time, reflecting waves of immigration, migration, and various socio-economic changes. In the early 20th century, the city's population was bolstered by a large influx of immigrants from Europe and migrants from the Eastern United States, making the foreign-born and their children over 77% of the population by 1900. Germans, Irish, Poles, Swedes, and Czechs were among the largest ethnic groups, contributing to a predominantly white population that was 98.1% of the city's total by 1900.\n",
      "\n",
      "The city also became a major destination for African Americans during the Great Migration, with the black population doubling between 1910 and 1920, and again between 1920 and 1930. Many settled in the \"Black Belt\" on the South Side, and by 1930, two-thirds lived in areas that were 90% black. The South Side emerged as the second-largest urban black concentration in the United States, following New York's Harlem. However, since the 1980s, there has been a significant exodus of African Americans from Chicago to its suburbs or beyond, attributed to factors like crime and the cost of living.\n",
      "\n",
      "By the late 20th and early 21st centuries, the city's demographics continued to diversify. The largest racial or ethnic groups as of July 2019 were non-Hispanic Whites (32.8%), Blacks (30.1%), and Hispanics (29.0%). Chicago also has significant populations of immigrants from Mexico, Poland, and India, reflecting newer waves of immigration. Additionally, the city has a notable Bosnian population, many of whom arrived in the 1990s and 2000s.\n",
      "\n",
      "Chicago's population saw a decline from over 3.6 million in 1950 to under 2.7 million by 2010, although it experienced growth in the 2000 census and again in the 2020 census. The city also has the third-largest LGBT population in the United States, with an estimated 7.5% of the adult population identifying as LGBTQ in 2018.\n",
      "\n",
      "Economically, the city has a mix of income levels, with a median household income of $47,408 and a median family income of $54,188 based on 2008–2012 estimates. However, about 18.3% of families and 22.1% of the population lived below the poverty line, while the city also ranked seventh globally for the highest number of ultra-high-net-worth residents in 2018.\n",
      "========================\n",
      "\n"
     ]
    }
   ],
   "source": [
    "response = agent.chat(\n",
    "    \"Tell me about the demographics of Boston, and compare that with the demographics of Chicago\"\n",
    ")"
   ]
  },
  {
   "cell_type": "code",
   "execution_count": 16,
   "id": "60ea1446-b07b-4b4e-a1f4-efee6e70c76c",
   "metadata": {},
   "outputs": [
    {
     "name": "stdout",
     "output_type": "stream",
     "text": [
      "### Demographics of Boston\n",
      "\n",
      "- **Population (2020):** 691,531, a 12% increase from 2010.\n",
      "- **Density:** Third-most densely populated large U.S. city.\n",
      "- **Age Distribution:** Diverse, with a median age of 30.8 years.\n",
      "- **Household Dynamics:** 20.4% with children under 18, 25.5% married couples, 54.0% non-families.\n",
      "- **Economic Indicators:** Median household income of $51,739; significant racial wealth gap.\n",
      "- **Racial and Ethnic Composition:** Non-Hispanic Whites 47%, African-Americans 22%, significant Irish and Italian communities, growing Latin American populations.\n",
      "- **Religious Affiliation:** 57% Christian, 33% no religious affiliation.\n",
      "\n",
      "### Demographics of Chicago\n",
      "\n",
      "- **Historical Migration:** Early 20th-century influx of European immigrants; significant African American migration during the Great Migration.\n",
      "- **Racial and Ethnic Groups (as of July 2019):** Non-Hispanic Whites 32.8%, Blacks 30.1%, Hispanics 29.0%.\n",
      "- **Population Trends:** Decline from over 3.6 million in 1950 to under 2.7 million by 2010, with recent growth.\n",
      "- **LGBT Population:** Third-largest in the U.S., with 7.5% identifying as LGBTQ in 2018.\n",
      "- **Economic Indicators:** Median household income of $47,408; about 18.3% of families and 22.1% of the population below the poverty line.\n",
      "\n",
      "### Comparison\n",
      "\n",
      "- **Population Growth:** Both cities have experienced significant demographic shifts, with Boston seeing a recent increase and Chicago experiencing a long-term decline before recent growth.\n",
      "- **Diversity:** Both cities are highly diverse, with significant populations of non-Hispanic Whites, African-Americans, and Hispanics. Boston has a notable Irish and Italian presence, while Chicago has a diverse immigrant population from Mexico, Poland, India, and a notable Bosnian community.\n",
      "- **Economic Disparities:** Both cities face economic disparities and a notable wealth gap, with Boston highlighting a significant racial wealth gap.\n",
      "- **Religious and Cultural Composition:** Boston has a higher percentage of Christians and a significant portion of the population with no religious affiliation, similar to Chicago's diverse religious landscape.\n",
      "\n",
      "In summary, both Boston and Chicago are characterized by their rich diversity, historical migration patterns, and economic disparities, though the specifics of their demographic compositions and challenges differ notably.\n"
     ]
    }
   ],
   "source": [
    "print(str(response))"
   ]
  },
  {
   "cell_type": "code",
   "execution_count": null,
   "id": "33757a05-8911-462c-ba72-41ed942788ed",
   "metadata": {},
   "outputs": [],
   "source": []
  }
 ],
 "metadata": {
  "kernelspec": {
   "display_name": "Python 3 (ipykernel)",
   "language": "python",
   "name": "python3"
  },
  "language_info": {
   "codemirror_mode": {
    "name": "ipython",
    "version": 3
   },
   "file_extension": ".py",
   "mimetype": "text/x-python",
   "name": "python",
   "nbconvert_exporter": "python",
   "pygments_lexer": "ipython3",
   "version": "3.10.8"
  }
 },
 "nbformat": 4,
 "nbformat_minor": 5
}
