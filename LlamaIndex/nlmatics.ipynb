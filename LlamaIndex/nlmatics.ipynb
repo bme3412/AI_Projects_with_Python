{
 "cells": [
  {
   "cell_type": "code",
   "execution_count": 1,
   "id": "eb4e7af5-8100-4e00-8a74-bb332f213d4c",
   "metadata": {},
   "outputs": [],
   "source": [
    "from llmsherpa.readers import LayoutPDFReader"
   ]
  },
  {
   "cell_type": "code",
   "execution_count": 6,
   "id": "3722db60-2da9-4ada-80f8-1399ef93e9a5",
   "metadata": {},
   "outputs": [],
   "source": [
    "llmsherpa_api_url= \"https://readers.llmsherpa.com/api/document/developer/parseDocument?renderFormat=all\"\n",
    "pdf_url = '/Users/brendan/Desktop - Brendan’s MacBook Air/llm/input_load/server/data/NFLX_Q3_2023.pdf'\n",
    "pdf_reader = LayoutPDFReader(llmsherpa_api_url)\n",
    "doc = pdf_reader.read_pdf(pdf_url)"
   ]
  },
  {
   "cell_type": "code",
   "execution_count": 7,
   "id": "b3a78ab7-1e55-4eca-b721-a91a9c771e24",
   "metadata": {},
   "outputs": [],
   "source": [
    "import openai\n",
    "openai.api_key = '#'"
   ]
  },
  {
   "cell_type": "code",
   "execution_count": 8,
   "id": "909fc2a5-5b2e-47c1-97ca-f4662cceb6d2",
   "metadata": {},
   "outputs": [],
   "source": [
    "from llama_index.readers.schema.base import Document\n",
    "from llama_index import VectorStoreIndex\n",
    "\n",
    "index = VectorStoreIndex([])\n",
    "for chunk in doc.chunks():\n",
    "    index.insert(Document(text=chunk.to_context_text(), extra_info={}))\n",
    "query_engine = index.as_query_engine()"
   ]
  },
  {
   "cell_type": "code",
   "execution_count": 10,
   "id": "7d78175c-247c-402d-aa0e-9a8e0e50249c",
   "metadata": {},
   "outputs": [
    {
     "name": "stdout",
     "output_type": "stream",
     "text": [
      "The consensus estimate for normalized EPS in FY 2023 was 11.92.\n"
     ]
    }
   ],
   "source": [
    "response = query_engine.query(\"What was consensus estimas for normalized EPS in FY 2023?\")\n",
    "print(response)"
   ]
  },
  {
   "cell_type": "markdown",
   "id": "0c03b285-9148-48e3-aae6-6ec1db160fc0",
   "metadata": {},
   "source": [
    "## Summarize a Section using prompts"
   ]
  },
  {
   "cell_type": "code",
   "execution_count": 19,
   "id": "61e847a0-cbe6-4ad2-99d7-b1e70d755c73",
   "metadata": {},
   "outputs": [],
   "source": [
    "## Summarize a Section\n",
    "\n",
    "llmsherpa_api_url= \"https://readers.llmsherpa.com/api/document/developer/parseDocument?renderFormat=all\"\n",
    "pdf_url = '/Users/brendan/Desktop - Brendan’s MacBook Air/llm/input_load/server/data/FY21_10-K.pdf'\n",
    "pdf_reader = LayoutPDFReader(llmsherpa_api_url)\n",
    "doc = pdf_reader.read_pdf(pdf_url)\n"
   ]
  },
  {
   "cell_type": "code",
   "execution_count": 20,
   "id": "50153c69-c1bb-47f0-b828-20d45351d231",
   "metadata": {},
   "outputs": [
    {
     "data": {
      "text/html": [
       "<h9>Date: September 8, 2021</h9>"
      ],
      "text/plain": [
       "<IPython.core.display.HTML object>"
      ]
     },
     "execution_count": 20,
     "metadata": {},
     "output_type": "execute_result"
    }
   ],
   "source": [
    "from IPython.display import display, HTML\n",
    "selected_section = None\n",
    "\n",
    "for section in doc.sections():\n",
    "    if section.title == 'ITEM 1: Business':\n",
    "        selected_section = section\n",
    "        break\n",
    "\n",
    "HTML(section.to_html())"
   ]
  },
  {
   "cell_type": "code",
   "execution_count": 22,
   "id": "1dc06669-190e-43fc-87d9-55deb205a5b2",
   "metadata": {},
   "outputs": [
    {
     "name": "stderr",
     "output_type": "stream",
     "text": [
      "/var/folders/q4/pz4ygpt92_3_9nfh8mh5jkh40000gn/T/ipykernel_50389/3069532716.py:1: DeprecationWarning: Importing display from IPython.core.display is deprecated since IPython 7.14, please import from IPython display\n",
      "  from IPython.core.display import display, HTML\n"
     ]
    },
    {
     "data": {
      "text/html": [
       "<table><th><td colSpan=1>Name</td><td colSpan=1>Age</td><td colSpan=1>Position</td></th><tr><td colSpan=1>Sasan K. Goodarzi</td><td colSpan=1>53</td><td colSpan=1>President, Chief Executive Officer and Director</td></tr><tr><td colSpan=1>Brad D. Smith</td><td colSpan=1>57</td><td colSpan=1>Executive Chairman of the Board of Directors</td></tr><tr><td colSpan=1>Scott D. Cook</td><td colSpan=1>69</td><td colSpan=1>Chairman of the Executive Committee</td></tr><tr><td colSpan=1>Michelle M. Clatterbuck</td><td colSpan=1>53</td><td colSpan=1>Executive Vice President and Chief Financial Officer</td></tr><tr><td colSpan=1>J. Alexander Chriss</td><td colSpan=1>44</td><td colSpan=1>Executive Vice President and General Manager, Small Business & Self-Employed Group</td></tr><tr><td colSpan=1>Laura A. Fennell</td><td colSpan=1>60</td><td colSpan=1>Executive Vice President, Chief People & Places Officer</td></tr><tr><td colSpan=1>Gregory N. Johnson</td><td colSpan=1>53</td><td colSpan=1>Executive Vice President and General Manager, Consumer Group</td></tr><tr><td colSpan=1>Marianna Tessel</td><td colSpan=1>54</td><td colSpan=1>Executive Vice President and Chief Technology Officer</td></tr><tr><td colSpan=1>Kerry J. McLean</td><td colSpan=1>57</td><td colSpan=1>Executive Vice President, General Counsel and Corporate Secretary</td></tr><tr><td colSpan=1>Mark J. Flournoy</td><td colSpan=1>55</td><td colSpan=1>Senior Vice President and Chief Accounting Officer</td></tr></table>"
      ],
      "text/plain": [
       "<IPython.core.display.HTML object>"
      ]
     },
     "execution_count": 22,
     "metadata": {},
     "output_type": "execute_result"
    }
   ],
   "source": [
    "from IPython.core.display import display, HTML\n",
    "HTML(doc.tables()[6].to_html())\n"
   ]
  },
  {
   "cell_type": "code",
   "execution_count": 24,
   "id": "89f4bb64-d2e2-4a32-a9fd-197c406c6cba",
   "metadata": {},
   "outputs": [
    {
     "name": "stdout",
     "output_type": "stream",
     "text": [
      "Scott D. Cook is the Chairman of the Executive Committee. He is 69 years old.\n"
     ]
    }
   ],
   "source": [
    "from llama_index.llms import OpenAI\n",
    "context = doc.tables()[6].to_html()\n",
    "resp = OpenAI().complete(f\"read this table and answer question: who is Scott D. Cook? and how old is he? {context}\")\n",
    "print(resp.text)"
   ]
  },
  {
   "cell_type": "code",
   "execution_count": null,
   "id": "b1b30080-df49-412f-9602-e0723c963cc5",
   "metadata": {},
   "outputs": [],
   "source": []
  }
 ],
 "metadata": {
  "kernelspec": {
   "display_name": "Python 3 (ipykernel)",
   "language": "python",
   "name": "python3"
  },
  "language_info": {
   "codemirror_mode": {
    "name": "ipython",
    "version": 3
   },
   "file_extension": ".py",
   "mimetype": "text/x-python",
   "name": "python",
   "nbconvert_exporter": "python",
   "pygments_lexer": "ipython3",
   "version": "3.10.8"
  }
 },
 "nbformat": 4,
 "nbformat_minor": 5
}
