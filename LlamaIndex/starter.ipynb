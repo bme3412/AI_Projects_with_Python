{
 "cells": [
  {
   "cell_type": "code",
   "execution_count": 1,
   "id": "481b5bfa",
   "metadata": {},
   "outputs": [
    {
     "name": "stdout",
     "output_type": "stream",
     "text": [
      "/Users/brendan/Desktop - Brendan’s MacBook Air/llm/bin/python\n",
      "/Users/brendan/Desktop - Brendan’s MacBook Air/llm/bin/python\n"
     ]
    }
   ],
   "source": [
    "\n",
    "!which python\n",
    "import sys\n",
    "print(sys.executable)\n"
   ]
  },
  {
   "cell_type": "markdown",
   "id": "587633e5",
   "metadata": {},
   "source": [
    "## Viewing queries and Events using logging"
   ]
  },
  {
   "cell_type": "code",
   "execution_count": 2,
   "id": "2c288e72",
   "metadata": {},
   "outputs": [],
   "source": [
    "#import logging\n",
    "#import sys\n",
    "\n",
    "#logging.basicConfig(stream=sys.stdout, level=logging.DEBUG)\n",
    "#logging.getLogger().addHandler(logging.StreamHandler(stream=sys.stdout))\n"
   ]
  },
  {
   "cell_type": "code",
   "execution_count": 3,
   "id": "93622069",
   "metadata": {},
   "outputs": [],
   "source": [
    "from llama_index import VectorStoreIndex, SimpleDirectoryReader"
   ]
  },
  {
   "cell_type": "markdown",
   "id": "0e18fe2f",
   "metadata": {},
   "source": [
    "## Load data and build an index"
   ]
  },
  {
   "cell_type": "code",
   "execution_count": 4,
   "id": "4f79f6d5",
   "metadata": {},
   "outputs": [],
   "source": [
    "# builds an index over the documents in the data folder\n",
    "\n",
    "documents = SimpleDirectoryReader(\"data\").load_data()\n",
    "index = VectorStoreIndex.from_documents(documents)"
   ]
  },
  {
   "cell_type": "markdown",
   "id": "c17d33a6",
   "metadata": {},
   "source": [
    "## Query your data"
   ]
  },
  {
   "cell_type": "code",
   "execution_count": 5,
   "id": "dce18a52",
   "metadata": {},
   "outputs": [
    {
     "name": "stdout",
     "output_type": "stream",
     "text": [
      "The document is a transcript of NVIDIA's Third Quarter Earnings Call for fiscal year 2023. It begins with an introduction by the conference operator, followed by remarks from Simona Jankowski, who welcomes everyone to the call. Simona introduces Jensen Huang, President and CEO of NVIDIA, and Colette Kress, Executive VP and CFO. The call is being webcast live and will be available for replay. During the call, forward-looking statements are made based on current expectations. The financial results for the third quarter are discussed, highlighting a decline in revenue but record data center and automotive revenue. The challenges faced in the gaming and pro visualization platforms are also mentioned. The growth in the data center segment is attributed to leading U.S. cloud providers and consumer internet companies deploying NVIDIA AI for various use cases. The call concludes with Colette Kress providing additional financial details and a reminder of non-GAAP financial measures.\n"
     ]
    }
   ],
   "source": [
    "query_engine = index.as_query_engine()\n",
    "response = query_engine.query(\"Summarize the document\")\n",
    "print(response)"
   ]
  },
  {
   "cell_type": "markdown",
   "id": "cb863192",
   "metadata": {},
   "source": [
    "## Viewing queries and Events using logging"
   ]
  },
  {
   "cell_type": "code",
   "execution_count": 6,
   "id": "e9436864",
   "metadata": {},
   "outputs": [],
   "source": [
    "import logging\n",
    "import sys\n",
    "\n",
    "#logging.basicConfig(stream=sys.stdout, level=logging.DEBUG)\n",
    "#logging.getLogger().addHandler(logging.StreamHandler(stream=sys.stdout))\n"
   ]
  },
  {
   "cell_type": "markdown",
   "id": "b7a062d1",
   "metadata": {},
   "source": [
    "## Storing the index\n",
    "+ By Default, the data loaded is stored in memory as a series of vector embeddings\n",
    "+ Can save time - and requests to OpenAI - by saving the embeddings to disk"
   ]
  },
  {
   "cell_type": "code",
   "execution_count": 7,
   "id": "4aa4a996",
   "metadata": {},
   "outputs": [],
   "source": [
    "index.storage_context.persist()"
   ]
  },
  {
   "cell_type": "code",
   "execution_count": 8,
   "id": "42a3a6a4",
   "metadata": {},
   "outputs": [],
   "source": [
    "# won't get the benefits of persisting unless load the data\n",
    "# generate and store the index if doesn't exist;\n",
    "# but load if it index does exist"
   ]
  },
  {
   "cell_type": "code",
   "execution_count": 9,
   "id": "e038d18f",
   "metadata": {},
   "outputs": [
    {
     "name": "stdout",
     "output_type": "stream",
     "text": [
      "The sell-through in China was challenging for the overall business, but it was still relatively solid. There were some softness in desktop sales in China and Asia, but notebook sell-through was quite solid. The company expects stronger end demand in Q4 driven by upcoming holidays and the continuation of the Ada adoption.\n"
     ]
    }
   ],
   "source": [
    "import os.path\n",
    "from llama_index import (\n",
    "    VectorStoreIndex,\n",
    "    SimpleDirectoryReader,\n",
    "    StorageContext,\n",
    "    load_index_from_storage)\n",
    "\n",
    "# check if storage already exists\n",
    "PERSIST_DIR = './storage'\n",
    "if not os.path.exists(PERSIST_DIR):\n",
    "    # load the documents and create the index\n",
    "    documents = SimpleDirectoryReader('data').load_data()\n",
    "    index = VectorStoreIndex.from_documents(documents)\n",
    "    # store it for later\n",
    "    index.storage_context.persist(persist_dir=PERSIST_DIR)\n",
    "else:\n",
    "    # load existing data\n",
    "    storage_context = StorageContext.from_defaults(persist_dir=PERSIST_DIR)\n",
    "    index = load_index_from_storage(storage_context)\n",
    "    \n",
    "# now query the index\n",
    "query_engine = index.as_query_engine()\n",
    "response = query_engine.query('What was said about doing business in China?')\n",
    "print(response)"
   ]
  },
  {
   "cell_type": "code",
   "execution_count": null,
   "id": "57deefb8",
   "metadata": {},
   "outputs": [],
   "source": []
  }
 ],
 "metadata": {
  "kernelspec": {
   "display_name": "Python (llm)",
   "language": "python",
   "name": "llm"
  },
  "language_info": {
   "codemirror_mode": {
    "name": "ipython",
    "version": 3
   },
   "file_extension": ".py",
   "mimetype": "text/x-python",
   "name": "python",
   "nbconvert_exporter": "python",
   "pygments_lexer": "ipython3",
   "version": "3.10.8"
  }
 },
 "nbformat": 4,
 "nbformat_minor": 5
}
