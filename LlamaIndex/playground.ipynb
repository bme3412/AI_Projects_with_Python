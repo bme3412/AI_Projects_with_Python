{
 "cells": [
  {
   "cell_type": "code",
   "execution_count": 2,
   "id": "2ac6ec16",
   "metadata": {},
   "outputs": [],
   "source": [
    "from llama_index import download_loader, SimpleDirectoryReader\n",
    "from llama_index.indices.vector_store import VectorStoreIndex\n",
    "from llama_index.indices.tree.base import TreeIndex\n",
    "\n",
    "reader = SimpleDirectoryReader(\"data\")\n",
    "data = reader.load_data()\n"
   ]
  },
  {
   "cell_type": "code",
   "execution_count": 4,
   "id": "b6aa9dd4",
   "metadata": {},
   "outputs": [],
   "source": [
    "indices = [\n",
    "    VectorStoreIndex.from_documents(data),\n",
    "    TreeIndex.from_documents(data),\n",
    "]"
   ]
  },
  {
   "cell_type": "code",
   "execution_count": 5,
   "id": "cb79ade6",
   "metadata": {},
   "outputs": [],
   "source": [
    "from llama_index.playground import Playground\n",
    "\n",
    "playground = Playground(indices=indices)"
   ]
  },
  {
   "cell_type": "code",
   "execution_count": 6,
   "id": "2679e756",
   "metadata": {},
   "outputs": [
    {
     "name": "stdout",
     "output_type": "stream",
     "text": [
      "\u001b[1mQuery:\u001b[0m\n",
      "How much revenue?\n",
      "\n",
      "\u001b[1mVectorStoreIndex\u001b[0m, retriever mode = default\n",
      "\u001b[1;3;38;2;237;90;200mThe expected revenue for the fourth quarter of fiscal 2023 is $6 billion, plus or minus 2%.\u001b[0m\n",
      "\n",
      "\u001b[1mTreeIndex\u001b[0m, retriever mode = select_leaf\n",
      "\u001b[1;3;38;2;90;149;237mThe expected revenue for the fourth quarter of fiscal 2023 is $6 billion, plus or minus 2%.\u001b[0m\n",
      "\n",
      "\u001b[1mTreeIndex\u001b[0m, retriever mode = select_leaf_embedding\n",
      "\u001b[1;3;38;2;90;149;237mThe expected revenue for the fourth quarter of fiscal 2023 is $6 billion, plus or minus 2%.\u001b[0m\n",
      "\n",
      "\u001b[1mTreeIndex\u001b[0m, retriever mode = all_leaf\n",
      "\u001b[1;3;38;2;90;149;237mThe revenue for the third quarter of fiscal 2023 was $5.93 billion.\u001b[0m\n",
      "\n",
      "\u001b[1mTreeIndex\u001b[0m, retriever mode = root\n",
      "\u001b[1;3;38;2;90;149;237mNVIDIA provided an outlook for the fourth quarter during their earnings call, mentioning the expected revenue along with other financial details. However, the specific amount of revenue was not mentioned in the given context.\u001b[0m\n",
      "\n",
      "\n",
      "Ran 5 combinations in total.\n"
     ]
    }
   ],
   "source": [
    "result_df = playground.compare(\"How much revenue?\")"
   ]
  },
  {
   "cell_type": "code",
   "execution_count": 7,
   "id": "569632dd",
   "metadata": {},
   "outputs": [
    {
     "data": {
      "text/html": [
       "<div>\n",
       "<style scoped>\n",
       "    .dataframe tbody tr th:only-of-type {\n",
       "        vertical-align: middle;\n",
       "    }\n",
       "\n",
       "    .dataframe tbody tr th {\n",
       "        vertical-align: top;\n",
       "    }\n",
       "\n",
       "    .dataframe thead th {\n",
       "        text-align: right;\n",
       "    }\n",
       "</style>\n",
       "<table border=\"1\" class=\"dataframe\">\n",
       "  <thead>\n",
       "    <tr style=\"text-align: right;\">\n",
       "      <th></th>\n",
       "      <th>Index</th>\n",
       "      <th>Retriever Mode</th>\n",
       "      <th>Output</th>\n",
       "      <th>Duration</th>\n",
       "      <th>Prompt Tokens</th>\n",
       "      <th>Completion Tokens</th>\n",
       "      <th>Embed Tokens</th>\n",
       "    </tr>\n",
       "  </thead>\n",
       "  <tbody>\n",
       "    <tr>\n",
       "      <th>0</th>\n",
       "      <td>VectorStoreIndex</td>\n",
       "      <td>default</td>\n",
       "      <td>The expected revenue for the fourth quarter of...</td>\n",
       "      <td>3.045248</td>\n",
       "      <td>1424</td>\n",
       "      <td>23</td>\n",
       "      <td>4</td>\n",
       "    </tr>\n",
       "    <tr>\n",
       "      <th>1</th>\n",
       "      <td>TreeIndex</td>\n",
       "      <td>select_leaf</td>\n",
       "      <td>The expected revenue for the fourth quarter of...</td>\n",
       "      <td>12.947479</td>\n",
       "      <td>5094</td>\n",
       "      <td>224</td>\n",
       "      <td>0</td>\n",
       "    </tr>\n",
       "    <tr>\n",
       "      <th>2</th>\n",
       "      <td>TreeIndex</td>\n",
       "      <td>select_leaf_embedding</td>\n",
       "      <td>The expected revenue for the fourth quarter of...</td>\n",
       "      <td>5.142980</td>\n",
       "      <td>673</td>\n",
       "      <td>23</td>\n",
       "      <td>6513</td>\n",
       "    </tr>\n",
       "    <tr>\n",
       "      <th>3</th>\n",
       "      <td>TreeIndex</td>\n",
       "      <td>all_leaf</td>\n",
       "      <td>The revenue for the third quarter of fiscal 20...</td>\n",
       "      <td>6.692220</td>\n",
       "      <td>11942</td>\n",
       "      <td>72</td>\n",
       "      <td>0</td>\n",
       "    </tr>\n",
       "    <tr>\n",
       "      <th>4</th>\n",
       "      <td>TreeIndex</td>\n",
       "      <td>root</td>\n",
       "      <td>NVIDIA provided an outlook for the fourth quar...</td>\n",
       "      <td>2.248341</td>\n",
       "      <td>602</td>\n",
       "      <td>39</td>\n",
       "      <td>0</td>\n",
       "    </tr>\n",
       "  </tbody>\n",
       "</table>\n",
       "</div>"
      ],
      "text/plain": [
       "              Index         Retriever Mode  \\\n",
       "0  VectorStoreIndex                default   \n",
       "1         TreeIndex            select_leaf   \n",
       "2         TreeIndex  select_leaf_embedding   \n",
       "3         TreeIndex               all_leaf   \n",
       "4         TreeIndex                   root   \n",
       "\n",
       "                                              Output   Duration  \\\n",
       "0  The expected revenue for the fourth quarter of...   3.045248   \n",
       "1  The expected revenue for the fourth quarter of...  12.947479   \n",
       "2  The expected revenue for the fourth quarter of...   5.142980   \n",
       "3  The revenue for the third quarter of fiscal 20...   6.692220   \n",
       "4  NVIDIA provided an outlook for the fourth quar...   2.248341   \n",
       "\n",
       "   Prompt Tokens  Completion Tokens  Embed Tokens  \n",
       "0           1424                 23             4  \n",
       "1           5094                224             0  \n",
       "2            673                 23          6513  \n",
       "3          11942                 72             0  \n",
       "4            602                 39             0  "
      ]
     },
     "execution_count": 7,
     "metadata": {},
     "output_type": "execute_result"
    }
   ],
   "source": [
    "result_df"
   ]
  },
  {
   "cell_type": "code",
   "execution_count": null,
   "id": "2ecd3a50",
   "metadata": {},
   "outputs": [],
   "source": []
  }
 ],
 "metadata": {
  "kernelspec": {
   "display_name": "Python (llm)",
   "language": "python",
   "name": "llm"
  },
  "language_info": {
   "codemirror_mode": {
    "name": "ipython",
    "version": 3
   },
   "file_extension": ".py",
   "mimetype": "text/x-python",
   "name": "python",
   "nbconvert_exporter": "python",
   "pygments_lexer": "ipython3",
   "version": "3.10.8"
  }
 },
 "nbformat": 4,
 "nbformat_minor": 5
}
