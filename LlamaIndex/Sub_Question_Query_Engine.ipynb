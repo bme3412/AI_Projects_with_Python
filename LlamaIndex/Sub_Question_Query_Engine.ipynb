{
 "cells": [
  {
   "cell_type": "markdown",
   "id": "7bf4bb12-059c-4f54-8a1a-57a4c395151e",
   "metadata": {},
   "source": [
    "### 10K Analysis"
   ]
  },
  {
   "cell_type": "code",
   "execution_count": 23,
   "id": "bccd6e9a-dbdb-47d4-b43a-1d9692f36612",
   "metadata": {},
   "outputs": [],
   "source": [
    "import openai\n",
    "import os\n",
    "import nest_asyncio\n",
    "nest_asyncio.apply()\n",
    "os.environ['OPENAI_API_KEY'] = '#'\n",
    "openai.api_key = os.environ['OPENAI_API_KEY']"
   ]
  },
  {
   "cell_type": "code",
   "execution_count": 3,
   "id": "fc6c5828-eadd-4a5e-a734-5869abab97c0",
   "metadata": {},
   "outputs": [],
   "source": [
    "from llama_index import SimpleDirectoryReader, LLMPredictor, ServiceContext, VectorStoreIndex\n",
    "from llama_index.response.pprint_utils import pprint_response\n",
    "from langchain import OpenAI\n",
    "\n",
    "from llama_index.tools import QueryEngineTool, ToolMetadata\n",
    "from llama_index.query_engine import SubQuestionQueryEngine\n"
   ]
  },
  {
   "cell_type": "markdown",
   "id": "c367af28-21e3-4e4b-a7e1-a6addba95fd8",
   "metadata": {},
   "source": [
    "### Configure LLM Services"
   ]
  },
  {
   "cell_type": "code",
   "execution_count": 10,
   "id": "4f38c90d-f6cc-45ed-b3ef-255503207af3",
   "metadata": {},
   "outputs": [],
   "source": [
    "llm =OpenAI(temperature=.5, model='text-davinci-003', max_tokens=-1)\n",
    "service_context = ServiceContext.from_defaults(llm=llm)"
   ]
  },
  {
   "cell_type": "markdown",
   "id": "92fbc968-7339-4692-95c2-8b8b3d6a6c7f",
   "metadata": {},
   "source": [
    "### Load Data"
   ]
  },
  {
   "cell_type": "code",
   "execution_count": 16,
   "id": "9a212efd-2cc9-41e7-ad48-470c168b3cc3",
   "metadata": {},
   "outputs": [],
   "source": [
    "lyft_docs = SimpleDirectoryReader(input_files=['/Users/brendan/Desktop - Brendan’s MacBook Air/llm/llamaindex/chatbot/data/LYFT_10K_2023.pdf']).load_data()\n",
    "uber_docs = SimpleDirectoryReader(input_files=['/Users/brendan/Desktop - Brendan’s MacBook Air/llm/llamaindex/pdf_tutorial/data/UBER_10K_2023.pdf']).load_data()"
   ]
  },
  {
   "cell_type": "markdown",
   "id": "19832f7d-055a-45ec-ac37-e186c99623e5",
   "metadata": {},
   "source": [
    "### Build Indices"
   ]
  },
  {
   "cell_type": "code",
   "execution_count": 14,
   "id": "c0376d3b-04a3-4250-84e5-8c8eb1c1f8f6",
   "metadata": {},
   "outputs": [
    {
     "name": "stdout",
     "output_type": "stream",
     "text": [
      "Finished building index with 253 nodes\n"
     ]
    }
   ],
   "source": [
    "lyft_index = VectorStoreIndex.from_documents(lyft_docs)\n",
    "print(f'Finished building index with {len(lyft_index.docstore.docs)} nodes')"
   ]
  },
  {
   "cell_type": "code",
   "execution_count": 17,
   "id": "3db3fe39-47e5-4946-9e1f-89b1d9011251",
   "metadata": {},
   "outputs": [
    {
     "name": "stdout",
     "output_type": "stream",
     "text": [
      "Finished building index with 238 nodes\n"
     ]
    }
   ],
   "source": [
    "uber_index = VectorStoreIndex.from_documents(uber_docs)\n",
    "print(f'Finished building index with {len(uber_index.docstore.docs)} nodes')"
   ]
  },
  {
   "cell_type": "markdown",
   "id": "6160ff59-fd9f-4a1d-a37f-afe6ad86c722",
   "metadata": {},
   "source": [
    "#### Build Query Engines"
   ]
  },
  {
   "cell_type": "code",
   "execution_count": 18,
   "id": "0830837d-f69a-46dd-8b52-a550bf9c3a6a",
   "metadata": {},
   "outputs": [],
   "source": [
    "lyft_engine = lyft_index.as_query_engine(similarity_top_k=3)\n"
   ]
  },
  {
   "cell_type": "code",
   "execution_count": 19,
   "id": "d5df39a7-2445-456b-8374-0e0614eb1d2e",
   "metadata": {},
   "outputs": [],
   "source": [
    "uber_engine = uber_index.as_query_engine(similarity_top_k=3)"
   ]
  },
  {
   "cell_type": "code",
   "execution_count": 21,
   "id": "ff0931b4-b43b-409e-ad6e-4011059e47f5",
   "metadata": {},
   "outputs": [],
   "source": [
    "query_engine_tools = [\n",
    "    QueryEngineTool(\n",
    "        query_engine=lyft_engine,\n",
    "        metadata=ToolMetadata(name='lyft_10k',description='Provides info aovut LYFT')\n",
    "    ),\n",
    "    QueryEngineTool(\n",
    "        query_engine=uber_engine,\n",
    "        metadata=ToolMetadata(name='uber_10k', description='Provides info about UBER')\n",
    "    )\n",
    "]\n",
    "\n",
    "s_engine = SubQuestionQueryEngine.from_defaults(query_engine_tools=query_engine_tools)"
   ]
  },
  {
   "cell_type": "markdown",
   "id": "7f959fe5-1c2e-4b40-a7db-df359a0b97f0",
   "metadata": {},
   "source": [
    "### Run queries"
   ]
  },
  {
   "cell_type": "code",
   "execution_count": 25,
   "id": "03c2292a-ba4b-4fe4-8c50-f5d2671bc61d",
   "metadata": {},
   "outputs": [
    {
     "name": "stdout",
     "output_type": "stream",
     "text": [
      "Generated 2 sub questions.\n",
      "\u001b[1;3;38;2;237;90;200m[lyft_10k] Q: What is the fleet size of LYFT?\n",
      "\u001b[0m\u001b[1;3;38;2;90;149;237m[uber_10k] Q: What is the fleet size of UBER?\n",
      "\u001b[0m\u001b[1;3;38;2;90;149;237m[uber_10k] A: The context information does not provide any specific information about the fleet size of Uber.\n",
      "\u001b[0m\u001b[1;3;38;2;237;90;200m[lyft_10k] A: Lyft operates over 90,000 bikes and scooters across 10 markets in partnership with city governments. Additionally, with the acquisition of PBSC Urban Solutions in 2022, Lyft has an additional 100,000+ bikes deployed in bikeshare systems in 46 markets in 15 countries.\n",
      "\u001b[0mLyft has a fleet size of over 90,000 bikes and scooters across 10 markets, as well as an additional 100,000+ bikes deployed in bikeshare systems in 46 markets in 15 countries through the acquisition of PBSC Urban Solutions. On the other hand, the context information does not provide any specific information about the fleet size of Uber.\n"
     ]
    }
   ],
   "source": [
    "response = s_engine.query('Compare and contrast fleet size, which refers to # of vehicles')\n",
    "print(response)"
   ]
  },
  {
   "cell_type": "code",
   "execution_count": 26,
   "id": "80571635-ffab-4a5a-ad5c-cdd9d1f85dfb",
   "metadata": {},
   "outputs": [
    {
     "name": "stdout",
     "output_type": "stream",
     "text": [
      "Generated 4 sub questions.\n",
      "\u001b[1;3;38;2;237;90;200m[lyft_10k] Q: How many riders are there on LYFT?\n",
      "\u001b[0m\u001b[1;3;38;2;90;149;237m[lyft_10k] Q: How many drivers are there on LYFT?\n",
      "\u001b[0m\u001b[1;3;38;2;11;159;203m[uber_10k] Q: How many riders are there on UBER?\n",
      "\u001b[0m\u001b[1;3;38;2;155;135;227m[uber_10k] Q: How many drivers are there on UBER?\n",
      "\u001b[0m\u001b[1;3;38;2;11;159;203m[uber_10k] A: The context information does not provide the exact number of riders on Uber.\n",
      "\u001b[0m\u001b[1;3;38;2;90;149;237m[lyft_10k] A: The context information does not provide an exact number of drivers on Lyft.\n",
      "\u001b[0m\u001b[1;3;38;2;155;135;227m[uber_10k] A: The context information does not provide the exact number of drivers on Uber.\n",
      "\u001b[0m\u001b[1;3;38;2;237;90;200m[lyft_10k] A: The number of riders on Lyft is not explicitly mentioned in the given context information.\n",
      "\u001b[0mThe context information does not provide any specific details about the number of riders or drivers on either Lyft or Uber. Therefore, it is not possible to compare or contrast the number of riders or drivers on these platforms based on the given context information.\n"
     ]
    }
   ],
   "source": [
    "response = s_engine.query('Compare and contrast number of riders or drivers on the platforms')\n",
    "print(response)"
   ]
  },
  {
   "cell_type": "code",
   "execution_count": 27,
   "id": "a01282a2-a355-437d-ab6e-1c11a992efac",
   "metadata": {},
   "outputs": [
    {
     "name": "stdout",
     "output_type": "stream",
     "text": [
      "Generated 8 sub questions.\n",
      "\u001b[1;3;38;2;237;90;200m[lyft_10k] Q: What are the top cities where LYFT operates?\n",
      "\u001b[0m\u001b[1;3;38;2;90;149;237m[uber_10k] Q: What are the top cities where UBER operates?\n",
      "\u001b[0m\u001b[1;3;38;2;11;159;203m[lyft_10k] Q: What is the market share of LYFT in different cities?\n",
      "\u001b[0m\u001b[1;3;38;2;155;135;227m[uber_10k] Q: What is the market share of UBER in different cities?\n",
      "\u001b[0m\u001b[1;3;38;2;237;90;200m[lyft_10k] Q: What are the differences in pricing between LYFT and UBER in different cities?\n",
      "\u001b[0m\u001b[1;3;38;2;90;149;237m[lyft_10k] Q: What are the differences in availability of LYFT and UBER in different cities?\n",
      "\u001b[0m\u001b[1;3;38;2;11;159;203m[lyft_10k] Q: What are the differences in user ratings between LYFT and UBER in different cities?\n",
      "\u001b[0m\u001b[1;3;38;2;155;135;227m[lyft_10k] Q: What are the differences in driver ratings between LYFT and UBER in different cities?\n",
      "\u001b[0m\u001b[1;3;38;2;90;149;237m[uber_10k] A: UBER operates in Chicago, Los Angeles, New York City, Sao Paulo, and London.\n",
      "\u001b[0m\u001b[1;3;38;2;237;90;200m[lyft_10k] A: The context information does not provide any specific information about the top cities where Lyft operates.\n",
      "\u001b[0m\u001b[1;3;38;2;155;135;227m[lyft_10k] A: There is no information provided in the given context about the differences in driver ratings between Lyft and Uber in different cities.\n",
      "\u001b[0m\u001b[1;3;38;2;155;135;227m[uber_10k] A: The market share of UBER in different cities is not mentioned in the provided context information.\n",
      "\u001b[0m\u001b[1;3;38;2;11;159;203m[lyft_10k] A: The context information does not provide any specific information about the market share of LYFT in different cities.\n",
      "\u001b[0m\u001b[1;3;38;2;11;159;203m[lyft_10k] A: I'm sorry, but I cannot provide an answer to that query based on the given context information.\n",
      "\u001b[0m\u001b[1;3;38;2;237;90;200m[lyft_10k] A: I'm sorry, but the given context does not provide any information about the differences in pricing between Lyft and Uber in different cities.\n",
      "\u001b[0m\u001b[1;3;38;2;90;149;237m[lyft_10k] A: LYFT and UBER are both ridesharing companies that operate in various cities across the United States and Canada. While the context does not provide specific information about the availability of LYFT and UBER in different cities, it does mention that LYFT is one of the largest multimodal transportation networks in the United States and Canada. This suggests that LYFT is likely available in a wide range of cities in these countries. Similarly, UBER is mentioned as the main ridesharing competitor of LYFT in the United States and Canada. Therefore, it can be inferred that UBER is also available in many cities in these countries. However, without specific information, it is not possible to determine the exact differences in availability between LYFT and UBER in different cities.\n",
      "\u001b[0mI'm sorry, but the given context information does not provide any specific information about the geographies of the Lyft and Uber platforms. Therefore, I cannot compare and contrast their geographies based on the provided context.\n"
     ]
    }
   ],
   "source": [
    "response = s_engine.query('Compare and contrast geographies of the platforms')\n",
    "print(response)"
   ]
  },
  {
   "cell_type": "code",
   "execution_count": null,
   "id": "078f1448-9c24-4f15-aced-f41b192bccc1",
   "metadata": {},
   "outputs": [],
   "source": []
  }
 ],
 "metadata": {
  "kernelspec": {
   "display_name": "Python 3 (ipykernel)",
   "language": "python",
   "name": "python3"
  },
  "language_info": {
   "codemirror_mode": {
    "name": "ipython",
    "version": 3
   },
   "file_extension": ".py",
   "mimetype": "text/x-python",
   "name": "python",
   "nbconvert_exporter": "python",
   "pygments_lexer": "ipython3",
   "version": "3.10.8"
  }
 },
 "nbformat": 4,
 "nbformat_minor": 5
}
