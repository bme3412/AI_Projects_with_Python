{
 "cells": [
  {
   "cell_type": "code",
   "execution_count": 1,
   "id": "e821b4e1-d43c-4b77-b74c-246d03de05e5",
   "metadata": {},
   "outputs": [],
   "source": [
    "from edgar import *\n",
    "set_identity(\"#\")"
   ]
  },
  {
   "cell_type": "markdown",
   "id": "8173e746-0c0e-43f3-b943-7136e8130513",
   "metadata": {},
   "source": [
    "#### Starting with a company"
   ]
  },
  {
   "cell_type": "code",
   "execution_count": 2,
   "id": "e73d3a77-a170-4325-ad4f-cc571411e2ab",
   "metadata": {},
   "outputs": [],
   "source": [
    "c = Company('NVDA')\n",
    "filings = c.get_filings()"
   ]
  },
  {
   "cell_type": "code",
   "execution_count": 6,
   "id": "26e477ff-8d40-4e46-82fb-02dff1e57a66",
   "metadata": {},
   "outputs": [
    {
     "data": {
      "text/plain": [
       "edgar.entities.EntityFilings"
      ]
     },
     "execution_count": 6,
     "metadata": {},
     "output_type": "execute_result"
    }
   ],
   "source": [
    "type(filings)"
   ]
  },
  {
   "cell_type": "code",
   "execution_count": 11,
   "id": "52969901-f494-4686-a158-a2aabe12086e",
   "metadata": {},
   "outputs": [
    {
     "data": {
      "text/html": [
       "<pre style=\"white-space:pre;overflow-x:auto;line-height:normal;font-family:Menlo,'DejaVu Sans Mono',consolas,'Courier New',monospace\"></pre>\n"
      ],
      "text/plain": []
     },
     "metadata": {},
     "output_type": "display_data"
    },
    {
     "data": {
      "text/plain": [
       "\u001b[1;38;5;245m╭─\u001b[0m\u001b[1;38;5;245m──────────────────────────────────────\u001b[0m\u001b[1;38;5;245m \u001b[0m\u001b[1;38;5;245mFilings for \u001b[0m\u001b[1;32mNVIDIA CORP\u001b[0m\u001b[1;2;38;5;245m [\u001b[0m\u001b[1;33m1045810\u001b[0m\u001b[1;2;38;5;245m]\u001b[0m\u001b[1;38;5;245m \u001b[0m\u001b[1;38;5;245m──────────────────────────────────────\u001b[0m\u001b[1;38;5;245m─╮\u001b[0m\n",
       "\u001b[1;38;5;245m│\u001b[0m                                                                                                                 \u001b[1;38;5;245m│\u001b[0m\n",
       "\u001b[1;38;5;245m│\u001b[0m  \u001b[1m \u001b[0m\u001b[1m #\u001b[0m\u001b[1m \u001b[0m \u001b[1m \u001b[0m\u001b[1mForm    \u001b[0m\u001b[1m \u001b[0m \u001b[1m \u001b[0m\u001b[1mDescription                                       \u001b[0m\u001b[1m \u001b[0m \u001b[1m \u001b[0m\u001b[1mFiling Date\u001b[0m\u001b[1m \u001b[0m \u001b[1m \u001b[0m\u001b[1mAccession Number    \u001b[0m\u001b[1m \u001b[0m      \u001b[1;38;5;245m│\u001b[0m\n",
       "\u001b[1;38;5;245m│\u001b[0m  ─────────────────────────────────────────────────────────────────────────────────────────────────────────      \u001b[1;38;5;245m│\u001b[0m\n",
       "\u001b[1;38;5;245m│\u001b[0m  \u001b[2m \u001b[0m\u001b[2m 0\u001b[0m\u001b[2m \u001b[0m \u001b[1;33m \u001b[0m\u001b[1;33mSCHEDULE\u001b[0m\u001b[1;33m \u001b[0m \u001b[1;34m \u001b[0m\u001b[1;34mDisclosure of beneficial ownership by passive     \u001b[0m\u001b[1;34m \u001b[0m  2025-02-14   \u001b[2m \u001b[0m\u001b[2m0001045810-25-000014\u001b[0m\u001b[2m \u001b[0m      \u001b[1;38;5;245m│\u001b[0m\n",
       "\u001b[1;38;5;245m│\u001b[0m  \u001b[2m    \u001b[0m \u001b[1;33m \u001b[0m\u001b[1;33m13G/A   \u001b[0m\u001b[1;33m \u001b[0m \u001b[1;34m \u001b[0m\u001b[1;34minvestors and institutions (XML)                  \u001b[0m\u001b[1;34m \u001b[0m               \u001b[2m                      \u001b[0m      \u001b[1;38;5;245m│\u001b[0m\n",
       "\u001b[1;38;5;245m│\u001b[0m  \u001b[1;2m \u001b[0m\u001b[1;2m 1\u001b[0m\u001b[1;2m \u001b[0m \u001b[1;33m \u001b[0m\u001b[1;33m13F-HR  \u001b[0m\u001b[1;33m \u001b[0m \u001b[1;34m \u001b[0m\u001b[1;34mInitial quarterly holdings report by institutional\u001b[0m\u001b[1;34m \u001b[0m \u001b[1m \u001b[0m\u001b[1m2025-02-14 \u001b[0m\u001b[1m \u001b[0m \u001b[1;2m \u001b[0m\u001b[1;2m0001045810-25-000013\u001b[0m\u001b[1;2m \u001b[0m      \u001b[1;38;5;245m│\u001b[0m\n",
       "\u001b[1;38;5;245m│\u001b[0m  \u001b[1;2m    \u001b[0m \u001b[1;33m          \u001b[0m \u001b[1;34m \u001b[0m\u001b[1;34mmanagers                                          \u001b[0m\u001b[1;34m \u001b[0m \u001b[1m             \u001b[0m \u001b[1;2m                      \u001b[0m      \u001b[1;38;5;245m│\u001b[0m\n",
       "\u001b[1;38;5;245m│\u001b[0m  \u001b[2m \u001b[0m\u001b[2m 2\u001b[0m\u001b[2m \u001b[0m \u001b[1;33m \u001b[0m\u001b[1;33m8-K     \u001b[0m\u001b[1;33m \u001b[0m \u001b[1;34m \u001b[0m\u001b[1;34mCurrent report                                    \u001b[0m\u001b[1;34m \u001b[0m  2025-01-17   \u001b[2m \u001b[0m\u001b[2m0001045810-25-000007\u001b[0m\u001b[2m \u001b[0m      \u001b[1;38;5;245m│\u001b[0m\n",
       "\u001b[1;38;5;245m│\u001b[0m  \u001b[1;2m \u001b[0m\u001b[1;2m 3\u001b[0m\u001b[1;2m \u001b[0m \u001b[1;33m \u001b[0m\u001b[1;33m4       \u001b[0m\u001b[1;33m \u001b[0m \u001b[1;34m \u001b[0m\u001b[1;34mStatement of changes in beneficial ownership      \u001b[0m\u001b[1;34m \u001b[0m \u001b[1m \u001b[0m\u001b[1m2025-01-08 \u001b[0m\u001b[1m \u001b[0m \u001b[1;2m \u001b[0m\u001b[1;2m0001045810-25-000002\u001b[0m\u001b[1;2m \u001b[0m      \u001b[1;38;5;245m│\u001b[0m\n",
       "\u001b[1;38;5;245m│\u001b[0m  \u001b[2m \u001b[0m\u001b[2m 4\u001b[0m\u001b[2m \u001b[0m \u001b[1;33m \u001b[0m\u001b[1;33m144     \u001b[0m\u001b[1;33m \u001b[0m \u001b[1;34m \u001b[0m\u001b[1;34mNotice of proposed sale                           \u001b[0m\u001b[1;34m \u001b[0m  2025-01-06   \u001b[2m \u001b[0m\u001b[2m0001921094-25-000014\u001b[0m\u001b[2m \u001b[0m      \u001b[1;38;5;245m│\u001b[0m\n",
       "\u001b[1;38;5;245m│\u001b[0m  \u001b[1;2m \u001b[0m\u001b[1;2m 5\u001b[0m\u001b[1;2m \u001b[0m \u001b[1;33m \u001b[0m\u001b[1;33m4       \u001b[0m\u001b[1;33m \u001b[0m \u001b[1;34m \u001b[0m\u001b[1;34mStatement of changes in beneficial ownership      \u001b[0m\u001b[1;34m \u001b[0m \u001b[1m \u001b[0m\u001b[1m2024-12-20 \u001b[0m\u001b[1m \u001b[0m \u001b[1;2m \u001b[0m\u001b[1;2m0001045810-24-000337\u001b[0m\u001b[1;2m \u001b[0m      \u001b[1;38;5;245m│\u001b[0m\n",
       "\u001b[1;38;5;245m│\u001b[0m  \u001b[2m \u001b[0m\u001b[2m 6\u001b[0m\u001b[2m \u001b[0m \u001b[1;33m \u001b[0m\u001b[1;33m4       \u001b[0m\u001b[1;33m \u001b[0m \u001b[1;34m \u001b[0m\u001b[1;34mStatement of changes in beneficial ownership      \u001b[0m\u001b[1;34m \u001b[0m  2024-12-18   \u001b[2m \u001b[0m\u001b[2m0001225208-24-010914\u001b[0m\u001b[2m \u001b[0m      \u001b[1;38;5;245m│\u001b[0m\n",
       "\u001b[1;38;5;245m│\u001b[0m  \u001b[1;2m \u001b[0m\u001b[1;2m 7\u001b[0m\u001b[1;2m \u001b[0m \u001b[1;33m \u001b[0m\u001b[1;33m144     \u001b[0m\u001b[1;33m \u001b[0m \u001b[1;34m \u001b[0m\u001b[1;34mNotice of proposed sale                           \u001b[0m\u001b[1;34m \u001b[0m \u001b[1m \u001b[0m\u001b[1m2024-12-16 \u001b[0m\u001b[1m \u001b[0m \u001b[1;2m \u001b[0m\u001b[1;2m0001973251-24-000081\u001b[0m\u001b[1;2m \u001b[0m      \u001b[1;38;5;245m│\u001b[0m\n",
       "\u001b[1;38;5;245m│\u001b[0m  \u001b[2m \u001b[0m\u001b[2m 8\u001b[0m\u001b[2m \u001b[0m \u001b[1;33m \u001b[0m\u001b[1;33m4       \u001b[0m\u001b[1;33m \u001b[0m \u001b[1;34m \u001b[0m\u001b[1;34mStatement of changes in beneficial ownership      \u001b[0m\u001b[1;34m \u001b[0m  2024-12-13   \u001b[2m \u001b[0m\u001b[2m0001045810-24-000335\u001b[0m\u001b[2m \u001b[0m      \u001b[1;38;5;245m│\u001b[0m\n",
       "\u001b[1;38;5;245m│\u001b[0m  \u001b[1;2m \u001b[0m\u001b[1;2m 9\u001b[0m\u001b[1;2m \u001b[0m \u001b[1;33m \u001b[0m\u001b[1;33m4       \u001b[0m\u001b[1;33m \u001b[0m \u001b[1;34m \u001b[0m\u001b[1;34mStatement of changes in beneficial ownership      \u001b[0m\u001b[1;34m \u001b[0m \u001b[1m \u001b[0m\u001b[1m2024-12-13 \u001b[0m\u001b[1m \u001b[0m \u001b[1;2m \u001b[0m\u001b[1;2m0001045810-24-000333\u001b[0m\u001b[1;2m \u001b[0m      \u001b[1;38;5;245m│\u001b[0m\n",
       "\u001b[1;38;5;245m│\u001b[0m  \u001b[2m \u001b[0m\u001b[2m10\u001b[0m\u001b[2m \u001b[0m \u001b[1;33m \u001b[0m\u001b[1;33m4       \u001b[0m\u001b[1;33m \u001b[0m \u001b[1;34m \u001b[0m\u001b[1;34mStatement of changes in beneficial ownership      \u001b[0m\u001b[1;34m \u001b[0m  2024-12-13   \u001b[2m \u001b[0m\u001b[2m0001045810-24-000332\u001b[0m\u001b[2m \u001b[0m      \u001b[1;38;5;245m│\u001b[0m\n",
       "\u001b[1;38;5;245m│\u001b[0m  \u001b[1;2m \u001b[0m\u001b[1;2m11\u001b[0m\u001b[1;2m \u001b[0m \u001b[1;33m \u001b[0m\u001b[1;33m4       \u001b[0m\u001b[1;33m \u001b[0m \u001b[1;34m \u001b[0m\u001b[1;34mStatement of changes in beneficial ownership      \u001b[0m\u001b[1;34m \u001b[0m \u001b[1m \u001b[0m\u001b[1m2024-12-13 \u001b[0m\u001b[1m \u001b[0m \u001b[1;2m \u001b[0m\u001b[1;2m0001045810-24-000331\u001b[0m\u001b[1;2m \u001b[0m      \u001b[1;38;5;245m│\u001b[0m\n",
       "\u001b[1;38;5;245m│\u001b[0m  \u001b[2m \u001b[0m\u001b[2m12\u001b[0m\u001b[2m \u001b[0m \u001b[1;33m \u001b[0m\u001b[1;33m4       \u001b[0m\u001b[1;33m \u001b[0m \u001b[1;34m \u001b[0m\u001b[1;34mStatement of changes in beneficial ownership      \u001b[0m\u001b[1;34m \u001b[0m  2024-12-13   \u001b[2m \u001b[0m\u001b[2m0001045810-24-000330\u001b[0m\u001b[2m \u001b[0m      \u001b[1;38;5;245m│\u001b[0m\n",
       "\u001b[1;38;5;245m│\u001b[0m  \u001b[1;2m \u001b[0m\u001b[1;2m13\u001b[0m\u001b[1;2m \u001b[0m \u001b[1;33m \u001b[0m\u001b[1;33m4       \u001b[0m\u001b[1;33m \u001b[0m \u001b[1;34m \u001b[0m\u001b[1;34mStatement of changes in beneficial ownership      \u001b[0m\u001b[1;34m \u001b[0m \u001b[1m \u001b[0m\u001b[1m2024-12-13 \u001b[0m\u001b[1m \u001b[0m \u001b[1;2m \u001b[0m\u001b[1;2m0001045810-24-000327\u001b[0m\u001b[1;2m \u001b[0m      \u001b[1;38;5;245m│\u001b[0m\n",
       "\u001b[1;38;5;245m│\u001b[0m  \u001b[2m \u001b[0m\u001b[2m14\u001b[0m\u001b[2m \u001b[0m \u001b[1;33m \u001b[0m\u001b[1;33m144     \u001b[0m\u001b[1;33m \u001b[0m \u001b[1;34m \u001b[0m\u001b[1;34mNotice of proposed sale                           \u001b[0m\u001b[1;34m \u001b[0m  2024-12-13   \u001b[2m \u001b[0m\u001b[2m0001958244-24-005852\u001b[0m\u001b[2m \u001b[0m      \u001b[1;38;5;245m│\u001b[0m\n",
       "\u001b[1;38;5;245m│\u001b[0m  \u001b[1;2m \u001b[0m\u001b[1;2m15\u001b[0m\u001b[1;2m \u001b[0m \u001b[1;33m \u001b[0m\u001b[1;33m144     \u001b[0m\u001b[1;33m \u001b[0m \u001b[1;34m \u001b[0m\u001b[1;34mNotice of proposed sale                           \u001b[0m\u001b[1;34m \u001b[0m \u001b[1m \u001b[0m\u001b[1m2024-12-13 \u001b[0m\u001b[1m \u001b[0m \u001b[1;2m \u001b[0m\u001b[1;2m0001950047-24-009810\u001b[0m\u001b[1;2m \u001b[0m      \u001b[1;38;5;245m│\u001b[0m\n",
       "\u001b[1;38;5;245m│\u001b[0m  \u001b[2m \u001b[0m\u001b[2m16\u001b[0m\u001b[2m \u001b[0m \u001b[1;33m \u001b[0m\u001b[1;33m4       \u001b[0m\u001b[1;33m \u001b[0m \u001b[1;34m \u001b[0m\u001b[1;34mStatement of changes in beneficial ownership      \u001b[0m\u001b[1;34m \u001b[0m  2024-12-09   \u001b[2m \u001b[0m\u001b[2m0001045810-24-000320\u001b[0m\u001b[2m \u001b[0m      \u001b[1;38;5;245m│\u001b[0m\n",
       "\u001b[1;38;5;245m│\u001b[0m  \u001b[1;2m \u001b[0m\u001b[1;2m17\u001b[0m\u001b[1;2m \u001b[0m \u001b[1;33m \u001b[0m\u001b[1;33m4       \u001b[0m\u001b[1;33m \u001b[0m \u001b[1;34m \u001b[0m\u001b[1;34mStatement of changes in beneficial ownership      \u001b[0m\u001b[1;34m \u001b[0m \u001b[1m \u001b[0m\u001b[1m2024-11-27 \u001b[0m\u001b[1m \u001b[0m \u001b[1;2m \u001b[0m\u001b[1;2m0001045810-24-000318\u001b[0m\u001b[1;2m \u001b[0m      \u001b[1;38;5;245m│\u001b[0m\n",
       "\u001b[1;38;5;245m│\u001b[0m  \u001b[2m \u001b[0m\u001b[2m18\u001b[0m\u001b[2m \u001b[0m \u001b[1;33m \u001b[0m\u001b[1;33m144     \u001b[0m\u001b[1;33m \u001b[0m \u001b[1;34m \u001b[0m\u001b[1;34mNotice of proposed sale                           \u001b[0m\u001b[1;34m \u001b[0m  2024-11-25   \u001b[2m \u001b[0m\u001b[2m0001921094-24-001474\u001b[0m\u001b[2m \u001b[0m      \u001b[1;38;5;245m│\u001b[0m\n",
       "\u001b[1;38;5;245m│\u001b[0m  \u001b[1;2m \u001b[0m\u001b[1;2m19\u001b[0m\u001b[1;2m \u001b[0m \u001b[1;33m \u001b[0m\u001b[1;33m10-Q    \u001b[0m\u001b[1;33m \u001b[0m \u001b[1;34m \u001b[0m\u001b[1;34mQuarterly report for public companies             \u001b[0m\u001b[1;34m \u001b[0m \u001b[1m \u001b[0m\u001b[1m2024-11-20 \u001b[0m\u001b[1m \u001b[0m \u001b[1;2m \u001b[0m\u001b[1;2m0001045810-24-000316\u001b[0m\u001b[1;2m \u001b[0m      \u001b[1;38;5;245m│\u001b[0m\n",
       "\u001b[1;38;5;245m│\u001b[0m  \u001b[2m \u001b[0m\u001b[2m20\u001b[0m\u001b[2m \u001b[0m \u001b[1;33m \u001b[0m\u001b[1;33m8-K     \u001b[0m\u001b[1;33m \u001b[0m \u001b[1;34m \u001b[0m\u001b[1;34mCurrent report                                    \u001b[0m\u001b[1;34m \u001b[0m  2024-11-20   \u001b[2m \u001b[0m\u001b[2m0001045810-24-000315\u001b[0m\u001b[2m \u001b[0m      \u001b[1;38;5;245m│\u001b[0m\n",
       "\u001b[1;38;5;245m│\u001b[0m  \u001b[1;2m \u001b[0m\u001b[1;2m21\u001b[0m\u001b[1;2m \u001b[0m \u001b[1;33m \u001b[0m\u001b[1;33m13F-HR  \u001b[0m\u001b[1;33m \u001b[0m \u001b[1;34m \u001b[0m\u001b[1;34mInitial quarterly holdings report by institutional\u001b[0m\u001b[1;34m \u001b[0m \u001b[1m \u001b[0m\u001b[1m2024-11-14 \u001b[0m\u001b[1m \u001b[0m \u001b[1;2m \u001b[0m\u001b[1;2m0001045810-24-000305\u001b[0m\u001b[1;2m \u001b[0m      \u001b[1;38;5;245m│\u001b[0m\n",
       "\u001b[1;38;5;245m│\u001b[0m  \u001b[1;2m    \u001b[0m \u001b[1;33m          \u001b[0m \u001b[1;34m \u001b[0m\u001b[1;34mmanagers                                          \u001b[0m\u001b[1;34m \u001b[0m \u001b[1m             \u001b[0m \u001b[1;2m                      \u001b[0m      \u001b[1;38;5;245m│\u001b[0m\n",
       "\u001b[1;38;5;245m│\u001b[0m  \u001b[2m \u001b[0m\u001b[2m22\u001b[0m\u001b[2m \u001b[0m \u001b[1;33m \u001b[0m\u001b[1;33m3       \u001b[0m\u001b[1;33m \u001b[0m \u001b[1;34m \u001b[0m\u001b[1;34mInitial statement of beneficial ownership         \u001b[0m\u001b[1;34m \u001b[0m  2024-11-12   \u001b[2m \u001b[0m\u001b[2m0001045810-24-000302\u001b[0m\u001b[2m \u001b[0m      \u001b[1;38;5;245m│\u001b[0m\n",
       "\u001b[1;38;5;245m│\u001b[0m  \u001b[1;2m \u001b[0m\u001b[1;2m23\u001b[0m\u001b[1;2m \u001b[0m \u001b[1;33m \u001b[0m\u001b[1;33mSC 13G/A\u001b[0m\u001b[1;33m \u001b[0m \u001b[1;34m \u001b[0m\u001b[1;34mBeneficial ownership                              \u001b[0m\u001b[1;34m \u001b[0m \u001b[1m \u001b[0m\u001b[1m2024-11-12 \u001b[0m\u001b[1m \u001b[0m \u001b[1;2m \u001b[0m\u001b[1;2m0000315066-24-002826\u001b[0m\u001b[1;2m \u001b[0m      \u001b[1;38;5;245m│\u001b[0m\n",
       "\u001b[1;38;5;245m│\u001b[0m  \u001b[2m \u001b[0m\u001b[2m24\u001b[0m\u001b[2m \u001b[0m \u001b[1;33m \u001b[0m\u001b[1;33m8-K     \u001b[0m\u001b[1;33m \u001b[0m \u001b[1;34m \u001b[0m\u001b[1;34mCurrent report                                    \u001b[0m\u001b[1;34m \u001b[0m  2024-11-07   \u001b[2m \u001b[0m\u001b[2m0001045810-24-000300\u001b[0m\u001b[2m \u001b[0m      \u001b[1;38;5;245m│\u001b[0m\n",
       "\u001b[1;38;5;245m│\u001b[0m  \u001b[1;2m \u001b[0m\u001b[1;2m25\u001b[0m\u001b[1;2m \u001b[0m \u001b[1;33m \u001b[0m\u001b[1;33m4       \u001b[0m\u001b[1;33m \u001b[0m \u001b[1;34m \u001b[0m\u001b[1;34mStatement of changes in beneficial ownership      \u001b[0m\u001b[1;34m \u001b[0m \u001b[1m \u001b[0m\u001b[1m2024-10-11 \u001b[0m\u001b[1m \u001b[0m \u001b[1;2m \u001b[0m\u001b[1;2m0001045810-24-000298\u001b[0m\u001b[1;2m \u001b[0m      \u001b[1;38;5;245m│\u001b[0m\n",
       "\u001b[1;38;5;245m│\u001b[0m  \u001b[2m \u001b[0m\u001b[2m26\u001b[0m\u001b[2m \u001b[0m \u001b[1;33m \u001b[0m\u001b[1;33m4       \u001b[0m\u001b[1;33m \u001b[0m \u001b[1;34m \u001b[0m\u001b[1;34mStatement of changes in beneficial ownership      \u001b[0m\u001b[1;34m \u001b[0m  2024-10-07   \u001b[2m \u001b[0m\u001b[2m0001045810-24-000296\u001b[0m\u001b[2m \u001b[0m      \u001b[1;38;5;245m│\u001b[0m\n",
       "\u001b[1;38;5;245m│\u001b[0m  \u001b[1;2m \u001b[0m\u001b[1;2m27\u001b[0m\u001b[1;2m \u001b[0m \u001b[1;33m \u001b[0m\u001b[1;33m4       \u001b[0m\u001b[1;33m \u001b[0m \u001b[1;34m \u001b[0m\u001b[1;34mStatement of changes in beneficial ownership      \u001b[0m\u001b[1;34m \u001b[0m \u001b[1m \u001b[0m\u001b[1m2024-10-01 \u001b[0m\u001b[1m \u001b[0m \u001b[1;2m \u001b[0m\u001b[1;2m0001045810-24-000294\u001b[0m\u001b[1;2m \u001b[0m      \u001b[1;38;5;245m│\u001b[0m\n",
       "\u001b[1;38;5;245m│\u001b[0m  \u001b[2m \u001b[0m\u001b[2m28\u001b[0m\u001b[2m \u001b[0m \u001b[1;33m \u001b[0m\u001b[1;33m4       \u001b[0m\u001b[1;33m \u001b[0m \u001b[1;34m \u001b[0m\u001b[1;34mStatement of changes in beneficial ownership      \u001b[0m\u001b[1;34m \u001b[0m  2024-09-26   \u001b[2m \u001b[0m\u001b[2m0001045810-24-000292\u001b[0m\u001b[2m \u001b[0m      \u001b[1;38;5;245m│\u001b[0m\n",
       "\u001b[1;38;5;245m│\u001b[0m  \u001b[1;2m \u001b[0m\u001b[1;2m29\u001b[0m\u001b[1;2m \u001b[0m \u001b[1;33m \u001b[0m\u001b[1;33m144     \u001b[0m\u001b[1;33m \u001b[0m \u001b[1;34m \u001b[0m\u001b[1;34mNotice of proposed sale                           \u001b[0m\u001b[1;34m \u001b[0m \u001b[1m \u001b[0m\u001b[1m2024-09-24 \u001b[0m\u001b[1m \u001b[0m \u001b[1;2m \u001b[0m\u001b[1;2m0001961863-24-000324\u001b[0m\u001b[1;2m \u001b[0m      \u001b[1;38;5;245m│\u001b[0m\n",
       "\u001b[1;38;5;245m│\u001b[0m  \u001b[2m \u001b[0m\u001b[2m30\u001b[0m\u001b[2m \u001b[0m \u001b[1;33m \u001b[0m\u001b[1;33m4       \u001b[0m\u001b[1;33m \u001b[0m \u001b[1;34m \u001b[0m\u001b[1;34mStatement of changes in beneficial ownership      \u001b[0m\u001b[1;34m \u001b[0m  2024-09-24   \u001b[2m \u001b[0m\u001b[2m0001045810-24-000290\u001b[0m\u001b[2m \u001b[0m      \u001b[1;38;5;245m│\u001b[0m\n",
       "\u001b[1;38;5;245m│\u001b[0m  \u001b[1;2m \u001b[0m\u001b[1;2m31\u001b[0m\u001b[1;2m \u001b[0m \u001b[1;33m \u001b[0m\u001b[1;33m4       \u001b[0m\u001b[1;33m \u001b[0m \u001b[1;34m \u001b[0m\u001b[1;34mStatement of changes in beneficial ownership      \u001b[0m\u001b[1;34m \u001b[0m \u001b[1m \u001b[0m\u001b[1m2024-09-23 \u001b[0m\u001b[1m \u001b[0m \u001b[1;2m \u001b[0m\u001b[1;2m0001225208-24-008806\u001b[0m\u001b[1;2m \u001b[0m      \u001b[1;38;5;245m│\u001b[0m\n",
       "\u001b[1;38;5;245m│\u001b[0m  \u001b[2m \u001b[0m\u001b[2m32\u001b[0m\u001b[2m \u001b[0m \u001b[1;33m \u001b[0m\u001b[1;33m4       \u001b[0m\u001b[1;33m \u001b[0m \u001b[1;34m \u001b[0m\u001b[1;34mStatement of changes in beneficial ownership      \u001b[0m\u001b[1;34m \u001b[0m  2024-09-20   \u001b[2m \u001b[0m\u001b[2m0001045810-24-000288\u001b[0m\u001b[2m \u001b[0m      \u001b[1;38;5;245m│\u001b[0m\n",
       "\u001b[1;38;5;245m│\u001b[0m  \u001b[1;2m \u001b[0m\u001b[1;2m33\u001b[0m\u001b[1;2m \u001b[0m \u001b[1;33m \u001b[0m\u001b[1;33m4       \u001b[0m\u001b[1;33m \u001b[0m \u001b[1;34m \u001b[0m\u001b[1;34mStatement of changes in beneficial ownership      \u001b[0m\u001b[1;34m \u001b[0m \u001b[1m \u001b[0m\u001b[1m2024-09-20 \u001b[0m\u001b[1m \u001b[0m \u001b[1;2m \u001b[0m\u001b[1;2m0001045810-24-000287\u001b[0m\u001b[1;2m \u001b[0m      \u001b[1;38;5;245m│\u001b[0m\n",
       "\u001b[1;38;5;245m│\u001b[0m  \u001b[2m \u001b[0m\u001b[2m34\u001b[0m\u001b[2m \u001b[0m \u001b[1;33m \u001b[0m\u001b[1;33m4       \u001b[0m\u001b[1;33m \u001b[0m \u001b[1;34m \u001b[0m\u001b[1;34mStatement of changes in beneficial ownership      \u001b[0m\u001b[1;34m \u001b[0m  2024-09-20   \u001b[2m \u001b[0m\u001b[2m0001045810-24-000286\u001b[0m\u001b[2m \u001b[0m      \u001b[1;38;5;245m│\u001b[0m\n",
       "\u001b[1;38;5;245m│\u001b[0m  \u001b[1;2m \u001b[0m\u001b[1;2m35\u001b[0m\u001b[1;2m \u001b[0m \u001b[1;33m \u001b[0m\u001b[1;33m4       \u001b[0m\u001b[1;33m \u001b[0m \u001b[1;34m \u001b[0m\u001b[1;34mStatement of changes in beneficial ownership      \u001b[0m\u001b[1;34m \u001b[0m \u001b[1m \u001b[0m\u001b[1m2024-09-20 \u001b[0m\u001b[1m \u001b[0m \u001b[1;2m \u001b[0m\u001b[1;2m0001045810-24-000284\u001b[0m\u001b[1;2m \u001b[0m      \u001b[1;38;5;245m│\u001b[0m\n",
       "\u001b[1;38;5;245m│\u001b[0m  \u001b[2m \u001b[0m\u001b[2m36\u001b[0m\u001b[2m \u001b[0m \u001b[1;33m \u001b[0m\u001b[1;33m4       \u001b[0m\u001b[1;33m \u001b[0m \u001b[1;34m \u001b[0m\u001b[1;34mStatement of changes in beneficial ownership      \u001b[0m\u001b[1;34m \u001b[0m  2024-09-20   \u001b[2m \u001b[0m\u001b[2m0001045810-24-000283\u001b[0m\u001b[2m \u001b[0m      \u001b[1;38;5;245m│\u001b[0m\n",
       "\u001b[1;38;5;245m│\u001b[0m  \u001b[1;2m \u001b[0m\u001b[1;2m37\u001b[0m\u001b[1;2m \u001b[0m \u001b[1;33m \u001b[0m\u001b[1;33m4       \u001b[0m\u001b[1;33m \u001b[0m \u001b[1;34m \u001b[0m\u001b[1;34mStatement of changes in beneficial ownership      \u001b[0m\u001b[1;34m \u001b[0m \u001b[1m \u001b[0m\u001b[1m2024-09-20 \u001b[0m\u001b[1m \u001b[0m \u001b[1;2m \u001b[0m\u001b[1;2m0001045810-24-000281\u001b[0m\u001b[1;2m \u001b[0m      \u001b[1;38;5;245m│\u001b[0m\n",
       "\u001b[1;38;5;245m│\u001b[0m  \u001b[2m \u001b[0m\u001b[2m38\u001b[0m\u001b[2m \u001b[0m \u001b[1;33m \u001b[0m\u001b[1;33m144     \u001b[0m\u001b[1;33m \u001b[0m \u001b[1;34m \u001b[0m\u001b[1;34mNotice of proposed sale                           \u001b[0m\u001b[1;34m \u001b[0m  2024-09-20   \u001b[2m \u001b[0m\u001b[2m0001958244-24-004564\u001b[0m\u001b[2m \u001b[0m      \u001b[1;38;5;245m│\u001b[0m\n",
       "\u001b[1;38;5;245m│\u001b[0m  \u001b[1;2m \u001b[0m\u001b[1;2m39\u001b[0m\u001b[1;2m \u001b[0m \u001b[1;33m \u001b[0m\u001b[1;33m144     \u001b[0m\u001b[1;33m \u001b[0m \u001b[1;34m \u001b[0m\u001b[1;34mNotice of proposed sale                           \u001b[0m\u001b[1;34m \u001b[0m \u001b[1m \u001b[0m\u001b[1m2024-09-20 \u001b[0m\u001b[1m \u001b[0m \u001b[1;2m \u001b[0m\u001b[1;2m0001950047-24-007295\u001b[0m\u001b[1;2m \u001b[0m      \u001b[1;38;5;245m│\u001b[0m\n",
       "\u001b[1;38;5;245m│\u001b[0m  \u001b[2m \u001b[0m\u001b[2m40\u001b[0m\u001b[2m \u001b[0m \u001b[1;33m \u001b[0m\u001b[1;33m144     \u001b[0m\u001b[1;33m \u001b[0m \u001b[1;34m \u001b[0m\u001b[1;34mNotice of proposed sale                           \u001b[0m\u001b[1;34m \u001b[0m  2024-09-20   \u001b[2m \u001b[0m\u001b[2m0001973251-24-000043\u001b[0m\u001b[2m \u001b[0m      \u001b[1;38;5;245m│\u001b[0m\n",
       "\u001b[1;38;5;245m│\u001b[0m  \u001b[1;2m \u001b[0m\u001b[1;2m41\u001b[0m\u001b[1;2m \u001b[0m \u001b[1;33m \u001b[0m\u001b[1;33m144     \u001b[0m\u001b[1;33m \u001b[0m \u001b[1;34m \u001b[0m\u001b[1;34mNotice of proposed sale                           \u001b[0m\u001b[1;34m \u001b[0m \u001b[1m \u001b[0m\u001b[1m2024-09-19 \u001b[0m\u001b[1m \u001b[0m \u001b[1;2m \u001b[0m\u001b[1;2m0001973251-24-000042\u001b[0m\u001b[1;2m \u001b[0m      \u001b[1;38;5;245m│\u001b[0m\n",
       "\u001b[1;38;5;245m│\u001b[0m  \u001b[2m \u001b[0m\u001b[2m42\u001b[0m\u001b[2m \u001b[0m \u001b[1;33m \u001b[0m\u001b[1;33m4       \u001b[0m\u001b[1;33m \u001b[0m \u001b[1;34m \u001b[0m\u001b[1;34mStatement of changes in beneficial ownership      \u001b[0m\u001b[1;34m \u001b[0m  2024-09-16   \u001b[2m \u001b[0m\u001b[2m0001045810-24-000274\u001b[0m\u001b[2m \u001b[0m      \u001b[1;38;5;245m│\u001b[0m\n",
       "\u001b[1;38;5;245m│\u001b[0m  \u001b[1;2m \u001b[0m\u001b[1;2m43\u001b[0m\u001b[1;2m \u001b[0m \u001b[1;33m \u001b[0m\u001b[1;33m144     \u001b[0m\u001b[1;33m \u001b[0m \u001b[1;34m \u001b[0m\u001b[1;34mNotice of proposed sale                           \u001b[0m\u001b[1;34m \u001b[0m \u001b[1m \u001b[0m\u001b[1m2024-09-13 \u001b[0m\u001b[1m \u001b[0m \u001b[1;2m \u001b[0m\u001b[1;2m0001921094-24-001193\u001b[0m\u001b[1;2m \u001b[0m      \u001b[1;38;5;245m│\u001b[0m\n",
       "\u001b[1;38;5;245m│\u001b[0m  \u001b[2m \u001b[0m\u001b[2m44\u001b[0m\u001b[2m \u001b[0m \u001b[1;33m \u001b[0m\u001b[1;33m4       \u001b[0m\u001b[1;33m \u001b[0m \u001b[1;34m \u001b[0m\u001b[1;34mStatement of changes in beneficial ownership      \u001b[0m\u001b[1;34m \u001b[0m  2024-09-12   \u001b[2m \u001b[0m\u001b[2m0001045810-24-000272\u001b[0m\u001b[2m \u001b[0m      \u001b[1;38;5;245m│\u001b[0m\n",
       "\u001b[1;38;5;245m│\u001b[0m  \u001b[1;2m \u001b[0m\u001b[1;2m45\u001b[0m\u001b[1;2m \u001b[0m \u001b[1;33m \u001b[0m\u001b[1;33m144     \u001b[0m\u001b[1;33m \u001b[0m \u001b[1;34m \u001b[0m\u001b[1;34mNotice of proposed sale                           \u001b[0m\u001b[1;34m \u001b[0m \u001b[1m \u001b[0m\u001b[1m2024-09-12 \u001b[0m\u001b[1m \u001b[0m \u001b[1;2m \u001b[0m\u001b[1;2m0001921094-24-001186\u001b[0m\u001b[1;2m \u001b[0m      \u001b[1;38;5;245m│\u001b[0m\n",
       "\u001b[1;38;5;245m│\u001b[0m  \u001b[2m \u001b[0m\u001b[2m46\u001b[0m\u001b[2m \u001b[0m \u001b[1;33m \u001b[0m\u001b[1;33m144     \u001b[0m\u001b[1;33m \u001b[0m \u001b[1;34m \u001b[0m\u001b[1;34mNotice of proposed sale                           \u001b[0m\u001b[1;34m \u001b[0m  2024-09-11   \u001b[2m \u001b[0m\u001b[2m0001921094-24-001182\u001b[0m\u001b[2m \u001b[0m      \u001b[1;38;5;245m│\u001b[0m\n",
       "\u001b[1;38;5;245m│\u001b[0m  \u001b[1;2m \u001b[0m\u001b[1;2m47\u001b[0m\u001b[1;2m \u001b[0m \u001b[1;33m \u001b[0m\u001b[1;33m4       \u001b[0m\u001b[1;33m \u001b[0m \u001b[1;34m \u001b[0m\u001b[1;34mStatement of changes in beneficial ownership      \u001b[0m\u001b[1;34m \u001b[0m \u001b[1m \u001b[0m\u001b[1m2024-09-10 \u001b[0m\u001b[1m \u001b[0m \u001b[1;2m \u001b[0m\u001b[1;2m0001045810-24-000270\u001b[0m\u001b[1;2m \u001b[0m      \u001b[1;38;5;245m│\u001b[0m\n",
       "\u001b[1;38;5;245m│\u001b[0m  \u001b[2m \u001b[0m\u001b[2m48\u001b[0m\u001b[2m \u001b[0m \u001b[1;33m \u001b[0m\u001b[1;33m144     \u001b[0m\u001b[1;33m \u001b[0m \u001b[1;34m \u001b[0m\u001b[1;34mNotice of proposed sale                           \u001b[0m\u001b[1;34m \u001b[0m  2024-09-10   \u001b[2m \u001b[0m\u001b[2m0001921094-24-001180\u001b[0m\u001b[2m \u001b[0m      \u001b[1;38;5;245m│\u001b[0m\n",
       "\u001b[1;38;5;245m│\u001b[0m  \u001b[1;2m \u001b[0m\u001b[1;2m49\u001b[0m\u001b[1;2m \u001b[0m \u001b[1;33m \u001b[0m\u001b[1;33m144     \u001b[0m\u001b[1;33m \u001b[0m \u001b[1;34m \u001b[0m\u001b[1;34mNotice of proposed sale                           \u001b[0m\u001b[1;34m \u001b[0m \u001b[1m \u001b[0m\u001b[1m2024-09-09 \u001b[0m\u001b[1m \u001b[0m \u001b[1;2m \u001b[0m\u001b[1;2m0001921094-24-001170\u001b[0m\u001b[1;2m \u001b[0m      \u001b[1;38;5;245m│\u001b[0m\n",
       "\u001b[1;38;5;245m│\u001b[0m                                                                                                                 \u001b[1;38;5;245m│\u001b[0m\n",
       "\u001b[1;38;5;245m│\u001b[0m                                                                                                                 \u001b[1;38;5;245m│\u001b[0m\n",
       "\u001b[1;38;5;245m│\u001b[0m                                                                                                                 \u001b[1;38;5;245m│\u001b[0m\n",
       "\u001b[1;38;5;245m│\u001b[0m \u001b[2mShowing \u001b[0m\u001b[1;31m1\u001b[0m\u001b[2m to \u001b[0m\u001b[1;31m50\u001b[0m\u001b[2m of \u001b[0m\u001b[1m2,100\u001b[0m\u001b[2m filings.\u001b[0m\u001b[2m Page using \u001b[0m\u001b[1;38;5;245m← prev()\u001b[0m\u001b[2m and \u001b[0m\u001b[1;38;5;245mnext() →\u001b[0m                                              \u001b[1;38;5;245m│\u001b[0m\n",
       "\u001b[1;38;5;245m╰─\u001b[0m\u001b[1;38;5;245m──────────────────────────────\u001b[0m\u001b[1;38;5;245m Company filings between 1998-03-06 and 2025-02-14 \u001b[0m\u001b[1;38;5;245m──────────────────────────────\u001b[0m\u001b[1;38;5;245m─╯\u001b[0m"
      ]
     },
     "execution_count": 11,
     "metadata": {},
     "output_type": "execute_result"
    }
   ],
   "source": [
    "filings"
   ]
  },
  {
   "cell_type": "code",
   "execution_count": 17,
   "id": "871da7c8-e938-416c-913e-a777784bc7a5",
   "metadata": {},
   "outputs": [
    {
     "data": {
      "text/html": [
       "<pre style=\"white-space:pre;overflow-x:auto;line-height:normal;font-family:Menlo,'DejaVu Sans Mono',consolas,'Courier New',monospace\"></pre>\n"
      ],
      "text/plain": []
     },
     "metadata": {},
     "output_type": "display_data"
    },
    {
     "data": {
      "text/plain": [
       "╭─────────────── \u001b[1mForm 13F-HR \u001b[0m\u001b[1;32mNVIDIA CORP\u001b[0m \u001b[2m[1045810] \u001b[0m\u001b[1;33mNVDA\u001b[0m ────────────────╮\n",
       "│                                                                       │\n",
       "│  \u001b[2m \u001b[0m\u001b[2mAccession Number    \u001b[0m\u001b[2m \u001b[0m \u001b[2m \u001b[0m\u001b[2mFiling Date\u001b[0m\u001b[2m \u001b[0m \u001b[2m \u001b[0m\u001b[2mPeriod of Report\u001b[0m\u001b[2m \u001b[0m \u001b[2m \u001b[0m\u001b[2mDocuments\u001b[0m\u001b[2m \u001b[0m  │\n",
       "│  ───────────────────────────────────────────────────────────────────  │\n",
       "│   \u001b[1;38;5;39m0001045810-25-000013\u001b[0m   \u001b[1m2025-02-14 \u001b[0m   \u001b[1m2024-12-31      \u001b[0m   2           │\n",
       "│                                                                       │\n",
       "│                                                                       │\n",
       "│                                                                       │\n",
       "│                                                                       │\n",
       "╰─────\u001b[2m Initial quarterly holdings report by institutional managers \u001b[0m─────╯"
      ]
     },
     "execution_count": 17,
     "metadata": {},
     "output_type": "execute_result"
    }
   ],
   "source": [
    "filing = filings[1]\n",
    "filing"
   ]
  },
  {
   "cell_type": "code",
   "execution_count": 18,
   "id": "86f78b18-b3a1-4a7f-8947-d879f194510e",
   "metadata": {},
   "outputs": [
    {
     "data": {
      "text/html": [
       "<pre style=\"white-space:pre;overflow-x:auto;line-height:normal;font-family:Menlo,'DejaVu Sans Mono',consolas,'Courier New',monospace\"></pre>\n"
      ],
      "text/plain": []
     },
     "metadata": {},
     "output_type": "display_data"
    },
    {
     "data": {
      "text/html": [
       "<pre style=\"white-space:pre;overflow-x:auto;line-height:normal;font-family:Menlo,'DejaVu Sans Mono',consolas,'Courier New',monospace\"></pre>\n"
      ],
      "text/plain": []
     },
     "metadata": {},
     "output_type": "display_data"
    },
    {
     "data": {
      "text/html": [
       "<pre style=\"white-space:pre;overflow-x:auto;line-height:normal;font-family:Menlo,'DejaVu Sans Mono',consolas,'Courier New',monospace\"><span style=\"color: #000080; text-decoration-color: #000080\">                                                                                                                   </span>\n",
       "<span style=\"color: #000080; text-decoration-color: #000080\"> </span> The Securities and Exchange         <span style=\"color: #000080; text-decoration-color: #000080\"> </span>                                     <span style=\"color: #000080; text-decoration-color: #000080\"> </span>                                     <span style=\"color: #000080; text-decoration-color: #000080\"> </span>\n",
       "<span style=\"color: #000080; text-decoration-color: #000080\"> </span> Commission has not necessarily      <span style=\"color: #000080; text-decoration-color: #000080\"> </span>                                     <span style=\"color: #000080; text-decoration-color: #000080\"> </span>                                     <span style=\"color: #000080; text-decoration-color: #000080\"> </span>\n",
       "<span style=\"color: #000080; text-decoration-color: #000080\"> </span> reviewed the information in this    <span style=\"color: #000080; text-decoration-color: #000080\"> </span>                                     <span style=\"color: #000080; text-decoration-color: #000080\"> </span>                                     <span style=\"color: #000080; text-decoration-color: #000080\"> </span>\n",
       "<span style=\"color: #000080; text-decoration-color: #000080\"> </span> filing and has not determined if it <span style=\"color: #000080; text-decoration-color: #000080\"> </span>                                     <span style=\"color: #000080; text-decoration-color: #000080\"> </span>                                     <span style=\"color: #000080; text-decoration-color: #000080\"> </span>\n",
       "<span style=\"color: #000080; text-decoration-color: #000080\"> </span> is accurate and complete.           <span style=\"color: #000080; text-decoration-color: #000080\"> </span>                                     <span style=\"color: #000080; text-decoration-color: #000080\"> </span>                                     <span style=\"color: #000080; text-decoration-color: #000080\"> </span>\n",
       "<span style=\"color: #000080; text-decoration-color: #000080\"> </span> The reader should not assume that   <span style=\"color: #000080; text-decoration-color: #000080\"> </span>                                     <span style=\"color: #000080; text-decoration-color: #000080\"> </span>                                     <span style=\"color: #000080; text-decoration-color: #000080\"> </span>\n",
       "<span style=\"color: #000080; text-decoration-color: #000080\"> </span> the information is accurate and     <span style=\"color: #000080; text-decoration-color: #000080\"> </span>                                     <span style=\"color: #000080; text-decoration-color: #000080\"> </span>                                     <span style=\"color: #000080; text-decoration-color: #000080\"> </span>\n",
       "<span style=\"color: #000080; text-decoration-color: #000080\"> </span> complete.                           <span style=\"color: #000080; text-decoration-color: #000080\"> </span>                                     <span style=\"color: #000080; text-decoration-color: #000080\"> </span>                                     <span style=\"color: #000080; text-decoration-color: #000080\"> </span>\n",
       "<span style=\"color: #000080; text-decoration-color: #000080\"> </span><span style=\"color: #8a8a8a; text-decoration-color: #8a8a8a\">                                     </span><span style=\"color: #000080; text-decoration-color: #000080\"> </span><span style=\"color: #8a8a8a; text-decoration-color: #8a8a8a\">UNITED STATES SECURITIES AND         </span><span style=\"color: #000080; text-decoration-color: #000080\"> </span><span style=\"color: #8a8a8a; text-decoration-color: #8a8a8a\">OMB APPROVAL                         </span><span style=\"color: #000080; text-decoration-color: #000080\"> </span>\n",
       "<span style=\"color: #000080; text-decoration-color: #000080\"> </span><span style=\"color: #8a8a8a; text-decoration-color: #8a8a8a\">                                     </span><span style=\"color: #000080; text-decoration-color: #000080\"> </span><span style=\"color: #8a8a8a; text-decoration-color: #8a8a8a\">EXCHANGE COMMISSION                  </span><span style=\"color: #000080; text-decoration-color: #000080\"> </span><span style=\"color: #8a8a8a; text-decoration-color: #8a8a8a\">  OMB Number:                        </span><span style=\"color: #000080; text-decoration-color: #000080\"> </span>\n",
       "<span style=\"color: #000080; text-decoration-color: #000080\"> </span><span style=\"color: #8a8a8a; text-decoration-color: #8a8a8a\">                                     </span><span style=\"color: #000080; text-decoration-color: #000080\"> </span><span style=\"color: #8a8a8a; text-decoration-color: #8a8a8a\">Washington, D.C. 20549               </span><span style=\"color: #000080; text-decoration-color: #000080\"> </span><span style=\"color: #8a8a8a; text-decoration-color: #8a8a8a\">3235-0006                            </span><span style=\"color: #000080; text-decoration-color: #000080\"> </span>\n",
       "<span style=\"color: #000080; text-decoration-color: #000080\"> </span><span style=\"color: #8a8a8a; text-decoration-color: #8a8a8a\">                                     </span><span style=\"color: #000080; text-decoration-color: #000080\"> </span><span style=\"color: #8a8a8a; text-decoration-color: #8a8a8a\">FORM 13F                             </span><span style=\"color: #000080; text-decoration-color: #000080\"> </span><span style=\"color: #8a8a8a; text-decoration-color: #8a8a8a\">    Estimated average burden         </span><span style=\"color: #000080; text-decoration-color: #000080\"> </span>\n",
       "<span style=\"color: #000080; text-decoration-color: #000080\"> </span><span style=\"color: #8a8a8a; text-decoration-color: #8a8a8a\">                                     </span><span style=\"color: #000080; text-decoration-color: #000080\"> </span><span style=\"color: #8a8a8a; text-decoration-color: #8a8a8a\">FORM 13F COVER PAGE                  </span><span style=\"color: #000080; text-decoration-color: #000080\"> </span><span style=\"color: #8a8a8a; text-decoration-color: #8a8a8a\">    hours per response:              </span><span style=\"color: #000080; text-decoration-color: #000080\"> </span>\n",
       "<span style=\"color: #000080; text-decoration-color: #000080\"> </span><span style=\"color: #8a8a8a; text-decoration-color: #8a8a8a\">                                     </span><span style=\"color: #000080; text-decoration-color: #000080\"> </span><span style=\"color: #8a8a8a; text-decoration-color: #8a8a8a\">                                     </span><span style=\"color: #000080; text-decoration-color: #000080\"> </span><span style=\"color: #8a8a8a; text-decoration-color: #8a8a8a\">23.8                                 </span><span style=\"color: #000080; text-decoration-color: #000080\"> </span>\n",
       "<span style=\"color: #000080; text-decoration-color: #000080\">                                                                                                                   </span>\n",
       "The institutional investment manager filing this report and the person by whom it is signed hereby represent that\n",
       "the person signing the report is authorized to submit it, that all information contained herein is true, correct\n",
       "and complete, and that it is understood that all required items, statements, schedules, lists, and tables, are\n",
       "considered integral parts of this form.\n",
       "</pre>\n"
      ],
      "text/plain": [
       "\u001b[34m                                                                                                                   \u001b[0m\n",
       "\u001b[34m \u001b[0m The Securities and Exchange         \u001b[34m \u001b[0m                                     \u001b[34m \u001b[0m                                     \u001b[34m \u001b[0m\n",
       "\u001b[34m \u001b[0m Commission has not necessarily      \u001b[34m \u001b[0m                                     \u001b[34m \u001b[0m                                     \u001b[34m \u001b[0m\n",
       "\u001b[34m \u001b[0m reviewed the information in this    \u001b[34m \u001b[0m                                     \u001b[34m \u001b[0m                                     \u001b[34m \u001b[0m\n",
       "\u001b[34m \u001b[0m filing and has not determined if it \u001b[34m \u001b[0m                                     \u001b[34m \u001b[0m                                     \u001b[34m \u001b[0m\n",
       "\u001b[34m \u001b[0m is accurate and complete.           \u001b[34m \u001b[0m                                     \u001b[34m \u001b[0m                                     \u001b[34m \u001b[0m\n",
       "\u001b[34m \u001b[0m The reader should not assume that   \u001b[34m \u001b[0m                                     \u001b[34m \u001b[0m                                     \u001b[34m \u001b[0m\n",
       "\u001b[34m \u001b[0m the information is accurate and     \u001b[34m \u001b[0m                                     \u001b[34m \u001b[0m                                     \u001b[34m \u001b[0m\n",
       "\u001b[34m \u001b[0m complete.                           \u001b[34m \u001b[0m                                     \u001b[34m \u001b[0m                                     \u001b[34m \u001b[0m\n",
       "\u001b[34m \u001b[0m\u001b[38;5;245m                                     \u001b[0m\u001b[34m \u001b[0m\u001b[38;5;245mUNITED STATES SECURITIES AND        \u001b[0m\u001b[38;5;245m \u001b[0m\u001b[34m \u001b[0m\u001b[38;5;245mOMB APPROVAL                        \u001b[0m\u001b[38;5;245m \u001b[0m\u001b[34m \u001b[0m\n",
       "\u001b[34m \u001b[0m\u001b[38;5;245m                                     \u001b[0m\u001b[34m \u001b[0m\u001b[38;5;245mEXCHANGE COMMISSION                 \u001b[0m\u001b[38;5;245m \u001b[0m\u001b[34m \u001b[0m\u001b[38;5;245m  OMB Number:                       \u001b[0m\u001b[38;5;245m \u001b[0m\u001b[34m \u001b[0m\n",
       "\u001b[34m \u001b[0m\u001b[38;5;245m \u001b[0m\u001b[38;5;245m                                   \u001b[0m\u001b[38;5;245m \u001b[0m\u001b[34m \u001b[0m\u001b[38;5;245mWashington, D.C. 20549              \u001b[0m\u001b[38;5;245m \u001b[0m\u001b[34m \u001b[0m\u001b[38;5;245m3235-0006                           \u001b[0m\u001b[38;5;245m \u001b[0m\u001b[34m \u001b[0m\n",
       "\u001b[34m \u001b[0m\u001b[38;5;245m                                     \u001b[0m\u001b[34m \u001b[0m\u001b[38;5;245mFORM 13F                            \u001b[0m\u001b[38;5;245m \u001b[0m\u001b[34m \u001b[0m\u001b[38;5;245m    Estimated average burden        \u001b[0m\u001b[38;5;245m \u001b[0m\u001b[34m \u001b[0m\n",
       "\u001b[34m \u001b[0m\u001b[38;5;245m                                     \u001b[0m\u001b[34m \u001b[0m\u001b[38;5;245mFORM 13F COVER PAGE                 \u001b[0m\u001b[38;5;245m \u001b[0m\u001b[34m \u001b[0m\u001b[38;5;245m    hours per response:             \u001b[0m\u001b[38;5;245m \u001b[0m\u001b[34m \u001b[0m\n",
       "\u001b[34m \u001b[0m\u001b[38;5;245m                                     \u001b[0m\u001b[34m \u001b[0m\u001b[38;5;245m                                     \u001b[0m\u001b[34m \u001b[0m\u001b[38;5;245m23.8                                \u001b[0m\u001b[38;5;245m \u001b[0m\u001b[34m \u001b[0m\n",
       "\u001b[34m                                                                                                                   \u001b[0m\n",
       "The institutional investment manager filing this report and the person by whom it is signed hereby represent that\n",
       "the person signing the report is authorized to submit it, that all information contained herein is true, correct\n",
       "and complete, and that it is understood that all required items, statements, schedules, lists, and tables, are\n",
       "considered integral parts of this form.\n"
      ]
     },
     "metadata": {},
     "output_type": "display_data"
    }
   ],
   "source": [
    "filing.view()"
   ]
  },
  {
   "cell_type": "code",
   "execution_count": 34,
   "id": "cd7e96d1-8589-4ecc-befb-726e2dfa3cb4",
   "metadata": {},
   "outputs": [],
   "source": [
    "attachments = filing.attachments\n",
    "attachment = filing.attachments[2]\n"
   ]
  },
  {
   "cell_type": "code",
   "execution_count": 36,
   "id": "74f2efcc-b9bd-4a98-bf96-18655e1e5967",
   "metadata": {},
   "outputs": [
    {
     "data": {
      "text/html": [
       "<pre style=\"white-space:pre;overflow-x:auto;line-height:normal;font-family:Menlo,'DejaVu Sans Mono',consolas,'Courier New',monospace\"></pre>\n"
      ],
      "text/plain": []
     },
     "metadata": {},
     "output_type": "display_data"
    },
    {
     "data": {
      "text/plain": [
       "\u001b[3m                                                     Attachments                                                   \u001b[0m\n",
       "╭─────┬───────────────────────┬──────────────────────────────────────────────────────────────┬─────────────────────\n",
       "│\u001b[1;2m \u001b[0m\u001b[1;2mSeq\u001b[0m\u001b[1;2m \u001b[0m│\u001b[1;2m \u001b[0m\u001b[1;2mDocument             \u001b[0m\u001b[1;2m \u001b[0m│\u001b[1;2m \u001b[0m\u001b[1;2mDescription                                                 \u001b[0m\u001b[1;2m \u001b[0m│\u001b[1;2m \u001b[0m\u001b[1;2mType                \u001b[0m\n",
       "├─────┼───────────────────────┼──────────────────────────────────────────────────────────────┼─────────────────────\n",
       "│ \u001b[1;38;5;39m1  \u001b[0m │ \u001b[1;38;5;39mprimary_doc.xml      \u001b[0m │ \u001b[1;38;5;39m                                                            \u001b[0m │ 📜  \u001b[1;38;5;39m13F-HR\u001b[0m          \n",
       "│\u001b[1m \u001b[0m\u001b[1m2  \u001b[0m\u001b[1m \u001b[0m│\u001b[1m \u001b[0m\u001b[1minformation_table.xml\u001b[0m\u001b[1m \u001b[0m│\u001b[1m \u001b[0m\u001b[1mINFORMATION TABLE                                           \u001b[0m\u001b[1m \u001b[0m│\u001b[1m \u001b[0m\u001b[1m📊  INFORMATION TABL\u001b[0m\n",
       "╰─────┴───────────────────────┴──────────────────────────────────────────────────────────────┴─────────────────────"
      ]
     },
     "execution_count": 36,
     "metadata": {},
     "output_type": "execute_result"
    }
   ],
   "source": [
    "attachments"
   ]
  },
  {
   "cell_type": "code",
   "execution_count": 37,
   "id": "c3a89c20-c225-4900-897f-e57a89d769bb",
   "metadata": {},
   "outputs": [],
   "source": [
    "from edgar import Company\n",
    "\n",
    "company = Company(\"AAPL\")\n",
    "financials = company.financials"
   ]
  },
  {
   "cell_type": "code",
   "execution_count": 38,
   "id": "aec10e84-11c3-4a2f-a018-ee4fbe20d611",
   "metadata": {},
   "outputs": [
    {
     "data": {
      "text/html": [
       "<pre style=\"white-space:pre;overflow-x:auto;line-height:normal;font-family:Menlo,'DejaVu Sans Mono',consolas,'Courier New',monospace\"></pre>\n"
      ],
      "text/plain": []
     },
     "metadata": {},
     "output_type": "display_data"
    },
    {
     "data": {
      "text/plain": [
       "                \u001b[1;38;5;39mApple Inc.\u001b[0m Financials                \n",
       "╭───┬───────────────────────────────────────────────╮\n",
       "│ 1 │ \u001b[1mCover Page                                   \u001b[0m │\n",
       "│ 2 │ \u001b[1mConsolidated Balance Sheets                  \u001b[0m │\n",
       "│ 3 │ \u001b[1mIncome Statements                            \u001b[0m │\n",
       "│ 4 │ \u001b[1mConsolidated Statement of Cash Flows         \u001b[0m │\n",
       "│ 5 │ \u001b[1mConsolidated Statement of Shareholders Equity\u001b[0m │\n",
       "│ 6 │ \u001b[1mComprehensive Income Statement               \u001b[0m │\n",
       "╰───┴───────────────────────────────────────────────╯\n",
       "          \u001b[38;5;249mPeriod ending \u001b[0m\u001b[1mSeptember 28, 2024\u001b[0m           "
      ]
     },
     "execution_count": 38,
     "metadata": {},
     "output_type": "execute_result"
    }
   ],
   "source": [
    "financials"
   ]
  },
  {
   "cell_type": "code",
   "execution_count": 39,
   "id": "7325a64a-db0c-4101-b68f-ae6131f12e2f",
   "metadata": {},
   "outputs": [
    {
     "ename": "AttributeError",
     "evalue": "'Financials' object has no attribute 'cash_flow'",
     "output_type": "error",
     "traceback": [
      "\u001b[0;31m---------------------------------------------------------------------------\u001b[0m",
      "\u001b[0;31mAttributeError\u001b[0m                            Traceback (most recent call last)",
      "Cell \u001b[0;32mIn[39], line 3\u001b[0m\n\u001b[1;32m      1\u001b[0m balance_sheet \u001b[38;5;241m=\u001b[39m financials\u001b[38;5;241m.\u001b[39mbalance_sheet\n\u001b[1;32m      2\u001b[0m income_statement \u001b[38;5;241m=\u001b[39m financials\u001b[38;5;241m.\u001b[39mincome\n\u001b[0;32m----> 3\u001b[0m cash_flow_statement \u001b[38;5;241m=\u001b[39m \u001b[43mfinancials\u001b[49m\u001b[38;5;241;43m.\u001b[39;49m\u001b[43mcash_flow\u001b[49m\n",
      "\u001b[0;31mAttributeError\u001b[0m: 'Financials' object has no attribute 'cash_flow'"
     ]
    }
   ],
   "source": [
    "balance_sheet = financials.balance_sheet\n",
    "income_statement = financials.income\n",
    "cash_flow_statement = financials.cash_flow"
   ]
  },
  {
   "cell_type": "code",
   "execution_count": 40,
   "id": "41c1254f-07a6-4ba0-afc2-0c6050e81dfd",
   "metadata": {},
   "outputs": [
    {
     "data": {
      "text/html": [
       "<pre style=\"white-space:pre;overflow-x:auto;line-height:normal;font-family:Menlo,'DejaVu Sans Mono',consolas,'Courier New',monospace\"></pre>\n"
      ],
      "text/plain": []
     },
     "metadata": {},
     "output_type": "display_data"
    },
    {
     "data": {
      "text/plain": [
       "                                             \u001b[1;38;5;38mApple Inc.\u001b[0m                                              \n",
       "                                          \u001b[1mIncome Statements\u001b[0m                                          \n",
       "                                               Annual                                                \n",
       "                                                                                                     \n",
       " \u001b[1m \u001b[0m\u001b[1m                                                  \u001b[0m\u001b[1m \u001b[0m \u001b[1m         \u001b[0m\u001b[1m \u001b[0m \u001b[1m      2024\u001b[0m\u001b[1m \u001b[0m \u001b[1m      2023\u001b[0m\u001b[1m \u001b[0m \u001b[1m      2022\u001b[0m\u001b[1m \u001b[0m \n",
       " ─────────────────────────────────────────────────────────────────────────────────────────────────── \n",
       "  \u001b[38;5;242mNet sales                                         \u001b[0m  \u001b[2;38;5;249mmillions \u001b[0m  \u001b[38;5;242m   391,035\u001b[0m  \u001b[38;5;242m   383,285\u001b[0m  \u001b[38;5;242m   394,328\u001b[0m  \n",
       "  \u001b[38;5;242m  Products                                        \u001b[0m  \u001b[2;38;5;249mmillions \u001b[0m  \u001b[38;5;242m   294,866\u001b[0m  \u001b[38;5;242m   298,085\u001b[0m  \u001b[38;5;242m   316,199\u001b[0m  \n",
       "  \u001b[38;5;242m  Services                                        \u001b[0m  \u001b[2;38;5;249mmillions \u001b[0m  \u001b[38;5;242m    96,169\u001b[0m  \u001b[38;5;242m    85,200\u001b[0m  \u001b[38;5;242m    78,129\u001b[0m  \n",
       "  \u001b[38;5;242mCost of sales                                     \u001b[0m  \u001b[2;38;5;249mmillions \u001b[0m  \u001b[38;5;242m( 210,352)\u001b[0m  \u001b[38;5;242m( 214,137)\u001b[0m  \u001b[38;5;242m( 223,546)\u001b[0m  \n",
       "  \u001b[38;5;242m  Products                                        \u001b[0m  \u001b[2;38;5;249mmillions \u001b[0m  \u001b[38;5;242m( 185,233)\u001b[0m  \u001b[38;5;242m( 189,282)\u001b[0m  \u001b[38;5;242m( 201,471)\u001b[0m  \n",
       "  \u001b[38;5;242m  Services                                        \u001b[0m  \u001b[2;38;5;249mmillions \u001b[0m  \u001b[38;5;242m(  25,119)\u001b[0m  \u001b[38;5;242m(  24,855)\u001b[0m  \u001b[38;5;242m(  22,075)\u001b[0m  \n",
       "  \u001b[1;38;5;32mGross margin                                      \u001b[0m  \u001b[2;38;5;249mmillions \u001b[0m  \u001b[1;38;5;32m   180,683\u001b[0m  \u001b[1;38;5;32m   169,148\u001b[0m  \u001b[1;38;5;32m   170,782\u001b[0m  \n",
       "  \u001b[38;5;242m  Research and development                        \u001b[0m  \u001b[2;38;5;249mmillions \u001b[0m  \u001b[38;5;242m    31,370\u001b[0m  \u001b[38;5;242m    29,915\u001b[0m  \u001b[38;5;242m    26,251\u001b[0m  \n",
       "  \u001b[38;5;242m  Selling, general and administrative             \u001b[0m  \u001b[2;38;5;249mmillions \u001b[0m  \u001b[38;5;242m    26,097\u001b[0m  \u001b[38;5;242m    24,932\u001b[0m  \u001b[38;5;242m    25,094\u001b[0m  \n",
       "  \u001b[1;38;5;32m  Total operating expenses                        \u001b[0m  \u001b[2;38;5;249mmillions \u001b[0m  \u001b[1;38;5;32m(  57,467)\u001b[0m  \u001b[1;38;5;32m(  54,847)\u001b[0m  \u001b[1;38;5;32m(  51,345)\u001b[0m  \n",
       "  \u001b[1;38;5;32mOperating income                                  \u001b[0m  \u001b[2;38;5;249mmillions \u001b[0m  \u001b[1;38;5;32m   123,216\u001b[0m  \u001b[1;38;5;32m   114,301\u001b[0m  \u001b[1;38;5;32m   119,437\u001b[0m  \n",
       "  \u001b[38;5;242mOther income/(expense), net                       \u001b[0m  \u001b[2;38;5;249mmillions \u001b[0m  \u001b[38;5;242m       269\u001b[0m  \u001b[38;5;242m(     565)\u001b[0m  \u001b[38;5;242m(     334)\u001b[0m  \n",
       "  \u001b[1;38;5;32mIncome before provision for income taxes          \u001b[0m  \u001b[2;38;5;249mmillions \u001b[0m  \u001b[1;38;5;32m   123,485\u001b[0m  \u001b[1;38;5;32m   113,736\u001b[0m  \u001b[1;38;5;32m   119,103\u001b[0m  \n",
       "  \u001b[38;5;242mProvision for income taxes                        \u001b[0m  \u001b[2;38;5;249mmillions \u001b[0m  \u001b[38;5;242m(  29,749)\u001b[0m  \u001b[38;5;242m(  16,741)\u001b[0m  \u001b[38;5;242m(  19,300)\u001b[0m  \n",
       "  \u001b[1;38;5;32mNet income                                        \u001b[0m  \u001b[2;38;5;249mmillions \u001b[0m  \u001b[1;38;5;32m    93,736\u001b[0m  \u001b[1;38;5;32m    96,995\u001b[0m  \u001b[1;38;5;32m    99,803\u001b[0m  \n",
       "  \u001b[38;5;242m  Basic (in dollars per share)                    \u001b[0m  \u001b[2;38;5;249m         \u001b[0m  \u001b[38;5;242m      6.11\u001b[0m  \u001b[38;5;242m      6.16\u001b[0m  \u001b[38;5;242m      6.15\u001b[0m  \n",
       "  \u001b[38;5;242m  Diluted (in dollars per share)                  \u001b[0m  \u001b[2;38;5;249m         \u001b[0m  \u001b[38;5;242m      6.08\u001b[0m  \u001b[38;5;242m      6.13\u001b[0m  \u001b[38;5;242m      6.11\u001b[0m  \n",
       "  \u001b[38;5;242m  Basic (in shares)                               \u001b[0m  \u001b[2;38;5;249mthousands\u001b[0m  \u001b[38;5;242m15,343,783\u001b[0m  \u001b[38;5;242m15,744,231\u001b[0m  \u001b[38;5;242m16,215,963\u001b[0m  \n",
       "  \u001b[38;5;242m  Diluted (in shares)                             \u001b[0m  \u001b[2;38;5;249mthousands\u001b[0m  \u001b[38;5;242m15,408,095\u001b[0m  \u001b[38;5;242m15,812,547\u001b[0m  \u001b[38;5;242m16,325,819\u001b[0m  \n",
       "                                                                                                     "
      ]
     },
     "execution_count": 40,
     "metadata": {},
     "output_type": "execute_result"
    }
   ],
   "source": [
    "income_statement"
   ]
  },
  {
   "cell_type": "code",
   "execution_count": 41,
   "id": "1ce2aaea-12c9-4a23-b128-2edd37085495",
   "metadata": {},
   "outputs": [
    {
     "data": {
      "text/html": [
       "<pre style=\"white-space:pre;overflow-x:auto;line-height:normal;font-family:Menlo,'DejaVu Sans Mono',consolas,'Courier New',monospace\"></pre>\n"
      ],
      "text/plain": []
     },
     "metadata": {},
     "output_type": "display_data"
    },
    {
     "data": {
      "text/plain": [
       "                                       \u001b[1;38;5;38mApple Inc.\u001b[0m                                        \n",
       "                               \u001b[1mConsolidated Balance Sheets\u001b[0m                               \n",
       "                                         Annual                                          \n",
       "                                                                                         \n",
       " \u001b[1m \u001b[0m\u001b[1m                                                  \u001b[0m\u001b[1m \u001b[0m \u001b[1m         \u001b[0m\u001b[1m \u001b[0m \u001b[1m      2024\u001b[0m\u001b[1m \u001b[0m \u001b[1m      2023\u001b[0m\u001b[1m \u001b[0m \n",
       " ─────────────────────────────────────────────────────────────────────────────────────── \n",
       "  \u001b[38;5;242m    Cash and cash equivalents                     \u001b[0m  \u001b[2;38;5;249mmillions \u001b[0m  \u001b[38;5;242m    29,943\u001b[0m  \u001b[38;5;242m    29,965\u001b[0m  \n",
       "  \u001b[38;5;242m    Marketable securities                         \u001b[0m  \u001b[2;38;5;249mmillions \u001b[0m  \u001b[38;5;242m    35,228\u001b[0m  \u001b[38;5;242m    31,590\u001b[0m  \n",
       "  \u001b[38;5;242m    Accounts receivable, net                      \u001b[0m  \u001b[2;38;5;249mmillions \u001b[0m  \u001b[38;5;242m    33,410\u001b[0m  \u001b[38;5;242m    29,508\u001b[0m  \n",
       "  \u001b[38;5;242m    Vendor non-trade receivables                  \u001b[0m  \u001b[2;38;5;249mmillions \u001b[0m  \u001b[38;5;242m    32,833\u001b[0m  \u001b[38;5;242m    31,477\u001b[0m  \n",
       "  \u001b[38;5;242m    Inventories                                   \u001b[0m  \u001b[2;38;5;249mmillions \u001b[0m  \u001b[38;5;242m     7,286\u001b[0m  \u001b[38;5;242m     6,331\u001b[0m  \n",
       "  \u001b[38;5;242m    Other current assets                          \u001b[0m  \u001b[2;38;5;249mmillions \u001b[0m  \u001b[38;5;242m    14,287\u001b[0m  \u001b[38;5;242m    14,695\u001b[0m  \n",
       "  \u001b[1;38;5;32m    Total current assets                          \u001b[0m  \u001b[2;38;5;249mmillions \u001b[0m  \u001b[1;38;5;32m   152,987\u001b[0m  \u001b[1;38;5;32m   143,566\u001b[0m  \n",
       "  \u001b[38;5;242m    Marketable securities                         \u001b[0m  \u001b[2;38;5;249mmillions \u001b[0m  \u001b[38;5;242m    91,479\u001b[0m  \u001b[38;5;242m   100,544\u001b[0m  \n",
       "  \u001b[38;5;242m    Property, plant and equipment, net            \u001b[0m  \u001b[2;38;5;249mmillions \u001b[0m  \u001b[38;5;242m    45,680\u001b[0m  \u001b[38;5;242m    43,715\u001b[0m  \n",
       "  \u001b[38;5;242m    Other non-current assets                      \u001b[0m  \u001b[2;38;5;249mmillions \u001b[0m  \u001b[38;5;242m    74,834\u001b[0m  \u001b[38;5;242m    64,758\u001b[0m  \n",
       "  \u001b[1;38;5;32m    Total non-current assets                      \u001b[0m  \u001b[2;38;5;249mmillions \u001b[0m  \u001b[1;38;5;32m   211,993\u001b[0m  \u001b[1;38;5;32m   209,017\u001b[0m  \n",
       "  \u001b[1;38;5;32m  Total assets                                    \u001b[0m  \u001b[2;38;5;249mmillions \u001b[0m  \u001b[1;38;5;32m   364,980\u001b[0m  \u001b[1;38;5;32m   352,583\u001b[0m  \n",
       "  \u001b[38;5;242m    Accounts payable                              \u001b[0m  \u001b[2;38;5;249mmillions \u001b[0m  \u001b[38;5;242m    68,960\u001b[0m  \u001b[38;5;242m    62,611\u001b[0m  \n",
       "  \u001b[38;5;242m    Other current liabilities                     \u001b[0m  \u001b[2;38;5;249mmillions \u001b[0m  \u001b[38;5;242m    78,304\u001b[0m  \u001b[38;5;242m    58,829\u001b[0m  \n",
       "  \u001b[38;5;242m    Deferred revenue                              \u001b[0m  \u001b[2;38;5;249mmillions \u001b[0m  \u001b[38;5;242m     8,249\u001b[0m  \u001b[38;5;242m     8,061\u001b[0m  \n",
       "  \u001b[38;5;242m    Commercial paper                              \u001b[0m  \u001b[2;38;5;249mmillions \u001b[0m  \u001b[38;5;242m     9,967\u001b[0m  \u001b[38;5;242m     5,985\u001b[0m  \n",
       "  \u001b[38;5;242m    Term debt                                     \u001b[0m  \u001b[2;38;5;249mmillions \u001b[0m  \u001b[38;5;242m    10,912\u001b[0m  \u001b[38;5;242m     9,822\u001b[0m  \n",
       "  \u001b[1;38;5;32m    Total current liabilities                     \u001b[0m  \u001b[2;38;5;249mmillions \u001b[0m  \u001b[1;38;5;32m   176,392\u001b[0m  \u001b[1;38;5;32m   145,308\u001b[0m  \n",
       "  \u001b[38;5;242m    Term debt                                     \u001b[0m  \u001b[2;38;5;249mmillions \u001b[0m  \u001b[38;5;242m    85,750\u001b[0m  \u001b[38;5;242m    95,281\u001b[0m  \n",
       "  \u001b[38;5;242m    Other non-current liabilities                 \u001b[0m  \u001b[2;38;5;249mmillions \u001b[0m  \u001b[38;5;242m    45,888\u001b[0m  \u001b[38;5;242m    49,848\u001b[0m  \n",
       "  \u001b[1;38;5;32m    Total non-current liabilities                 \u001b[0m  \u001b[2;38;5;249mmillions \u001b[0m  \u001b[1;38;5;32m   131,638\u001b[0m  \u001b[1;38;5;32m   145,129\u001b[0m  \n",
       "  \u001b[1;38;5;32m  Total liabilities                               \u001b[0m  \u001b[2;38;5;249mmillions \u001b[0m  \u001b[1;38;5;32m   308,030\u001b[0m  \u001b[1;38;5;32m   290,437\u001b[0m  \n",
       "  \u001b[38;5;242m  Commitments and contingencies                   \u001b[0m  \u001b[2;38;5;249m         \u001b[0m  \u001b[38;5;242m          \u001b[0m  \u001b[38;5;242m          \u001b[0m  \n",
       "  \u001b[38;5;242m  Common stock, shares outstanding (in shares)    \u001b[0m  \u001b[2;38;5;249mthousands\u001b[0m  \u001b[38;5;242m15,116,786\u001b[0m  \u001b[38;5;242m15,550,061\u001b[0m  \n",
       "  \u001b[38;5;242m  Common stock, shares issued (in shares)         \u001b[0m  \u001b[2;38;5;249mthousands\u001b[0m  \u001b[38;5;242m15,116,786\u001b[0m  \u001b[38;5;242m15,550,061\u001b[0m  \n",
       "  \u001b[38;5;242m    Common stock and additional paid-in capital,  \u001b[0m  \u001b[2;38;5;249mmillions \u001b[0m  \u001b[38;5;242m    83,276\u001b[0m  \u001b[38;5;242m    73,812\u001b[0m  \n",
       "  \u001b[38;5;242m$0.00001 par value: 50,400,000 shares authorized; \u001b[0m                                     \n",
       "  \u001b[38;5;242m15,116,786 and 15,550,061 shares issued and       \u001b[0m                                     \n",
       "  \u001b[38;5;242moutstanding, respectively                         \u001b[0m                                     \n",
       "  \u001b[38;5;242m    Accumulated deficit                           \u001b[0m  \u001b[2;38;5;249mmillions \u001b[0m  \u001b[38;5;242m(  19,154)\u001b[0m  \u001b[38;5;242m(     214)\u001b[0m  \n",
       "  \u001b[38;5;242m    Accumulated other comprehensive loss          \u001b[0m  \u001b[2;38;5;249mmillions \u001b[0m  \u001b[38;5;242m(   7,172)\u001b[0m  \u001b[38;5;242m(  11,452)\u001b[0m  \n",
       "  \u001b[1;38;5;32m    Total shareholders’ equity                    \u001b[0m  \u001b[2;38;5;249mmillions \u001b[0m  \u001b[1;38;5;32m    56,950\u001b[0m  \u001b[1;38;5;32m    62,146\u001b[0m  \n",
       "  \u001b[1;38;5;32m  Total liabilities and shareholders’ equity      \u001b[0m  \u001b[2;38;5;249mmillions \u001b[0m  \u001b[1;38;5;32m   364,980\u001b[0m  \u001b[1;38;5;32m   352,583\u001b[0m  \n",
       "                                                                                         "
      ]
     },
     "execution_count": 41,
     "metadata": {},
     "output_type": "execute_result"
    }
   ],
   "source": [
    "balance_sheet"
   ]
  },
  {
   "cell_type": "code",
   "execution_count": null,
   "id": "982b6f37-231f-4404-b181-f312b6a3afef",
   "metadata": {},
   "outputs": [],
   "source": []
  }
 ],
 "metadata": {
  "kernelspec": {
   "display_name": "Python 3.12 (PyTorch)",
   "language": "python",
   "name": "torch-ml-312"
  },
  "language_info": {
   "codemirror_mode": {
    "name": "ipython",
    "version": 3
   },
   "file_extension": ".py",
   "mimetype": "text/x-python",
   "name": "python",
   "nbconvert_exporter": "python",
   "pygments_lexer": "ipython3",
   "version": "3.12.7"
  }
 },
 "nbformat": 4,
 "nbformat_minor": 5
}
