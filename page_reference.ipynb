{
 "cells": [
  {
   "cell_type": "code",
   "execution_count": 1,
   "id": "fbafe883",
   "metadata": {},
   "outputs": [],
   "source": [
    "\n",
    "from llama_index import (\n",
    "    SimpleDirectoryReader,\n",
    "    VectorStoreIndex,\n",
    "    download_loader,\n",
    "    RAKEKeywordTableIndex,\n",
    ")"
   ]
  },
  {
   "cell_type": "code",
   "execution_count": 14,
   "id": "f3dc2e6e",
   "metadata": {},
   "outputs": [],
   "source": [
    "from llama_index import ServiceContext\n",
    "from llama_index.llms import OpenAI\n",
    "\n",
    "service_context = ServiceContext.from_defaults(\n",
    "    llm=OpenAI(temperature=1, model=\"gpt-4\")\n",
    ")"
   ]
  },
  {
   "cell_type": "code",
   "execution_count": 15,
   "id": "9f1c21c4",
   "metadata": {},
   "outputs": [],
   "source": [
    "reader = SimpleDirectoryReader(\"data\")\n",
    "data = reader.load_data()"
   ]
  },
  {
   "cell_type": "code",
   "execution_count": 16,
   "id": "734cb6e8",
   "metadata": {},
   "outputs": [],
   "source": [
    "index = VectorStoreIndex.from_documents(data, service_context=service_context)\n",
    "query_engine = index.as_query_engine(streaming=True, similarity_top_k=3)"
   ]
  },
  {
   "cell_type": "code",
   "execution_count": 17,
   "id": "aa1091a0",
   "metadata": {},
   "outputs": [
    {
     "name": "stdout",
     "output_type": "stream",
     "text": [
      "- AI demands more computing and general computing alone is not sufficient anymore. Accelerated computing is being seen as the prospect for future progress. (page_label: 18)\n",
      "- The sell-through for our gaming business was stated to be around $5 billion in two quarters. The third quarter had a solid sell-through. Challenges still exist in the China business due to the lockdowns, but notebook sell-throughs have remained quite strong, with desktop sell-through a bit softer. Stronger end demand is expected for the fourth quarter. (page_label: 6)\n",
      "- There is an increase in demand for AI in many sectors. Deep recommender systems and large language models are seeing important breakthroughs. Generative AI is starting to emerge as another important area. (page_label: 6)\n",
      "- During the third quarter, NVIDIA's revenue was $5.93 billion. Although this was a decrease of 12% sequentially and 17% year-on-year, the company saw record revenue from data center and automotive, while gaming and pro visualization platforms saw declines. (page_label: 1)"
     ]
    }
   ],
   "source": [
    "response = query_engine.query(\n",
    "    \"What are the key points? Show statements in bullet form and show\"\n",
    "    \" page reference after each statement.\"\n",
    ")\n",
    "response.print_response_stream()"
   ]
  },
  {
   "cell_type": "code",
   "execution_count": 19,
   "id": "a624bd56",
   "metadata": {},
   "outputs": [
    {
     "name": "stdout",
     "output_type": "stream",
     "text": [
      "- AI requires more advanced computing capabilities, moving beyond general computing towards accelerated computing. (page 18)\n",
      "- AI is linked to two significant dynamics. The first concerns the limitations of general-purpose computing, hence the need for acceleration. The second concerns AI's rising demand, particularly in critical segments, and the breakthroughs in AI, such as deep recommender systems, large language models, and generative AI. (page 6)\n",
      "- Significant AI advancements include developments like deep recommender systems for personalized recommendations, advancement in language models understanding various language forms, and generative AI that can create and contribute. (page 6)\n",
      "- AI's surging demand can largely be attributed to its ability to boost productivity, improve cost-efficiency, and power efficiency. (page 7) \n",
      "- NVIDIA’s architecture and full stack are seeing increased demand as many startups desire large installations of their GPU for extensive language model training and the scaling of AI to enterprises and ISP's globally. This is also aiding the movement of NVIDIA's software stacks to the cloud. (page 7)"
     ]
    }
   ],
   "source": [
    "response = query_engine.query(\n",
    "    \"What did they say about artificial intelligence? Show statements in bullet form and show\"\n",
    "    \" page reference after each statement.\"\n",
    ")\n",
    "response.print_response_stream()"
   ]
  },
  {
   "cell_type": "code",
   "execution_count": null,
   "id": "d4630dae",
   "metadata": {},
   "outputs": [],
   "source": []
  }
 ],
 "metadata": {
  "kernelspec": {
   "display_name": "Python (llm)",
   "language": "python",
   "name": "llm"
  },
  "language_info": {
   "codemirror_mode": {
    "name": "ipython",
    "version": 3
   },
   "file_extension": ".py",
   "mimetype": "text/x-python",
   "name": "python",
   "nbconvert_exporter": "python",
   "pygments_lexer": "ipython3",
   "version": "3.10.8"
  }
 },
 "nbformat": 4,
 "nbformat_minor": 5
}
