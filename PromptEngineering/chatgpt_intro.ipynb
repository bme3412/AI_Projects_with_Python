{
 "cells": [
  {
   "cell_type": "code",
   "execution_count": 1,
   "id": "2d855454-c567-46e8-acb8-2f8eafad49d0",
   "metadata": {},
   "outputs": [],
   "source": [
    "import openai\n",
    "import os\n",
    "import IPython\n",
    "openai.api_key = '#'"
   ]
  },
  {
   "cell_type": "code",
   "execution_count": null,
   "id": "458f89f6-b66e-4749-85d4-c75d3651e551",
   "metadata": {},
   "outputs": [],
   "source": []
  },
  {
   "cell_type": "markdown",
   "id": "a295aba1-d927-40b6-b60f-0edb8d1daa97",
   "metadata": {},
   "source": [
    "## Basic ChatGPT API Call"
   ]
  },
  {
   "cell_type": "code",
   "execution_count": 2,
   "id": "cbf4886b-68ac-4873-b3ea-3fac0b5307db",
   "metadata": {},
   "outputs": [],
   "source": [
    "MODEL = 'gpt-3.5-turbo'\n",
    "\n",
    "response = openai.chat.completions.create(\n",
    "    model = MODEL,\n",
    "    messages = [\n",
    "        {'role':'system','content':'You are an AI research assistant with a helpful tone'},\n",
    "        {'role':'user','content':'Hello, who are you?'},\n",
    "        {'role':'assistant','content':'Greeting! I am an AI research assistant. How can I help you?'},\n",
    "        {'role':'user','content':'Can you tell me about the best places to stay in Paris?'},\n",
    "    ],\n",
    "    temperature=0\n",
    ")"
   ]
  },
  {
   "cell_type": "code",
   "execution_count": 3,
   "id": "b2f5737e-0df0-4b17-8d15-64d25d0eafed",
   "metadata": {},
   "outputs": [
    {
     "data": {
      "text/plain": [
       "\"Of course! Paris is a beautiful city with a wide range of accommodation options to suit different preferences and budgets. Here are some popular areas to consider for your stay in Paris:\\n\\n1. **Le Marais**: Known for its historic charm, trendy boutiques, and vibrant nightlife, Le Marais is a great choice for those looking to be in the heart of the action.\\n\\n2. **Saint-Germain-des-Prés**: This upscale neighborhood is famous for its art galleries, high-end shopping, and iconic cafes. It's a great option for those looking for a luxurious stay.\\n\\n3. **Montmartre**: Home to the iconic Sacré-Cœur Basilica and charming cobblestone streets, Montmartre offers a more bohemian and artistic vibe.\\n\\n4. **Champs-Élysées**: If you're looking to be close to major attractions like the Arc de Triomphe and luxury shopping, staying near the Champs-Élysées is a good choice.\\n\\n5. **Latin Quarter**: Known for its lively atmosphere, historic architecture, and proximity to the Sorbonne University, the Latin Quarter is a great option for budget travelers and students.\\n\\nWhen choosing accommodation, consider factors such as proximity to attractions, public transportation, and your budget. Whether you prefer a boutique hotel, a cozy bed and breakfast, or a stylish Airbnb, Paris has something for everyone.\""
      ]
     },
     "execution_count": 3,
     "metadata": {},
     "output_type": "execute_result"
    }
   ],
   "source": [
    "response.choices[0].message.content"
   ]
  },
  {
   "cell_type": "code",
   "execution_count": 4,
   "id": "f4819b83-36cd-488a-9f34-370bd0a513a4",
   "metadata": {},
   "outputs": [
    {
     "data": {
      "text/markdown": [
       "Of course! Paris is a beautiful city with a wide range of accommodation options to suit different preferences and budgets. Here are some popular areas to consider for your stay in Paris:\n",
       "\n",
       "1. **Le Marais**: Known for its historic charm, trendy boutiques, and vibrant nightlife, Le Marais is a great choice for those looking to be in the heart of the action.\n",
       "\n",
       "2. **Saint-Germain-des-Prés**: This upscale neighborhood is famous for its art galleries, high-end shopping, and iconic cafes. It's a great option for those looking for a luxurious stay.\n",
       "\n",
       "3. **Montmartre**: Home to the iconic Sacré-Cœur Basilica and charming cobblestone streets, Montmartre offers a more bohemian and artistic vibe.\n",
       "\n",
       "4. **Champs-Élysées**: If you're looking to be close to major attractions like the Arc de Triomphe and luxury shopping, staying near the Champs-Élysées is a good choice.\n",
       "\n",
       "5. **Latin Quarter**: Known for its lively atmosphere, historic architecture, and proximity to the Sorbonne University, the Latin Quarter is a great option for budget travelers and students.\n",
       "\n",
       "When choosing accommodation, consider factors such as proximity to attractions, public transportation, and your budget. Whether you prefer a boutique hotel, a cozy bed and breakfast, or a stylish Airbnb, Paris has something for everyone."
      ],
      "text/plain": [
       "<IPython.core.display.Markdown object>"
      ]
     },
     "execution_count": 4,
     "metadata": {},
     "output_type": "execute_result"
    }
   ],
   "source": [
    "IPython.display.Markdown(response.choices[0].message.content)"
   ]
  },
  {
   "cell_type": "markdown",
   "id": "334c838e-953b-4bb2-acef-04c10e475b65",
   "metadata": {},
   "source": [
    "## Non-Conversation Request"
   ]
  },
  {
   "cell_type": "code",
   "execution_count": 5,
   "id": "f1559682-7ad6-4a0a-acea-97c0e643b3fd",
   "metadata": {},
   "outputs": [
    {
     "name": "stdout",
     "output_type": "stream",
     "text": [
      "Mice\n"
     ]
    }
   ],
   "source": [
    "CONTENT = \"\"\"Answer the question based on the context below. Keep the answer short and concise. Respond \\\"Unsure about answer\\\" if not sure about the answer.\n",
    "\n",
    "Context: Teplizumab traces its roots to a New Jersey drug company called Ortho Pharmaceutical. There, scientists generated an early version of the antibody, dubbed OKT3. Originally sourced from mice, the molecule was able to bind to the surface of T cells and limit their cell-killing potential. In 1986, it was approved to help prevent organ rejection after kidney transplants, making it the first therapeutic antibody allowed for human use.\n",
    "\n",
    "Question: What was OKT3 originally sourced from?\n",
    "\n",
    "Answer:\n",
    "\"\"\"\n",
    "\n",
    "response = openai.chat.completions.create(\n",
    "    model = MODEL,\n",
    "    messages = [\n",
    "        {'role':'user','content':CONTENT},\n",
    "    ],\n",
    "    temperature=0,\n",
    ")\n",
    "\n",
    "print(response.choices[0].message.content)"
   ]
  },
  {
   "cell_type": "markdown",
   "id": "1fa570ff-96e8-4e93-803e-7e7c485126c1",
   "metadata": {},
   "source": [
    "## Before TipOFF"
   ]
  },
  {
   "cell_type": "code",
   "execution_count": 12,
   "id": "987dcf07-f6ab-449b-bd76-efa58b7b0809",
   "metadata": {},
   "outputs": [],
   "source": [
    "response = openai.chat.completions.create(\n",
    "    model = MODEL,\n",
    "    messages = [\n",
    "        {'role':'system','content':'You are an AI research assistant with a helpful tone that responds with bullet point answers'},\n",
    "        {'role':'user','content':'Hello, who are you?'},\n",
    "        {'role':'assistant','content':'Greeting! I am an AI research assistant. How can I help you?'},\n",
    "        {'role':'user','content':'Hi, I am coming from out of town to see a Celtics game in Boston. Please provide the following: info about the arena, what restaurants to visit before the game, and where to park my car'},\n",
    "    ],\n",
    "    temperature=.3\n",
    ")"
   ]
  },
  {
   "cell_type": "code",
   "execution_count": 13,
   "id": "5f460be5-abc9-4461-b0c2-6e6b13134155",
   "metadata": {},
   "outputs": [
    {
     "data": {
      "text/markdown": [
       "Of course! Here is some information for your Celtics game in Boston:\n",
       "\n",
       "**Arena Info:**\n",
       "- The Celtics play at the TD Garden, located at 100 Legends Way, Boston, MA 02114.\n",
       "- The arena has a seating capacity of around 19,500 for basketball games.\n",
       "- It is easily accessible by public transportation, with North Station nearby for commuter rail and subway access.\n",
       "\n",
       "**Restaurants to Visit Before the Game:**\n",
       "- The Fours: A popular sports bar near the arena with a great atmosphere and classic American fare.\n",
       "- Banners Kitchen & Tap: Located inside the TD Garden, offering a variety of food and drink options before the game.\n",
       "- Boston Beer Works: A brewpub with a selection of craft beers and pub food, perfect for pre-game drinks and snacks.\n",
       "\n",
       "**Parking Options:**\n",
       "- TD Garden offers parking in their official lots, but they can fill up quickly on game days. It's recommended to arrive early if you plan to park there.\n",
       "- There are several parking garages and lots in the area around the arena, but they can be pricey. Consider using public transportation or rideshare services to avoid parking hassles.\n",
       "\n",
       "Enjoy the game and your time in Boston!"
      ],
      "text/plain": [
       "<IPython.core.display.Markdown object>"
      ]
     },
     "execution_count": 13,
     "metadata": {},
     "output_type": "execute_result"
    }
   ],
   "source": [
    "IPython.display.Markdown(response.choices[0].message.content)"
   ]
  },
  {
   "cell_type": "code",
   "execution_count": null,
   "id": "26511752-5ac7-4513-9e13-6a3c7c179e4e",
   "metadata": {},
   "outputs": [],
   "source": []
  }
 ],
 "metadata": {
  "kernelspec": {
   "display_name": "Python 3 (ipykernel)",
   "language": "python",
   "name": "python3"
  },
  "language_info": {
   "codemirror_mode": {
    "name": "ipython",
    "version": 3
   },
   "file_extension": ".py",
   "mimetype": "text/x-python",
   "name": "python",
   "nbconvert_exporter": "python",
   "pygments_lexer": "ipython3",
   "version": "3.10.8"
  }
 },
 "nbformat": 4,
 "nbformat_minor": 5
}
